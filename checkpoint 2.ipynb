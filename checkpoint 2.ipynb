{
 "cells": [
  {
   "cell_type": "code",
   "execution_count": 2,
   "metadata": {},
   "outputs": [],
   "source": [
    "import pandas as pd\n",
    "import numpy as np \n",
    "import seaborn as sns \n",
    "import matplotlib.pyplot as plt\n"
   ]
  },
  {
   "cell_type": "code",
   "execution_count": 3,
   "metadata": {},
   "outputs": [],
   "source": [
    "df=pd.read_csv(\"titanic.csv\")"
   ]
  },
  {
   "cell_type": "code",
   "execution_count": 4,
   "metadata": {},
   "outputs": [
    {
     "data": {
      "text/html": [
       "<div>\n",
       "<style scoped>\n",
       "    .dataframe tbody tr th:only-of-type {\n",
       "        vertical-align: middle;\n",
       "    }\n",
       "\n",
       "    .dataframe tbody tr th {\n",
       "        vertical-align: top;\n",
       "    }\n",
       "\n",
       "    .dataframe thead th {\n",
       "        text-align: right;\n",
       "    }\n",
       "</style>\n",
       "<table border=\"1\" class=\"dataframe\">\n",
       "  <thead>\n",
       "    <tr style=\"text-align: right;\">\n",
       "      <th></th>\n",
       "      <th>pclass</th>\n",
       "      <th>survived</th>\n",
       "      <th>name</th>\n",
       "      <th>sex</th>\n",
       "      <th>age</th>\n",
       "      <th>sibsp</th>\n",
       "      <th>parch</th>\n",
       "      <th>ticket</th>\n",
       "      <th>fare</th>\n",
       "      <th>cabin</th>\n",
       "      <th>embarked</th>\n",
       "      <th>boat</th>\n",
       "      <th>body</th>\n",
       "      <th>home.dest</th>\n",
       "    </tr>\n",
       "  </thead>\n",
       "  <tbody>\n",
       "    <tr>\n",
       "      <th>0</th>\n",
       "      <td>1.0</td>\n",
       "      <td>1.0</td>\n",
       "      <td>Allen, Miss. Elisabeth Walton</td>\n",
       "      <td>female</td>\n",
       "      <td>29.0000</td>\n",
       "      <td>0.0</td>\n",
       "      <td>0.0</td>\n",
       "      <td>24160</td>\n",
       "      <td>211.3375</td>\n",
       "      <td>B5</td>\n",
       "      <td>S</td>\n",
       "      <td>2</td>\n",
       "      <td>NaN</td>\n",
       "      <td>St Louis, MO</td>\n",
       "    </tr>\n",
       "    <tr>\n",
       "      <th>1</th>\n",
       "      <td>1.0</td>\n",
       "      <td>1.0</td>\n",
       "      <td>Allison, Master. Hudson Trevor</td>\n",
       "      <td>male</td>\n",
       "      <td>0.9167</td>\n",
       "      <td>1.0</td>\n",
       "      <td>2.0</td>\n",
       "      <td>113781</td>\n",
       "      <td>151.5500</td>\n",
       "      <td>C22 C26</td>\n",
       "      <td>S</td>\n",
       "      <td>11</td>\n",
       "      <td>NaN</td>\n",
       "      <td>Montreal, PQ / Chesterville, ON</td>\n",
       "    </tr>\n",
       "    <tr>\n",
       "      <th>2</th>\n",
       "      <td>1.0</td>\n",
       "      <td>0.0</td>\n",
       "      <td>Allison, Miss. Helen Loraine</td>\n",
       "      <td>female</td>\n",
       "      <td>2.0000</td>\n",
       "      <td>1.0</td>\n",
       "      <td>2.0</td>\n",
       "      <td>113781</td>\n",
       "      <td>151.5500</td>\n",
       "      <td>C22 C26</td>\n",
       "      <td>S</td>\n",
       "      <td>NaN</td>\n",
       "      <td>NaN</td>\n",
       "      <td>Montreal, PQ / Chesterville, ON</td>\n",
       "    </tr>\n",
       "    <tr>\n",
       "      <th>3</th>\n",
       "      <td>1.0</td>\n",
       "      <td>0.0</td>\n",
       "      <td>Allison, Mr. Hudson Joshua Creighton</td>\n",
       "      <td>male</td>\n",
       "      <td>30.0000</td>\n",
       "      <td>1.0</td>\n",
       "      <td>2.0</td>\n",
       "      <td>113781</td>\n",
       "      <td>151.5500</td>\n",
       "      <td>C22 C26</td>\n",
       "      <td>S</td>\n",
       "      <td>NaN</td>\n",
       "      <td>135.0</td>\n",
       "      <td>Montreal, PQ / Chesterville, ON</td>\n",
       "    </tr>\n",
       "    <tr>\n",
       "      <th>4</th>\n",
       "      <td>1.0</td>\n",
       "      <td>0.0</td>\n",
       "      <td>Allison, Mrs. Hudson J C (Bessie Waldo Daniels)</td>\n",
       "      <td>female</td>\n",
       "      <td>25.0000</td>\n",
       "      <td>1.0</td>\n",
       "      <td>2.0</td>\n",
       "      <td>113781</td>\n",
       "      <td>151.5500</td>\n",
       "      <td>C22 C26</td>\n",
       "      <td>S</td>\n",
       "      <td>NaN</td>\n",
       "      <td>NaN</td>\n",
       "      <td>Montreal, PQ / Chesterville, ON</td>\n",
       "    </tr>\n",
       "  </tbody>\n",
       "</table>\n",
       "</div>"
      ],
      "text/plain": [
       "   pclass  survived                                             name     sex  \\\n",
       "0     1.0       1.0                    Allen, Miss. Elisabeth Walton  female   \n",
       "1     1.0       1.0                   Allison, Master. Hudson Trevor    male   \n",
       "2     1.0       0.0                     Allison, Miss. Helen Loraine  female   \n",
       "3     1.0       0.0             Allison, Mr. Hudson Joshua Creighton    male   \n",
       "4     1.0       0.0  Allison, Mrs. Hudson J C (Bessie Waldo Daniels)  female   \n",
       "\n",
       "       age  sibsp  parch  ticket      fare    cabin embarked boat   body  \\\n",
       "0  29.0000    0.0    0.0   24160  211.3375       B5        S    2    NaN   \n",
       "1   0.9167    1.0    2.0  113781  151.5500  C22 C26        S   11    NaN   \n",
       "2   2.0000    1.0    2.0  113781  151.5500  C22 C26        S  NaN    NaN   \n",
       "3  30.0000    1.0    2.0  113781  151.5500  C22 C26        S  NaN  135.0   \n",
       "4  25.0000    1.0    2.0  113781  151.5500  C22 C26        S  NaN    NaN   \n",
       "\n",
       "                         home.dest  \n",
       "0                     St Louis, MO  \n",
       "1  Montreal, PQ / Chesterville, ON  \n",
       "2  Montreal, PQ / Chesterville, ON  \n",
       "3  Montreal, PQ / Chesterville, ON  \n",
       "4  Montreal, PQ / Chesterville, ON  "
      ]
     },
     "execution_count": 4,
     "metadata": {},
     "output_type": "execute_result"
    }
   ],
   "source": [
    "df.head()"
   ]
  },
  {
   "cell_type": "code",
   "execution_count": 5,
   "metadata": {},
   "outputs": [
    {
     "name": "stdout",
     "output_type": "stream",
     "text": [
      "<class 'pandas.core.frame.DataFrame'>\n",
      "RangeIndex: 1310 entries, 0 to 1309\n",
      "Data columns (total 14 columns):\n",
      " #   Column     Non-Null Count  Dtype  \n",
      "---  ------     --------------  -----  \n",
      " 0   pclass     1309 non-null   float64\n",
      " 1   survived   1309 non-null   float64\n",
      " 2   name       1309 non-null   object \n",
      " 3   sex        1309 non-null   object \n",
      " 4   age        1046 non-null   float64\n",
      " 5   sibsp      1309 non-null   float64\n",
      " 6   parch      1309 non-null   float64\n",
      " 7   ticket     1309 non-null   object \n",
      " 8   fare       1308 non-null   float64\n",
      " 9   cabin      295 non-null    object \n",
      " 10  embarked   1307 non-null   object \n",
      " 11  boat       486 non-null    object \n",
      " 12  body       121 non-null    float64\n",
      " 13  home.dest  745 non-null    object \n",
      "dtypes: float64(7), object(7)\n",
      "memory usage: 143.4+ KB\n"
     ]
    }
   ],
   "source": [
    "df.info()"
   ]
  },
  {
   "cell_type": "code",
   "execution_count": 6,
   "metadata": {},
   "outputs": [
    {
     "data": {
      "text/html": [
       "<div>\n",
       "<style scoped>\n",
       "    .dataframe tbody tr th:only-of-type {\n",
       "        vertical-align: middle;\n",
       "    }\n",
       "\n",
       "    .dataframe tbody tr th {\n",
       "        vertical-align: top;\n",
       "    }\n",
       "\n",
       "    .dataframe thead th {\n",
       "        text-align: right;\n",
       "    }\n",
       "</style>\n",
       "<table border=\"1\" class=\"dataframe\">\n",
       "  <thead>\n",
       "    <tr style=\"text-align: right;\">\n",
       "      <th></th>\n",
       "      <th>pclass</th>\n",
       "      <th>survived</th>\n",
       "      <th>name</th>\n",
       "      <th>sex</th>\n",
       "      <th>age</th>\n",
       "      <th>sibsp</th>\n",
       "      <th>parch</th>\n",
       "      <th>ticket</th>\n",
       "      <th>fare</th>\n",
       "      <th>cabin</th>\n",
       "      <th>embarked</th>\n",
       "      <th>boat</th>\n",
       "      <th>body</th>\n",
       "      <th>home.dest</th>\n",
       "    </tr>\n",
       "  </thead>\n",
       "  <tbody>\n",
       "    <tr>\n",
       "      <th>1305</th>\n",
       "      <td>3.0</td>\n",
       "      <td>0.0</td>\n",
       "      <td>Zabour, Miss. Thamine</td>\n",
       "      <td>female</td>\n",
       "      <td>NaN</td>\n",
       "      <td>1.0</td>\n",
       "      <td>0.0</td>\n",
       "      <td>2665</td>\n",
       "      <td>14.4542</td>\n",
       "      <td>NaN</td>\n",
       "      <td>C</td>\n",
       "      <td>NaN</td>\n",
       "      <td>NaN</td>\n",
       "      <td>NaN</td>\n",
       "    </tr>\n",
       "    <tr>\n",
       "      <th>1306</th>\n",
       "      <td>3.0</td>\n",
       "      <td>0.0</td>\n",
       "      <td>Zakarian, Mr. Mapriededer</td>\n",
       "      <td>male</td>\n",
       "      <td>26.5</td>\n",
       "      <td>0.0</td>\n",
       "      <td>0.0</td>\n",
       "      <td>2656</td>\n",
       "      <td>7.2250</td>\n",
       "      <td>NaN</td>\n",
       "      <td>C</td>\n",
       "      <td>NaN</td>\n",
       "      <td>304.0</td>\n",
       "      <td>NaN</td>\n",
       "    </tr>\n",
       "    <tr>\n",
       "      <th>1307</th>\n",
       "      <td>3.0</td>\n",
       "      <td>0.0</td>\n",
       "      <td>Zakarian, Mr. Ortin</td>\n",
       "      <td>male</td>\n",
       "      <td>27.0</td>\n",
       "      <td>0.0</td>\n",
       "      <td>0.0</td>\n",
       "      <td>2670</td>\n",
       "      <td>7.2250</td>\n",
       "      <td>NaN</td>\n",
       "      <td>C</td>\n",
       "      <td>NaN</td>\n",
       "      <td>NaN</td>\n",
       "      <td>NaN</td>\n",
       "    </tr>\n",
       "    <tr>\n",
       "      <th>1308</th>\n",
       "      <td>3.0</td>\n",
       "      <td>0.0</td>\n",
       "      <td>Zimmerman, Mr. Leo</td>\n",
       "      <td>male</td>\n",
       "      <td>29.0</td>\n",
       "      <td>0.0</td>\n",
       "      <td>0.0</td>\n",
       "      <td>315082</td>\n",
       "      <td>7.8750</td>\n",
       "      <td>NaN</td>\n",
       "      <td>S</td>\n",
       "      <td>NaN</td>\n",
       "      <td>NaN</td>\n",
       "      <td>NaN</td>\n",
       "    </tr>\n",
       "    <tr>\n",
       "      <th>1309</th>\n",
       "      <td>NaN</td>\n",
       "      <td>NaN</td>\n",
       "      <td>NaN</td>\n",
       "      <td>NaN</td>\n",
       "      <td>NaN</td>\n",
       "      <td>NaN</td>\n",
       "      <td>NaN</td>\n",
       "      <td>NaN</td>\n",
       "      <td>NaN</td>\n",
       "      <td>NaN</td>\n",
       "      <td>NaN</td>\n",
       "      <td>NaN</td>\n",
       "      <td>NaN</td>\n",
       "      <td>NaN</td>\n",
       "    </tr>\n",
       "  </tbody>\n",
       "</table>\n",
       "</div>"
      ],
      "text/plain": [
       "      pclass  survived                       name     sex   age  sibsp  parch  \\\n",
       "1305     3.0       0.0      Zabour, Miss. Thamine  female   NaN    1.0    0.0   \n",
       "1306     3.0       0.0  Zakarian, Mr. Mapriededer    male  26.5    0.0    0.0   \n",
       "1307     3.0       0.0        Zakarian, Mr. Ortin    male  27.0    0.0    0.0   \n",
       "1308     3.0       0.0         Zimmerman, Mr. Leo    male  29.0    0.0    0.0   \n",
       "1309     NaN       NaN                        NaN     NaN   NaN    NaN    NaN   \n",
       "\n",
       "      ticket     fare cabin embarked boat   body home.dest  \n",
       "1305    2665  14.4542   NaN        C  NaN    NaN       NaN  \n",
       "1306    2656   7.2250   NaN        C  NaN  304.0       NaN  \n",
       "1307    2670   7.2250   NaN        C  NaN    NaN       NaN  \n",
       "1308  315082   7.8750   NaN        S  NaN    NaN       NaN  \n",
       "1309     NaN      NaN   NaN      NaN  NaN    NaN       NaN  "
      ]
     },
     "execution_count": 6,
     "metadata": {},
     "output_type": "execute_result"
    }
   ],
   "source": [
    "df.tail()"
   ]
  },
  {
   "cell_type": "code",
   "execution_count": 7,
   "metadata": {},
   "outputs": [
    {
     "data": {
      "text/plain": [
       "3869"
      ]
     },
     "execution_count": 7,
     "metadata": {},
     "output_type": "execute_result"
    }
   ],
   "source": [
    "df.isnull().sum().sum()"
   ]
  },
  {
   "cell_type": "code",
   "execution_count": 8,
   "metadata": {},
   "outputs": [
    {
     "data": {
      "text/plain": [
       "pclass          1\n",
       "survived        1\n",
       "name            1\n",
       "sex             1\n",
       "age           264\n",
       "sibsp           1\n",
       "parch           1\n",
       "ticket          1\n",
       "fare            2\n",
       "cabin        1015\n",
       "embarked        3\n",
       "boat          824\n",
       "body         1189\n",
       "home.dest     565\n",
       "dtype: int64"
      ]
     },
     "execution_count": 8,
     "metadata": {},
     "output_type": "execute_result"
    }
   ],
   "source": [
    "df.isnull().sum()"
   ]
  },
  {
   "cell_type": "code",
   "execution_count": 9,
   "metadata": {},
   "outputs": [],
   "source": [
    "df.drop([1309], axis = 0, inplace = True)"
   ]
  },
  {
   "cell_type": "code",
   "execution_count": 10,
   "metadata": {},
   "outputs": [
    {
     "data": {
      "text/plain": [
       "pclass          0\n",
       "survived        0\n",
       "name            0\n",
       "sex             0\n",
       "age           263\n",
       "sibsp           0\n",
       "parch           0\n",
       "ticket          0\n",
       "fare            1\n",
       "cabin        1014\n",
       "embarked        2\n",
       "boat          823\n",
       "body         1188\n",
       "home.dest     564\n",
       "dtype: int64"
      ]
     },
     "execution_count": 10,
     "metadata": {},
     "output_type": "execute_result"
    }
   ],
   "source": [
    "df.isnull().sum()"
   ]
  },
  {
   "cell_type": "code",
   "execution_count": 11,
   "metadata": {},
   "outputs": [],
   "source": [
    "df.drop([\"cabin\"], axis = 1, inplace = True)"
   ]
  },
  {
   "cell_type": "code",
   "execution_count": 12,
   "metadata": {},
   "outputs": [
    {
     "data": {
      "text/plain": [
       "pclass          0\n",
       "survived        0\n",
       "name            0\n",
       "sex             0\n",
       "age           263\n",
       "sibsp           0\n",
       "parch           0\n",
       "ticket          0\n",
       "fare            1\n",
       "embarked        2\n",
       "boat          823\n",
       "body         1188\n",
       "home.dest     564\n",
       "dtype: int64"
      ]
     },
     "execution_count": 12,
     "metadata": {},
     "output_type": "execute_result"
    }
   ],
   "source": [
    "df.isnull().sum()"
   ]
  },
  {
   "cell_type": "code",
   "execution_count": 13,
   "metadata": {},
   "outputs": [],
   "source": [
    "df.drop([\"body\"], axis = 1, inplace = True)\n",
    "df.drop([\"boat\"], axis = 1, inplace = True)"
   ]
  },
  {
   "cell_type": "code",
   "execution_count": 14,
   "metadata": {},
   "outputs": [
    {
     "data": {
      "text/plain": [
       "pclass         0\n",
       "survived       0\n",
       "name           0\n",
       "sex            0\n",
       "age          263\n",
       "sibsp          0\n",
       "parch          0\n",
       "ticket         0\n",
       "fare           1\n",
       "embarked       2\n",
       "home.dest    564\n",
       "dtype: int64"
      ]
     },
     "execution_count": 14,
     "metadata": {},
     "output_type": "execute_result"
    }
   ],
   "source": [
    "df.isnull().sum()"
   ]
  },
  {
   "cell_type": "code",
   "execution_count": 15,
   "metadata": {},
   "outputs": [],
   "source": [
    "df['age'].fillna(df['age'].mean(),inplace=True)"
   ]
  },
  {
   "cell_type": "code",
   "execution_count": 16,
   "metadata": {},
   "outputs": [
    {
     "data": {
      "text/plain": [
       "pclass         0\n",
       "survived       0\n",
       "name           0\n",
       "sex            0\n",
       "age            0\n",
       "sibsp          0\n",
       "parch          0\n",
       "ticket         0\n",
       "fare           1\n",
       "embarked       2\n",
       "home.dest    564\n",
       "dtype: int64"
      ]
     },
     "execution_count": 16,
     "metadata": {},
     "output_type": "execute_result"
    }
   ],
   "source": [
    "df.isnull().sum()"
   ]
  },
  {
   "cell_type": "code",
   "execution_count": 17,
   "metadata": {},
   "outputs": [
    {
     "name": "stdout",
     "output_type": "stream",
     "text": [
      "1309\n",
      "8.0500     60\n",
      "13.0000    59\n",
      "7.7500     55\n",
      "26.0000    50\n",
      "7.8958     49\n",
      "           ..\n",
      "13.7917     1\n",
      "10.7083     1\n",
      "7.7417      1\n",
      "7.8208      1\n",
      "34.6542     1\n",
      "Name: fare, Length: 281, dtype: int64\n"
     ]
    }
   ],
   "source": [
    "nbre=len(df[\"fare\"])\n",
    "print(nbre)\n",
    "print(df[\"fare\"].value_counts())"
   ]
  },
  {
   "cell_type": "code",
   "execution_count": 18,
   "metadata": {},
   "outputs": [],
   "source": [
    "df['fare'].fillna(df['fare'].median(),inplace=True)"
   ]
  },
  {
   "cell_type": "code",
   "execution_count": 19,
   "metadata": {},
   "outputs": [
    {
     "data": {
      "text/plain": [
       "pclass         0\n",
       "survived       0\n",
       "name           0\n",
       "sex            0\n",
       "age            0\n",
       "sibsp          0\n",
       "parch          0\n",
       "ticket         0\n",
       "fare           0\n",
       "embarked       2\n",
       "home.dest    564\n",
       "dtype: int64"
      ]
     },
     "execution_count": 19,
     "metadata": {},
     "output_type": "execute_result"
    }
   ],
   "source": [
    "df.isnull().sum()"
   ]
  },
  {
   "cell_type": "code",
   "execution_count": 20,
   "metadata": {},
   "outputs": [
    {
     "name": "stdout",
     "output_type": "stream",
     "text": [
      "1309\n",
      "S    914\n",
      "C    270\n",
      "Q    123\n",
      "Name: embarked, dtype: int64\n"
     ]
    }
   ],
   "source": [
    "nbre=len(df[\"embarked\"])\n",
    "print(nbre)\n",
    "print(df[\"embarked\"].value_counts())"
   ]
  },
  {
   "cell_type": "code",
   "execution_count": 21,
   "metadata": {},
   "outputs": [],
   "source": [
    "df['embarked'].fillna('S',inplace=True)"
   ]
  },
  {
   "cell_type": "code",
   "execution_count": 22,
   "metadata": {},
   "outputs": [
    {
     "data": {
      "text/plain": [
       "pclass         0\n",
       "survived       0\n",
       "name           0\n",
       "sex            0\n",
       "age            0\n",
       "sibsp          0\n",
       "parch          0\n",
       "ticket         0\n",
       "fare           0\n",
       "embarked       0\n",
       "home.dest    564\n",
       "dtype: int64"
      ]
     },
     "execution_count": 22,
     "metadata": {},
     "output_type": "execute_result"
    }
   ],
   "source": [
    "df.isnull().sum()"
   ]
  },
  {
   "cell_type": "code",
   "execution_count": 23,
   "metadata": {},
   "outputs": [
    {
     "name": "stdout",
     "output_type": "stream",
     "text": [
      "1309\n",
      "New York, NY             64\n",
      "London                   14\n",
      "Montreal, PQ             10\n",
      "Cornwall / Akron, OH      9\n",
      "Paris, France             9\n",
      "                         ..\n",
      "Russia                    1\n",
      "Merrill, WI               1\n",
      "London / Montreal, PQ     1\n",
      "Belfast, NI               1\n",
      "Surbiton Hill, Surrey     1\n",
      "Name: home.dest, Length: 369, dtype: int64\n"
     ]
    }
   ],
   "source": [
    "nbre=len(df[\"home.dest\"])\n",
    "print(nbre)\n",
    "print(df[\"home.dest\"].value_counts())"
   ]
  },
  {
   "cell_type": "code",
   "execution_count": 24,
   "metadata": {},
   "outputs": [],
   "source": [
    "df['home.dest'].fillna('New York, NY',inplace=True)"
   ]
  },
  {
   "cell_type": "code",
   "execution_count": 25,
   "metadata": {},
   "outputs": [
    {
     "data": {
      "text/plain": [
       "pclass       0\n",
       "survived     0\n",
       "name         0\n",
       "sex          0\n",
       "age          0\n",
       "sibsp        0\n",
       "parch        0\n",
       "ticket       0\n",
       "fare         0\n",
       "embarked     0\n",
       "home.dest    0\n",
       "dtype: int64"
      ]
     },
     "execution_count": 25,
     "metadata": {},
     "output_type": "execute_result"
    }
   ],
   "source": [
    "df.isnull().sum()"
   ]
  },
  {
   "cell_type": "code",
   "execution_count": 27,
   "metadata": {},
   "outputs": [],
   "source": [
    "import seaborn as sns \n",
    "import matplotlib.pyplot as plt\n",
    "def plot_correlation_map( df ):\n",
    "\n",
    "    corr = df.corr()\n",
    "\n",
    "    s , ax = plt.subplots( figsize =( 12 , 10 ) )\n",
    "\n",
    "    cmap = sns.diverging_palette( 220 , 10 , as_cmap = True )\n",
    "\n",
    "    s = sns.heatmap(\n",
    "\n",
    "        corr, \n",
    "\n",
    "        cmap = cmap,\n",
    "\n",
    "        square=True, \n",
    "\n",
    "        cbar_kws={ 'shrink' : .9 }, \n",
    "\n",
    "        ax=ax, \n",
    "\n",
    "        annot = True, \n",
    "\n",
    "        annot_kws = { 'fontsize' : 12 }\n",
    "\n",
    "        )"
   ]
  },
  {
   "cell_type": "code",
   "execution_count": 28,
   "metadata": {},
   "outputs": [
    {
     "data": {
      "image/png": "[encoded data removed]",
      "text/plain": [
       "<Figure size 864x720 with 2 Axes>"
      ]
     },
     "metadata": {
      "needs_background": "light"
     },
     "output_type": "display_data"
    }
   ],
   "source": [
    "plot_correlation_map( df )"
   ]
  },
  {
   "cell_type": "code",
   "execution_count": 29,
   "metadata": {},
   "outputs": [
    {
     "data": {
      "text/html": [
       "<div>\n",
       "<style scoped>\n",
       "    .dataframe tbody tr th:only-of-type {\n",
       "        vertical-align: middle;\n",
       "    }\n",
       "\n",
       "    .dataframe tbody tr th {\n",
       "        vertical-align: top;\n",
       "    }\n",
       "\n",
       "    .dataframe thead th {\n",
       "        text-align: right;\n",
       "    }\n",
       "</style>\n",
       "<table border=\"1\" class=\"dataframe\">\n",
       "  <thead>\n",
       "    <tr style=\"text-align: right;\">\n",
       "      <th></th>\n",
       "      <th>survived</th>\n",
       "    </tr>\n",
       "    <tr>\n",
       "      <th>pclass</th>\n",
       "      <th></th>\n",
       "    </tr>\n",
       "  </thead>\n",
       "  <tbody>\n",
       "    <tr>\n",
       "      <th>1.0</th>\n",
       "      <td>0.619195</td>\n",
       "    </tr>\n",
       "    <tr>\n",
       "      <th>2.0</th>\n",
       "      <td>0.429603</td>\n",
       "    </tr>\n",
       "    <tr>\n",
       "      <th>3.0</th>\n",
       "      <td>0.255289</td>\n",
       "    </tr>\n",
       "  </tbody>\n",
       "</table>\n",
       "</div>"
      ],
      "text/plain": [
       "        survived\n",
       "pclass          \n",
       "1.0     0.619195\n",
       "2.0     0.429603\n",
       "3.0     0.255289"
      ]
     },
     "execution_count": 29,
     "metadata": {},
     "output_type": "execute_result"
    }
   ],
   "source": [
    "df[['pclass','survived']].groupby(['pclass'],as_index=True).mean()"
   ]
  },
  {
   "cell_type": "code",
   "execution_count": 30,
   "metadata": {},
   "outputs": [
    {
     "data": {
      "text/html": [
       "<div>\n",
       "<style scoped>\n",
       "    .dataframe tbody tr th:only-of-type {\n",
       "        vertical-align: middle;\n",
       "    }\n",
       "\n",
       "    .dataframe tbody tr th {\n",
       "        vertical-align: top;\n",
       "    }\n",
       "\n",
       "    .dataframe thead th {\n",
       "        text-align: right;\n",
       "    }\n",
       "</style>\n",
       "<table border=\"1\" class=\"dataframe\">\n",
       "  <thead>\n",
       "    <tr style=\"text-align: right;\">\n",
       "      <th></th>\n",
       "      <th>pclass</th>\n",
       "      <th>survived</th>\n",
       "      <th>name</th>\n",
       "      <th>sex</th>\n",
       "      <th>age</th>\n",
       "      <th>sibsp</th>\n",
       "      <th>parch</th>\n",
       "      <th>ticket</th>\n",
       "      <th>fare</th>\n",
       "      <th>embarked</th>\n",
       "      <th>home.dest</th>\n",
       "    </tr>\n",
       "  </thead>\n",
       "  <tbody>\n",
       "    <tr>\n",
       "      <th>0</th>\n",
       "      <td>1.0</td>\n",
       "      <td>1.0</td>\n",
       "      <td>Allen, Miss. Elisabeth Walton</td>\n",
       "      <td>female</td>\n",
       "      <td>29.0000</td>\n",
       "      <td>0.0</td>\n",
       "      <td>0.0</td>\n",
       "      <td>24160</td>\n",
       "      <td>211.3375</td>\n",
       "      <td>S</td>\n",
       "      <td>St Louis, MO</td>\n",
       "    </tr>\n",
       "    <tr>\n",
       "      <th>1</th>\n",
       "      <td>1.0</td>\n",
       "      <td>1.0</td>\n",
       "      <td>Allison, Master. Hudson Trevor</td>\n",
       "      <td>male</td>\n",
       "      <td>0.9167</td>\n",
       "      <td>1.0</td>\n",
       "      <td>2.0</td>\n",
       "      <td>113781</td>\n",
       "      <td>151.5500</td>\n",
       "      <td>S</td>\n",
       "      <td>Montreal, PQ / Chesterville, ON</td>\n",
       "    </tr>\n",
       "    <tr>\n",
       "      <th>2</th>\n",
       "      <td>1.0</td>\n",
       "      <td>0.0</td>\n",
       "      <td>Allison, Miss. Helen Loraine</td>\n",
       "      <td>female</td>\n",
       "      <td>2.0000</td>\n",
       "      <td>1.0</td>\n",
       "      <td>2.0</td>\n",
       "      <td>113781</td>\n",
       "      <td>151.5500</td>\n",
       "      <td>S</td>\n",
       "      <td>Montreal, PQ / Chesterville, ON</td>\n",
       "    </tr>\n",
       "    <tr>\n",
       "      <th>3</th>\n",
       "      <td>1.0</td>\n",
       "      <td>0.0</td>\n",
       "      <td>Allison, Mr. Hudson Joshua Creighton</td>\n",
       "      <td>male</td>\n",
       "      <td>30.0000</td>\n",
       "      <td>1.0</td>\n",
       "      <td>2.0</td>\n",
       "      <td>113781</td>\n",
       "      <td>151.5500</td>\n",
       "      <td>S</td>\n",
       "      <td>Montreal, PQ / Chesterville, ON</td>\n",
       "    </tr>\n",
       "    <tr>\n",
       "      <th>4</th>\n",
       "      <td>1.0</td>\n",
       "      <td>0.0</td>\n",
       "      <td>Allison, Mrs. Hudson J C (Bessie Waldo Daniels)</td>\n",
       "      <td>female</td>\n",
       "      <td>25.0000</td>\n",
       "      <td>1.0</td>\n",
       "      <td>2.0</td>\n",
       "      <td>113781</td>\n",
       "      <td>151.5500</td>\n",
       "      <td>S</td>\n",
       "      <td>Montreal, PQ / Chesterville, ON</td>\n",
       "    </tr>\n",
       "    <tr>\n",
       "      <th>5</th>\n",
       "      <td>1.0</td>\n",
       "      <td>1.0</td>\n",
       "      <td>Anderson, Mr. Harry</td>\n",
       "      <td>male</td>\n",
       "      <td>48.0000</td>\n",
       "      <td>0.0</td>\n",
       "      <td>0.0</td>\n",
       "      <td>19952</td>\n",
       "      <td>26.5500</td>\n",
       "      <td>S</td>\n",
       "      <td>New York, NY</td>\n",
       "    </tr>\n",
       "    <tr>\n",
       "      <th>6</th>\n",
       "      <td>1.0</td>\n",
       "      <td>1.0</td>\n",
       "      <td>Andrews, Miss. Kornelia Theodosia</td>\n",
       "      <td>female</td>\n",
       "      <td>63.0000</td>\n",
       "      <td>1.0</td>\n",
       "      <td>0.0</td>\n",
       "      <td>13502</td>\n",
       "      <td>77.9583</td>\n",
       "      <td>S</td>\n",
       "      <td>Hudson, NY</td>\n",
       "    </tr>\n",
       "    <tr>\n",
       "      <th>7</th>\n",
       "      <td>1.0</td>\n",
       "      <td>0.0</td>\n",
       "      <td>Andrews, Mr. Thomas Jr</td>\n",
       "      <td>male</td>\n",
       "      <td>39.0000</td>\n",
       "      <td>0.0</td>\n",
       "      <td>0.0</td>\n",
       "      <td>112050</td>\n",
       "      <td>0.0000</td>\n",
       "      <td>S</td>\n",
       "      <td>Belfast, NI</td>\n",
       "    </tr>\n",
       "    <tr>\n",
       "      <th>8</th>\n",
       "      <td>1.0</td>\n",
       "      <td>1.0</td>\n",
       "      <td>Appleton, Mrs. Edward Dale (Charlotte Lamson)</td>\n",
       "      <td>female</td>\n",
       "      <td>53.0000</td>\n",
       "      <td>2.0</td>\n",
       "      <td>0.0</td>\n",
       "      <td>11769</td>\n",
       "      <td>51.4792</td>\n",
       "      <td>S</td>\n",
       "      <td>Bayside, Queens, NY</td>\n",
       "    </tr>\n",
       "    <tr>\n",
       "      <th>9</th>\n",
       "      <td>1.0</td>\n",
       "      <td>0.0</td>\n",
       "      <td>Artagaveytia, Mr. Ramon</td>\n",
       "      <td>male</td>\n",
       "      <td>71.0000</td>\n",
       "      <td>0.0</td>\n",
       "      <td>0.0</td>\n",
       "      <td>PC 17609</td>\n",
       "      <td>49.5042</td>\n",
       "      <td>C</td>\n",
       "      <td>Montevideo, Uruguay</td>\n",
       "    </tr>\n",
       "  </tbody>\n",
       "</table>\n",
       "</div>"
      ],
      "text/plain": [
       "   pclass  survived                                             name     sex  \\\n",
       "0     1.0       1.0                    Allen, Miss. Elisabeth Walton  female   \n",
       "1     1.0       1.0                   Allison, Master. Hudson Trevor    male   \n",
       "2     1.0       0.0                     Allison, Miss. Helen Loraine  female   \n",
       "3     1.0       0.0             Allison, Mr. Hudson Joshua Creighton    male   \n",
       "4     1.0       0.0  Allison, Mrs. Hudson J C (Bessie Waldo Daniels)  female   \n",
       "5     1.0       1.0                              Anderson, Mr. Harry    male   \n",
       "6     1.0       1.0                Andrews, Miss. Kornelia Theodosia  female   \n",
       "7     1.0       0.0                           Andrews, Mr. Thomas Jr    male   \n",
       "8     1.0       1.0    Appleton, Mrs. Edward Dale (Charlotte Lamson)  female   \n",
       "9     1.0       0.0                          Artagaveytia, Mr. Ramon    male   \n",
       "\n",
       "       age  sibsp  parch    ticket      fare embarked  \\\n",
       "0  29.0000    0.0    0.0     24160  211.3375        S   \n",
       "1   0.9167    1.0    2.0    113781  151.5500        S   \n",
       "2   2.0000    1.0    2.0    113781  151.5500        S   \n",
       "3  30.0000    1.0    2.0    113781  151.5500        S   \n",
       "4  25.0000    1.0    2.0    113781  151.5500        S   \n",
       "5  48.0000    0.0    0.0     19952   26.5500        S   \n",
       "6  63.0000    1.0    0.0     13502   77.9583        S   \n",
       "7  39.0000    0.0    0.0    112050    0.0000        S   \n",
       "8  53.0000    2.0    0.0     11769   51.4792        S   \n",
       "9  71.0000    0.0    0.0  PC 17609   49.5042        C   \n",
       "\n",
       "                         home.dest  \n",
       "0                     St Louis, MO  \n",
       "1  Montreal, PQ / Chesterville, ON  \n",
       "2  Montreal, PQ / Chesterville, ON  \n",
       "3  Montreal, PQ / Chesterville, ON  \n",
       "4  Montreal, PQ / Chesterville, ON  \n",
       "5                     New York, NY  \n",
       "6                       Hudson, NY  \n",
       "7                      Belfast, NI  \n",
       "8              Bayside, Queens, NY  \n",
       "9              Montevideo, Uruguay  "
      ]
     },
     "execution_count": 30,
     "metadata": {},
     "output_type": "execute_result"
    }
   ],
   "source": [
    "df.head(10)"
   ]
  },
  {
   "cell_type": "code",
   "execution_count": 31,
   "metadata": {},
   "outputs": [
    {
     "name": "stdout",
     "output_type": "stream",
     "text": [
      "[['Allen', ' Miss. Elisabeth Walton'], ['Allison', ' Master. Hudson Trevor'], ['Allison', ' Miss. Helen Loraine'], ['Allison', ' Mr. Hudson Joshua Creighton'], ['Allison', ' Mrs. Hudson J C (Bessie Waldo Daniels)'], ['Anderson', ' Mr. Harry'], ['Andrews', ' Miss. Kornelia Theodosia'], ['Andrews', ' Mr. Thomas Jr'], ['Appleton', ' Mrs. Edward Dale (Charlotte Lamson)'], ['Artagaveytia', ' Mr. Ramon'], ['Astor', ' Col. John Jacob'], ['Astor', ' Mrs. John Jacob (Madeleine Talmadge Force)'], ['Aubart', ' Mme. Leontine Pauline'], ['Barber', ' Miss. Ellen \"Nellie\"'], ['Barkworth', ' Mr. Algernon Henry Wilson'], ['Baumann', ' Mr. John D'], ['Baxter', ' Mr. Quigg Edmond'], ['Baxter', ' Mrs. James (Helene DeLaudeniere Chaput)'], ['Bazzani', ' Miss. Albina'], ['Beattie', ' Mr. Thomson'], ['Beckwith', ' Mr. Richard Leonard'], ['Beckwith', ' Mrs. Richard Leonard (Sallie Monypeny)'], ['Behr', ' Mr. Karl Howell'], ['Bidois', ' Miss. Rosalie'], ['Bird', ' Miss. Ellen'], ['Birnbaum', ' Mr. Jakob'], ['Bishop', ' Mr. Dickinson H'], ['Bishop', ' Mrs. Dickinson H (Helen Walton)'], ['Bissette', ' Miss. Amelia'], ['Bjornstrom-Steffansson', ' Mr. Mauritz Hakan'], ['Blackwell', ' Mr. Stephen Weart'], ['Blank', ' Mr. Henry'], ['Bonnell', ' Miss. Caroline'], ['Bonnell', ' Miss. Elizabeth'], ['Borebank', ' Mr. John James'], ['Bowen', ' Miss. Grace Scott'], ['Bowerman', ' Miss. Elsie Edith'], ['Bradley', ' Mr. George (\"George Arthur Brayton\")'], ['Brady', ' Mr. John Bertram'], ['Brandeis', ' Mr. Emil'], ['Brewe', ' Dr. Arthur Jackson'], ['Brown', ' Mrs. James Joseph (Margaret Tobin)'], ['Brown', ' Mrs. John Murray (Caroline Lane Lamson)'], ['Bucknell', ' Mrs. William Robert (Emma Eliza Ward)'], ['Burns', ' Miss. Elizabeth Margaret'], ['Butt', ' Major. Archibald Willingham'], ['Cairns', ' Mr. Alexander'], ['Calderhead', ' Mr. Edward Pennington'], ['Candee', ' Mrs. Edward (Helen Churchill Hungerford)'], ['Cardeza', ' Mr. Thomas Drake Martinez'], ['Cardeza', ' Mrs. James Warburton Martinez (Charlotte Wardle Drake)'], ['Carlsson', ' Mr. Frans Olof'], ['Carrau', ' Mr. Francisco M'], ['Carrau', ' Mr. Jose Pedro'], ['Carter', ' Master. William Thornton II'], ['Carter', ' Miss. Lucile Polk'], ['Carter', ' Mr. William Ernest'], ['Carter', ' Mrs. William Ernest (Lucile Polk)'], ['Case', ' Mr. Howard Brown'], ['Cassebeer', ' Mrs. Henry Arthur Jr (Eleanor Genevieve Fosdick)'], ['Cavendish', ' Mr. Tyrell William'], ['Cavendish', ' Mrs. Tyrell William (Julia Florence Siegel)'], ['Chaffee', ' Mr. Herbert Fuller'], ['Chaffee', ' Mrs. Herbert Fuller (Carrie Constance Toogood)'], ['Chambers', ' Mr. Norman Campbell'], ['Chambers', ' Mrs. Norman Campbell (Bertha Griggs)'], ['Chaudanson', ' Miss. Victorine'], ['Cherry', ' Miss. Gladys'], ['Chevre', ' Mr. Paul Romaine'], ['Chibnall', ' Mrs. (Edith Martha Bowerman)'], ['Chisholm', ' Mr. Roderick Robert Crispin'], ['Clark', ' Mr. Walter Miller'], ['Clark', ' Mrs. Walter Miller (Virginia McDowell)'], ['Cleaver', ' Miss. Alice'], ['Clifford', ' Mr. George Quincy'], ['Colley', ' Mr. Edward Pomeroy'], ['Compton', ' Miss. Sara Rebecca'], ['Compton', ' Mr. Alexander Taylor Jr'], ['Compton', ' Mrs. Alexander Taylor (Mary Eliza Ingersoll)'], ['Cornell', ' Mrs. Robert Clifford (Malvina Helen Lamson)'], ['Crafton', ' Mr. John Bertram'], ['Crosby', ' Capt. Edward Gifford'], ['Crosby', ' Miss. Harriet R'], ['Crosby', ' Mrs. Edward Gifford (Catherine Elizabeth Halstead)'], ['Cumings', ' Mr. John Bradley'], ['Cumings', ' Mrs. John Bradley (Florence Briggs Thayer)'], ['Daly', ' Mr. Peter Denis '], ['Daniel', ' Mr. Robert Williams'], ['Daniels', ' Miss. Sarah'], ['Davidson', ' Mr. Thornton'], ['Davidson', ' Mrs. Thornton (Orian Hays)'], ['Dick', ' Mr. Albert Adrian'], ['Dick', ' Mrs. Albert Adrian (Vera Gillespie)'], ['Dodge', ' Dr. Washington'], ['Dodge', ' Master. Washington'], ['Dodge', ' Mrs. Washington (Ruth Vidaver)'], ['Douglas', ' Mr. Walter Donald'], ['Douglas', ' Mrs. Frederick Charles (Mary Helene Baxter)'], ['Douglas', ' Mrs. Walter Donald (Mahala Dutton)'], ['Duff Gordon', ' Lady. (Lucille Christiana Sutherland) (\"Mrs Morgan\")'], ['Duff Gordon', ' Sir. Cosmo Edmund (\"Mr Morgan\")'], ['Dulles', ' Mr. William Crothers'], ['Earnshaw', ' Mrs. Boulton (Olive Potter)'], ['Endres', ' Miss. Caroline Louise'], ['Eustis', ' Miss. Elizabeth Mussey'], ['Evans', ' Miss. Edith Corse'], ['Farthing', ' Mr. John'], ['Flegenheim', ' Mrs. Alfred (Antoinette)'], ['Fleming', ' Miss. Margaret'], ['Flynn', ' Mr. John Irwin (\"Irving\")'], ['Foreman', ' Mr. Benjamin Laventall'], ['Fortune', ' Miss. Alice Elizabeth'], ['Fortune', ' Miss. Ethel Flora'], ['Fortune', ' Miss. Mabel Helen'], ['Fortune', ' Mr. Charles Alexander'], ['Fortune', ' Mr. Mark'], ['Fortune', ' Mrs. Mark (Mary McDougald)'], ['Francatelli', ' Miss. Laura Mabel'], ['Franklin', ' Mr. Thomas Parham'], ['Frauenthal', ' Dr. Henry William'], ['Frauenthal', ' Mr. Isaac Gerald'], ['Frauenthal', ' Mrs. Henry William (Clara Heinsheimer)'], ['Frolicher', ' Miss. Hedwig Margaritha'], ['Frolicher-Stehli', ' Mr. Maxmillian'], ['Frolicher-Stehli', ' Mrs. Maxmillian (Margaretha Emerentia Stehli)'], ['Fry', ' Mr. Richard'], ['Futrelle', ' Mr. Jacques Heath'], ['Futrelle', ' Mrs. Jacques Heath (Lily May Peel)'], ['Gee', ' Mr. Arthur H'], ['Geiger', ' Miss. Amalie'], ['Gibson', ' Miss. Dorothy Winifred'], ['Gibson', ' Mrs. Leonard (Pauline C Boeson)'], ['Giglio', ' Mr. Victor'], ['Goldenberg', ' Mr. Samuel L'], ['Goldenberg', ' Mrs. Samuel L (Edwiga Grabowska)'], ['Goldschmidt', ' Mr. George B'], ['Gracie', ' Col. Archibald IV'], ['Graham', ' Miss. Margaret Edith'], ['Graham', ' Mr. George Edward'], ['Graham', ' Mrs. William Thompson (Edith Junkins)'], ['Greenfield', ' Mr. William Bertram'], ['Greenfield', ' Mrs. Leo David (Blanche Strouse)'], ['Guggenheim', ' Mr. Benjamin'], ['Harder', ' Mr. George Achilles'], ['Harder', ' Mrs. George Achilles (Dorothy Annan)'], ['Harper', ' Mr. Henry Sleeper'], ['Harper', ' Mrs. Henry Sleeper (Myna Haxtun)'], ['Harrington', ' Mr. Charles H'], ['Harris', ' Mr. Henry Birkhardt'], ['Harris', ' Mrs. Henry Birkhardt (Irene Wallach)'], ['Harrison', ' Mr. William'], ['Hassab', ' Mr. Hammad'], ['Hawksford', ' Mr. Walter James'], ['Hays', ' Miss. Margaret Bechstein'], ['Hays', ' Mr. Charles Melville'], ['Hays', ' Mrs. Charles Melville (Clara Jennings Gregg)'], ['Head', ' Mr. Christopher'], ['Hilliard', ' Mr. Herbert Henry'], ['Hipkins', ' Mr. William Edward'], ['Hippach', ' Miss. Jean Gertrude'], ['Hippach', ' Mrs. Louis Albert (Ida Sophia Fischer)'], ['Hogeboom', ' Mrs. John C (Anna Andrews)'], ['Holverson', ' Mr. Alexander Oskar'], ['Holverson', ' Mrs. Alexander Oskar (Mary Aline Towner)'], ['Homer', ' Mr. Harry (\"Mr E Haven\")'], ['Hoyt', ' Mr. Frederick Maxfield'], ['Hoyt', ' Mr. William Fisher'], ['Hoyt', ' Mrs. Frederick Maxfield (Jane Anne Forby)'], ['Icard', ' Miss. Amelie'], ['Isham', ' Miss. Ann Elizabeth'], ['Ismay', ' Mr. Joseph Bruce'], ['Jones', ' Mr. Charles Cresson'], ['Julian', ' Mr. Henry Forbes'], ['Keeping', ' Mr. Edwin'], ['Kent', ' Mr. Edward Austin'], ['Kenyon', ' Mr. Frederick R'], ['Kenyon', ' Mrs. Frederick R (Marion)'], ['Kimball', ' Mr. Edwin Nelson Jr'], ['Kimball', ' Mrs. Edwin Nelson Jr (Gertrude Parsons)'], ['Klaber', ' Mr. Herman'], ['Kreuchen', ' Miss. Emilie'], ['Leader', ' Dr. Alice (Farnham)'], ['LeRoy', ' Miss. Bertha'], ['Lesurer', ' Mr. Gustave J'], ['Lewy', ' Mr. Ervin G'], ['Lindeberg-Lind', ' Mr. Erik Gustaf (\"Mr Edward Lingrey\")'], ['Lindstrom', ' Mrs. Carl Johan (Sigrid Posse)'], ['Lines', ' Miss. Mary Conover'], ['Lines', ' Mrs. Ernest H (Elizabeth Lindsey James)'], ['Long', ' Mr. Milton Clyde'], ['Longley', ' Miss. Gretchen Fiske'], ['Loring', ' Mr. Joseph Holland'], ['Lurette', ' Miss. Elise'], ['Madill', ' Miss. Georgette Alexandra'], ['Maguire', ' Mr. John Edward'], ['Maioni', ' Miss. Roberta'], ['Marechal', ' Mr. Pierre'], ['Marvin', ' Mr. Daniel Warner'], ['Marvin', ' Mrs. Daniel Warner (Mary Graham Carmichael Farquarson)'], ['Mayne', ' Mlle. Berthe Antonine (\"Mrs de Villiers\")'], ['McCaffry', ' Mr. Thomas Francis'], ['McCarthy', ' Mr. Timothy J'], ['McGough', ' Mr. James Robert'], ['Meyer', ' Mr. Edgar Joseph'], ['Meyer', ' Mrs. Edgar Joseph (Leila Saks)'], ['Millet', ' Mr. Francis Davis'], ['Minahan', ' Dr. William Edward'], ['Minahan', ' Miss. Daisy E'], ['Minahan', ' Mrs. William Edward (Lillian E Thorpe)'], ['Mock', ' Mr. Philipp Edmund'], ['Molson', ' Mr. Harry Markland'], ['Moore', ' Mr. Clarence Bloomfield'], ['Natsch', ' Mr. Charles H'], ['Newell', ' Miss. Madeleine'], ['Newell', ' Miss. Marjorie'], ['Newell', ' Mr. Arthur Webster'], ['Newsom', ' Miss. Helen Monypeny'], ['Nicholson', ' Mr. Arthur Ernest'], ['Oliva y Ocana', ' Dona. Fermina'], ['Omont', ' Mr. Alfred Fernand'], ['Ostby', ' Miss. Helene Ragnhild'], ['Ostby', ' Mr. Engelhart Cornelius'], ['Ovies y Rodriguez', ' Mr. Servando'], ['Parr', ' Mr. William Henry Marsh'], ['Partner', ' Mr. Austen'], ['Payne', ' Mr. Vivian Ponsonby'], ['Pears', ' Mr. Thomas Clinton'], ['Pears', ' Mrs. Thomas (Edith Wearne)'], ['Penasco y Castellana', ' Mr. Victor de Satode'], ['Penasco y Castellana', ' Mrs. Victor de Satode (Maria Josefa Perez de Soto y Vallejo)'], ['Perreault', ' Miss. Anne'], ['Peuchen', ' Major. Arthur Godfrey'], ['Porter', ' Mr. Walter Chamberlain'], ['Potter', ' Mrs. Thomas Jr (Lily Alexenia Wilson)'], ['Reuchlin', ' Jonkheer. John George'], ['Rheims', ' Mr. George Alexander Lucien'], ['Ringhini', ' Mr. Sante'], ['Robbins', ' Mr. Victor'], ['Robert', ' Mrs. Edward Scott (Elisabeth Walton McMillan)'], ['Roebling', ' Mr. Washington Augustus II'], ['Romaine', ' Mr. Charles Hallace (\"Mr C Rolmane\")'], ['Rood', ' Mr. Hugh Roscoe'], ['Rosenbaum', ' Miss. Edith Louise'], ['Rosenshine', ' Mr. George (\"Mr George Thorne\")'], ['Ross', ' Mr. John Hugo'], ['Rothes', ' the Countess. of (Lucy Noel Martha Dyer-Edwards)'], ['Rothschild', ' Mr. Martin'], ['Rothschild', ' Mrs. Martin (Elizabeth L. Barrett)'], ['Rowe', ' Mr. Alfred G'], ['Ryerson', ' Master. John Borie'], ['Ryerson', ' Miss. Emily Borie'], ['Ryerson', ' Miss. Susan Parker \"Suzette\"'], ['Ryerson', ' Mr. Arthur Larned'], ['Ryerson', ' Mrs. Arthur Larned (Emily Maria Borie)'], ['Saalfeld', ' Mr. Adolphe'], ['Sagesser', ' Mlle. Emma'], ['Salomon', ' Mr. Abraham L'], ['Schabert', ' Mrs. Paul (Emma Mock)'], ['Serepeca', ' Miss. Augusta'], ['Seward', ' Mr. Frederic Kimber'], ['Shutes', ' Miss. Elizabeth W'], ['Silverthorne', ' Mr. Spencer Victor'], ['Silvey', ' Mr. William Baird'], ['Silvey', ' Mrs. William Baird (Alice Munger)'], ['Simonius-Blumer', ' Col. Oberst Alfons'], ['Sloper', ' Mr. William Thompson'], ['Smart', ' Mr. John Montgomery'], ['Smith', ' Mr. James Clinch'], ['Smith', ' Mr. Lucien Philip'], ['Smith', ' Mr. Richard William'], ['Smith', ' Mrs. Lucien Philip (Mary Eloise Hughes)'], ['Snyder', ' Mr. John Pillsbury'], ['Snyder', ' Mrs. John Pillsbury (Nelle Stevenson)'], ['Spedden', ' Master. Robert Douglas'], ['Spedden', ' Mr. Frederic Oakley'], ['Spedden', ' Mrs. Frederic Oakley (Margaretta Corning Stone)'], ['Spencer', ' Mr. William Augustus'], ['Spencer', ' Mrs. William Augustus (Marie Eugenie)'], ['Stahelin-Maeglin', ' Dr. Max'], ['Stead', ' Mr. William Thomas'], ['Stengel', ' Mr. Charles Emil Henry'], ['Stengel', ' Mrs. Charles Emil Henry (Annie May Morris)'], ['Stephenson', ' Mrs. Walter Bertram (Martha Eustis)'], ['Stewart', ' Mr. Albert A'], ['Stone', ' Mrs. George Nelson (Martha Evelyn)'], ['Straus', ' Mr. Isidor'], ['Straus', ' Mrs. Isidor (Rosalie Ida Blun)'], ['Sutton', ' Mr. Frederick'], ['Swift', ' Mrs. Frederick Joel (Margaret Welles Barron)'], ['Taussig', ' Miss. Ruth'], ['Taussig', ' Mr. Emil'], ['Taussig', ' Mrs. Emil (Tillie Mandelbaum)'], ['Taylor', ' Mr. Elmer Zebley'], ['Taylor', ' Mrs. Elmer Zebley (Juliet Cummins Wright)'], ['Thayer', ' Mr. John Borland'], ['Thayer', ' Mr. John Borland Jr'], ['Thayer', ' Mrs. John Borland (Marian Longstreth Morris)'], ['Thorne', ' Mrs. Gertrude Maybelle'], ['Tucker', ' Mr. Gilbert Milligan Jr'], ['Uruchurtu', ' Don. Manuel E'], ['Van der hoef', ' Mr. Wyckoff'], ['Walker', ' Mr. William Anderson'], ['Ward', ' Miss. Anna'], ['Warren', ' Mr. Frank Manley'], ['Warren', ' Mrs. Frank Manley (Anna Sophia Atkinson)'], ['Weir', ' Col. John'], ['White', ' Mr. Percival Wayland'], ['White', ' Mr. Richard Frasar'], ['White', ' Mrs. John Stuart (Ella Holmes)'], ['Wick', ' Miss. Mary Natalie'], ['Wick', ' Mr. George Dennick'], ['Wick', ' Mrs. George Dennick (Mary Hitchcock)'], ['Widener', ' Mr. George Dunton'], ['Widener', ' Mr. Harry Elkins'], ['Widener', ' Mrs. George Dunton (Eleanor Elkins)'], ['Willard', ' Miss. Constance'], ['Williams', ' Mr. Charles Duane'], ['Williams', ' Mr. Richard Norris II'], ['Williams-Lambert', ' Mr. Fletcher Fellows'], ['Wilson', ' Miss. Helen Alice'], ['Woolner', ' Mr. Hugh'], ['Wright', ' Mr. George'], ['Young', ' Miss. Marie Grice'], ['Abelson', ' Mr. Samuel'], ['Abelson', ' Mrs. Samuel (Hannah Wizosky)'], ['Aldworth', ' Mr. Charles Augustus'], ['Andrew', ' Mr. Edgardo Samuel'], ['Andrew', ' Mr. Frank Thomas'], ['Angle', ' Mr. William A'], ['Angle', ' Mrs. William A (Florence \"Mary\" Agnes Hughes)'], ['Ashby', ' Mr. John'], ['Bailey', ' Mr. Percy Andrew'], ['Baimbrigge', ' Mr. Charles Robert'], ['Ball', ' Mrs. (Ada E Hall)'], ['Banfield', ' Mr. Frederick James'], ['Bateman', ' Rev. Robert James'], ['Beane', ' Mr. Edward'], ['Beane', ' Mrs. Edward (Ethel Clarke)'], ['Beauchamp', ' Mr. Henry James'], ['Becker', ' Master. Richard F'], ['Becker', ' Miss. Marion Louise'], ['Becker', ' Miss. Ruth Elizabeth'], ['Becker', ' Mrs. Allen Oliver (Nellie E Baumgardner)'], ['Beesley', ' Mr. Lawrence'], ['Bentham', ' Miss. Lilian W'], ['Berriman', ' Mr. William John'], ['Botsford', ' Mr. William Hull'], ['Bowenur', ' Mr. Solomon'], ['Bracken', ' Mr. James H'], ['Brown', ' Miss. Amelia \"Mildred\"'], ['Brown', ' Miss. Edith Eileen'], ['Brown', ' Mr. Thomas William Solomon'], ['Brown', ' Mrs. Thomas William Solomon (Elizabeth Catherine Ford)'], ['Bryhl', ' Miss. Dagmar Jenny Ingeborg '], ['Bryhl', ' Mr. Kurt Arnold Gottfrid'], ['Buss', ' Miss. Kate'], ['Butler', ' Mr. Reginald Fenton'], ['Byles', ' Rev. Thomas Roussel Davids'], ['Bystrom', ' Mrs. (Karolina)'], ['Caldwell', ' Master. Alden Gates'], ['Caldwell', ' Mr. Albert Francis'], ['Caldwell', ' Mrs. Albert Francis (Sylvia Mae Harbaugh)'], ['Cameron', ' Miss. Clear Annie'], ['Campbell', ' Mr. William'], ['Carbines', ' Mr. William'], ['Carter', ' Mrs. Ernest Courtenay (Lilian Hughes)'], ['Carter', ' Rev. Ernest Courtenay'], ['Chapman', ' Mr. Charles Henry'], ['Chapman', ' Mr. John Henry'], ['Chapman', ' Mrs. John Henry (Sara Elizabeth Lawry)'], ['Christy', ' Miss. Julie Rachel'], ['Christy', ' Mrs. (Alice Frances)'], ['Clarke', ' Mr. Charles Valentine'], ['Clarke', ' Mrs. Charles V (Ada Maria Winfield)'], ['Coleridge', ' Mr. Reginald Charles'], ['Collander', ' Mr. Erik Gustaf'], ['Collett', ' Mr. Sidney C Stuart'], ['Collyer', ' Miss. Marjorie \"Lottie\"'], ['Collyer', ' Mr. Harvey'], ['Collyer', ' Mrs. Harvey (Charlotte Annie Tate)'], ['Cook', ' Mrs. (Selena Rogers)'], ['Corbett', ' Mrs. Walter H (Irene Colvin)'], ['Corey', ' Mrs. Percy C (Mary Phyllis Elizabeth Miller)'], ['Cotterill', ' Mr. Henry \"Harry\"'], ['Cunningham', ' Mr. Alfred Fleming'], ['Davies', ' Master. John Morgan Jr'], ['Davies', ' Mr. Charles Henry'], ['Davies', ' Mrs. John Morgan (Elizabeth Agnes Mary White) '], ['Davis', ' Miss. Mary'], ['de Brito', ' Mr. Jose Joaquim'], ['Deacon', ' Mr. Percy William'], ['del Carlo', ' Mr. Sebastiano'], ['del Carlo', ' Mrs. Sebastiano (Argenia Genovesi)'], ['Denbury', ' Mr. Herbert'], ['Dibden', ' Mr. William'], ['Doling', ' Miss. Elsie'], ['Doling', ' Mrs. John T (Ada Julia Bone)'], ['Downton', ' Mr. William James'], ['Drew', ' Master. Marshall Brines'], ['Drew', ' Mr. James Vivian'], ['Drew', ' Mrs. James Vivian (Lulu Thorne Christian)'], ['Duran y More', ' Miss. Asuncion'], ['Duran y More', ' Miss. Florentina'], ['Eitemiller', ' Mr. George Floyd'], ['Enander', ' Mr. Ingvar'], ['Fahlstrom', ' Mr. Arne Jonas'], ['Faunthorpe', ' Mr. Harry'], ['Faunthorpe', ' Mrs. Lizzie (Elizabeth Anne Wilkinson)'], ['Fillbrook', ' Mr. Joseph Charles'], ['Fox', ' Mr. Stanley Hubert'], ['Frost', ' Mr. Anthony Wood \"Archie\"'], ['Funk', ' Miss. Annie Clemmer'], ['Fynney', ' Mr. Joseph J'], ['Gale', ' Mr. Harry'], ['Gale', ' Mr. Shadrach'], ['Garside', ' Miss. Ethel'], ['Gaskell', ' Mr. Alfred'], ['Gavey', ' Mr. Lawrence'], ['Gilbert', ' Mr. William'], ['Giles', ' Mr. Edgar'], ['Giles', ' Mr. Frederick Edward'], ['Giles', ' Mr. Ralph'], ['Gill', ' Mr. John William'], ['Gillespie', ' Mr. William Henry'], ['Givard', ' Mr. Hans Kristensen'], ['Greenberg', ' Mr. Samuel'], ['Hale', ' Mr. Reginald'], ['Hamalainen', ' Master. Viljo'], ['Hamalainen', ' Mrs. William (Anna)'], ['Harbeck', ' Mr. William H'], ['Harper', ' Miss. Annie Jessie \"Nina\"'], ['Harper', ' Rev. John'], ['Harris', ' Mr. George'], ['Harris', ' Mr. Walter'], ['Hart', ' Miss. Eva Miriam'], ['Hart', ' Mr. Benjamin'], ['Hart', ' Mrs. Benjamin (Esther Ada Bloomfield)'], ['Herman', ' Miss. Alice'], ['Herman', ' Miss. Kate'], ['Herman', ' Mr. Samuel'], ['Herman', ' Mrs. Samuel (Jane Laver)'], ['Hewlett', ' Mrs. (Mary D Kingcome) '], ['Hickman', ' Mr. Leonard Mark'], ['Hickman', ' Mr. Lewis'], ['Hickman', ' Mr. Stanley George'], ['Hiltunen', ' Miss. Marta'], ['Hocking', ' Miss. Ellen \"Nellie\"'], ['Hocking', ' Mr. Richard George'], ['Hocking', ' Mr. Samuel James Metcalfe'], ['Hocking', ' Mrs. Elizabeth (Eliza Needs)'], ['Hodges', ' Mr. Henry Price'], ['Hold', ' Mr. Stephen'], ['Hold', ' Mrs. Stephen (Annie Margaret Hill)'], ['Hood', ' Mr. Ambrose Jr'], ['Hosono', ' Mr. Masabumi'], ['Howard', ' Mr. Benjamin'], ['Howard', ' Mrs. Benjamin (Ellen Truelove Arman)'], ['Hunt', ' Mr. George Henry'], ['Ilett', ' Miss. Bertha'], ['Jacobsohn', ' Mr. Sidney Samuel'], ['Jacobsohn', ' Mrs. Sidney Samuel (Amy Frances Christy)'], ['Jarvis', ' Mr. John Denzil'], ['Jefferys', ' Mr. Clifford Thomas'], ['Jefferys', ' Mr. Ernest Wilfred'], ['Jenkin', ' Mr. Stephen Curnow'], ['Jerwan', ' Mrs. Amin S (Marie Marthe Thuillard)'], ['Kantor', ' Mr. Sinai'], ['Kantor', ' Mrs. Sinai (Miriam Sternin)'], ['Karnes', ' Mrs. J Frank (Claire Bennett)'], ['Keane', ' Miss. Nora A'], ['Keane', ' Mr. Daniel'], ['Kelly', ' Mrs. Florence \"Fannie\"'], ['Kirkland', ' Rev. Charles Leonard'], ['Knight', ' Mr. Robert J'], ['Kvillner', ' Mr. Johan Henrik Johannesson'], ['Lahtinen', ' Mrs. William (Anna Sylfven)'], ['Lahtinen', ' Rev. William'], ['Lamb', ' Mr. John Joseph'], ['Laroche', ' Miss. Louise'], ['Laroche', ' Miss. Simonne Marie Anne Andree'], ['Laroche', ' Mr. Joseph Philippe Lemercier'], ['Laroche', ' Mrs. Joseph (Juliette Marie Louise Lafargue)'], ['Lehmann', ' Miss. Bertha'], ['Leitch', ' Miss. Jessie Wills'], ['Lemore', ' Mrs. (Amelia Milley)'], ['Levy', ' Mr. Rene Jacques'], ['Leyson', ' Mr. Robert William Norman'], ['Lingane', ' Mr. John'], ['Louch', ' Mr. Charles Alexander'], ['Louch', ' Mrs. Charles Alexander (Alice Adelaide Slow)'], ['Mack', ' Mrs. (Mary)'], ['Malachard', ' Mr. Noel'], ['Mallet', ' Master. Andre'], ['Mallet', ' Mr. Albert'], ['Mallet', ' Mrs. Albert (Antoinette Magnin)'], ['Mangiavacchi', ' Mr. Serafino Emilio'], ['Matthews', ' Mr. William John'], ['Maybery', ' Mr. Frank Hubert'], ['McCrae', ' Mr. Arthur Gordon'], ['McCrie', ' Mr. James Matthew'], ['McKane', ' Mr. Peter David'], ['Mellinger', ' Miss. Madeleine Violet'], ['Mellinger', ' Mrs. (Elizabeth Anne Maidment)'], ['Mellors', ' Mr. William John'], ['Meyer', ' Mr. August'], ['Milling', ' Mr. Jacob Christian'], ['Mitchell', ' Mr. Henry Michael'], ['Montvila', ' Rev. Juozas'], ['Moraweck', ' Dr. Ernest'], ['Morley', ' Mr. Henry Samuel (\"Mr Henry Marshall\")'], ['Mudd', ' Mr. Thomas Charles'], ['Myles', ' Mr. Thomas Francis'], ['Nasser', ' Mr. Nicholas'], ['Nasser', ' Mrs. Nicholas (Adele Achem)'], ['Navratil', ' Master. Edmond Roger'], ['Navratil', ' Master. Michel M'], ['Navratil', ' Mr. Michel (\"Louis M Hoffman\")'], ['Nesson', ' Mr. Israel'], ['Nicholls', ' Mr. Joseph Charles'], ['Norman', ' Mr. Robert Douglas'], ['Nourney', ' Mr. Alfred (\"Baron von Drachstedt\")'], ['Nye', ' Mrs. (Elizabeth Ramell)'], ['Otter', ' Mr. Richard'], ['Oxenham', ' Mr. Percy Thomas'], ['Padro y Manent', ' Mr. Julian'], ['Pain', ' Dr. Alfred'], ['Pallas y Castello', ' Mr. Emilio'], ['Parker', ' Mr. Clifford Richard'], ['Parkes', ' Mr. Francis \"Frank\"'], ['Parrish', ' Mrs. (Lutie Davis)'], ['Pengelly', ' Mr. Frederick William'], ['Pernot', ' Mr. Rene'], ['Peruschitz', ' Rev. Joseph Maria'], ['Phillips', ' Miss. Alice Frances Louisa'], ['Phillips', ' Miss. Kate Florence (\"Mrs Kate Louise Phillips Marshall\")'], ['Phillips', ' Mr. Escott Robert'], ['Pinsky', ' Mrs. (Rosa)'], ['Ponesell', ' Mr. Martin'], ['Portaluppi', ' Mr. Emilio Ilario Giuseppe'], ['Pulbaum', ' Mr. Franz'], ['Quick', ' Miss. Phyllis May'], ['Quick', ' Miss. Winifred Vera'], ['Quick', ' Mrs. Frederick Charles (Jane Richards)'], ['Reeves', ' Mr. David'], ['Renouf', ' Mr. Peter Henry'], ['Renouf', ' Mrs. Peter Henry (Lillian Jefferys)'], ['Reynaldo', ' Ms. Encarnacion'], ['Richard', ' Mr. Emile'], ['Richards', ' Master. George Sibley'], ['Richards', ' Master. William Rowe'], ['Richards', ' Mrs. Sidney (Emily Hocking)'], ['Ridsdale', ' Miss. Lucy'], ['Rogers', ' Mr. Reginald Harry'], ['Rugg', ' Miss. Emily'], ['Schmidt', ' Mr. August'], ['Sedgwick', ' Mr. Charles Frederick Waddington'], ['Sharp', ' Mr. Percival James R'], ['Shelley', ' Mrs. William (Imanita Parrish Hall)'], ['Silven', ' Miss. Lyyli Karoliina'], ['Sincock', ' Miss. Maude'], ['Sinkkonen', ' Miss. Anna'], ['Sjostedt', ' Mr. Ernst Adolf'], ['Slayter', ' Miss. Hilda Mary'], ['Slemen', ' Mr. Richard James'], ['Smith', ' Miss. Marion Elsie'], ['Sobey', ' Mr. Samuel James Hayden'], ['Stanton', ' Mr. Samuel Ward'], ['Stokes', ' Mr. Philip Joseph'], ['Swane', ' Mr. George'], ['Sweet', ' Mr. George Frederick'], ['Toomey', ' Miss. Ellen'], ['Troupiansky', ' Mr. Moses Aaron'], ['Trout', ' Mrs. William H (Jessie L)'], ['Troutt', ' Miss. Edwina Celia \"Winnie\"'], ['Turpin', ' Mr. William John Robert'], ['Turpin', ' Mrs. William John Robert (Dorothy Ann Wonnacott)'], ['Veal', ' Mr. James'], ['Walcroft', ' Miss. Nellie'], ['Ware', ' Mr. John James'], ['Ware', ' Mr. William Jeffery'], ['Ware', ' Mrs. John James (Florence Louise Long)'], ['Watson', ' Mr. Ennis Hastings'], ['Watt', ' Miss. Bertha J'], ['Watt', ' Mrs. James (Elizabeth \"Bessie\" Inglis Milne)'], ['Webber', ' Miss. Susan'], ['Weisz', ' Mr. Leopold'], ['Weisz', ' Mrs. Leopold (Mathilde Francoise Pede)'], ['Wells', ' Master. Ralph Lester'], ['Wells', ' Miss. Joan'], ['Wells', ' Mrs. Arthur Henry (\"Addie\" Dart Trevaskis)'], ['West', ' Miss. Barbara J'], ['West', ' Miss. Constance Mirium'], ['West', ' Mr. Edwy Arthur'], ['West', ' Mrs. Edwy Arthur (Ada Mary Worth)'], ['Wheadon', ' Mr. Edward H'], ['Wheeler', ' Mr. Edwin \"Frederick\"'], ['Wilhelms', ' Mr. Charles'], ['Williams', ' Mr. Charles Eugene'], ['Wright', ' Miss. Marion'], ['Yrois', ' Miss. Henriette (\"Mrs Harbeck\")'], ['Abbing', ' Mr. Anthony'], ['Abbott', ' Master. Eugene Joseph'], ['Abbott', ' Mr. Rossmore Edward'], ['Abbott', ' Mrs. Stanton (Rosa Hunt)'], ['Abelseth', ' Miss. Karen Marie'], ['Abelseth', ' Mr. Olaus Jorgensen'], ['Abrahamsson', ' Mr. Abraham August Johannes'], ['Abrahim', ' Mrs. Joseph (Sophie Halaut Easu)'], ['Adahl', ' Mr. Mauritz Nils Martin'], ['Adams', ' Mr. John'], ['Ahlin', ' Mrs. Johan (Johanna Persdotter Larsson)'], ['Aks', ' Master. Philip Frank'], ['Aks', ' Mrs. Sam (Leah Rosen)'], ['Albimona', ' Mr. Nassef Cassem'], ['Alexander', ' Mr. William'], ['Alhomaki', ' Mr. Ilmari Rudolf'], ['Ali', ' Mr. Ahmed'], ['Ali', ' Mr. William'], ['Allen', ' Mr. William Henry'], ['Allum', ' Mr. Owen George'], ['Andersen', ' Mr. Albert Karvin'], ['Andersen-Jensen', ' Miss. Carla Christine Nielsine'], ['Andersson', ' Master. Sigvard Harald Elias'], ['Andersson', ' Miss. Ebba Iris Alfrida'], ['Andersson', ' Miss. Ellis Anna Maria'], ['Andersson', ' Miss. Erna Alexandra'], ['Andersson', ' Miss. Ida Augusta Margareta'], ['Andersson', ' Miss. Ingeborg Constanzia'], ['Andersson', ' Miss. Sigrid Elisabeth'], ['Andersson', ' Mr. Anders Johan'], ['Andersson', ' Mr. August Edvard (\"Wennerstrom\")'], ['Andersson', ' Mr. Johan Samuel'], ['Andersson', ' Mrs. Anders Johan (Alfrida Konstantia Brogren)'], ['Andreasson', ' Mr. Paul Edvin'], ['Angheloff', ' Mr. Minko'], ['Arnold-Franchi', ' Mr. Josef'], ['Arnold-Franchi', ' Mrs. Josef (Josefine Franchi)'], ['Aronsson', ' Mr. Ernst Axel Algot'], ['Asim', ' Mr. Adola'], ['Asplund', ' Master. Carl Edgar'], ['Asplund', ' Master. Clarence Gustaf Hugo'], ['Asplund', ' Master. Edvin Rojj Felix'], ['Asplund', ' Master. Filip Oscar'], ['Asplund', ' Miss. Lillian Gertrud'], ['Asplund', ' Mr. Carl Oscar Vilhelm Gustafsson'], ['Asplund', ' Mr. Johan Charles'], ['Asplund', ' Mrs. Carl Oscar (Selma Augusta Emilia Johansson)'], ['Assaf Khalil', ' Mrs. Mariana (\"Miriam\")'], ['Assaf', ' Mr. Gerios'], ['Assam', ' Mr. Ali'], ['Attalah', ' Miss. Malake'], ['Attalah', ' Mr. Sleiman'], ['Augustsson', ' Mr. Albert'], ['Ayoub', ' Miss. Banoura'], ['Baccos', ' Mr. Raffull'], ['Backstrom', ' Mr. Karl Alfred'], ['Backstrom', ' Mrs. Karl Alfred (Maria Mathilda Gustafsson)'], ['Baclini', ' Miss. Eugenie'], ['Baclini', ' Miss. Helene Barbara'], ['Baclini', ' Miss. Marie Catherine'], ['Baclini', ' Mrs. Solomon (Latifa Qurban)'], ['Badman', ' Miss. Emily Louisa'], ['Badt', ' Mr. Mohamed'], ['Balkic', ' Mr. Cerin'], ['Barah', ' Mr. Hanna Assi'], ['Barbara', ' Miss. Saiide'], ['Barbara', ' Mrs. (Catherine David)'], ['Barry', ' Miss. Julia'], ['Barton', ' Mr. David John'], ['Beavan', ' Mr. William Thomas'], ['Bengtsson', ' Mr. John Viktor'], ['Berglund', ' Mr. Karl Ivar Sven'], ['Betros', ' Master. Seman'], ['Betros', ' Mr. Tannous'], ['Bing', ' Mr. Lee'], ['Birkeland', ' Mr. Hans Martin Monsen'], ['Bjorklund', ' Mr. Ernst Herbert'], ['Bostandyeff', ' Mr. Guentcho'], ['Boulos', ' Master. Akar'], ['Boulos', ' Miss. Nourelain'], ['Boulos', ' Mr. Hanna'], ['Boulos', ' Mrs. Joseph (Sultana)'], ['Bourke', ' Miss. Mary'], ['Bourke', ' Mr. John'], ['Bourke', ' Mrs. John (Catherine)'], ['Bowen', ' Mr. David John \"Dai\"'], ['Bradley', ' Miss. Bridget Delia'], ['Braf', ' Miss. Elin Ester Maria'], ['Braund', ' Mr. Lewis Richard'], ['Braund', ' Mr. Owen Harris'], ['Brobeck', ' Mr. Karl Rudolf'], ['Brocklebank', ' Mr. William Alfred'], ['Buckley', ' Miss. Katherine'], ['Buckley', ' Mr. Daniel'], ['Burke', ' Mr. Jeremiah'], ['Burns', ' Miss. Mary Delia'], ['Cacic', ' Miss. Manda'], ['Cacic', ' Miss. Marija'], ['Cacic', ' Mr. Jego Grga'], ['Cacic', ' Mr. Luka'], ['Calic', ' Mr. Jovo'], ['Calic', ' Mr. Petar'], ['Canavan', ' Miss. Mary'], ['Canavan', ' Mr. Patrick'], ['Cann', ' Mr. Ernest Charles'], ['Caram', ' Mr. Joseph'], ['Caram', ' Mrs. Joseph (Maria Elias)'], ['Carlsson', ' Mr. August Sigfrid'], ['Carlsson', ' Mr. Carl Robert'], ['Carr', ' Miss. Helen \"Ellen\"'], ['Carr', ' Miss. Jeannie'], ['Carver', ' Mr. Alfred John'], ['Celotti', ' Mr. Francesco'], ['Charters', ' Mr. David'], ['Chip', ' Mr. Chang'], ['Christmann', ' Mr. Emil'], ['Chronopoulos', ' Mr. Apostolos'], ['Chronopoulos', ' Mr. Demetrios'], ['Coelho', ' Mr. Domingos Fernandeo'], ['Cohen', ' Mr. Gurshon \"Gus\"'], ['Colbert', ' Mr. Patrick'], ['Coleff', ' Mr. Peju'], ['Coleff', ' Mr. Satio'], ['Conlon', ' Mr. Thomas Henry'], ['Connaghton', ' Mr. Michael'], ['Connolly', ' Miss. Kate'], ['Connolly', ' Miss. Kate'], ['Connors', ' Mr. Patrick'], ['Cook', ' Mr. Jacob'], ['Cor', ' Mr. Bartol'], ['Cor', ' Mr. Ivan'], ['Cor', ' Mr. Liudevit'], ['Corn', ' Mr. Harry'], ['Coutts', ' Master. Eden Leslie \"Neville\"'], ['Coutts', ' Master. William Loch \"William\"'], ['Coutts', ' Mrs. William (Winnie \"Minnie\" Treanor)'], ['Coxon', ' Mr. Daniel'], ['Crease', ' Mr. Ernest James'], ['Cribb', ' Miss. Laura Alice'], ['Cribb', ' Mr. John Hatfield'], ['Culumovic', ' Mr. Jeso'], ['Daher', ' Mr. Shedid'], ['Dahl', ' Mr. Karl Edwart'], ['Dahlberg', ' Miss. Gerda Ulrika'], ['Dakic', ' Mr. Branko'], ['Daly', ' Miss. Margaret Marcella \"Maggie\"'], ['Daly', ' Mr. Eugene Patrick'], ['Danbom', ' Master. Gilbert Sigvard Emanuel'], ['Danbom', ' Mr. Ernst Gilbert'], ['Danbom', ' Mrs. Ernst Gilbert (Anna Sigrid Maria Brogren)'], ['Danoff', ' Mr. Yoto'], ['Dantcheff', ' Mr. Ristiu'], ['Davies', ' Mr. Alfred J'], ['Davies', ' Mr. Evan'], ['Davies', ' Mr. John Samuel'], ['Davies', ' Mr. Joseph'], ['Davison', ' Mr. Thomas Henry'], ['Davison', ' Mrs. Thomas Henry (Mary E Finck)'], ['de Messemaeker', ' Mr. Guillaume Joseph'], ['de Messemaeker', ' Mrs. Guillaume Joseph (Emma)'], ['de Mulder', ' Mr. Theodore'], ['de Pelsmaeker', ' Mr. Alfons'], ['Dean', ' Master. Bertram Vere'], ['Dean', ' Miss. Elizabeth Gladys \"Millvina\"'], ['Dean', ' Mr. Bertram Frank'], ['Dean', ' Mrs. Bertram (Eva Georgetta Light)'], ['Delalic', ' Mr. Redjo'], ['Demetri', ' Mr. Marinko'], ['Denkoff', ' Mr. Mitto'], ['Dennis', ' Mr. Samuel'], ['Dennis', ' Mr. William'], ['Devaney', ' Miss. Margaret Delia'], ['Dika', ' Mr. Mirko'], ['Dimic', ' Mr. Jovan'], ['Dintcheff', ' Mr. Valtcho'], ['Doharr', ' Mr. Tannous'], ['Dooley', ' Mr. Patrick'], ['Dorking', ' Mr. Edward Arthur'], ['Dowdell', ' Miss. Elizabeth'], ['Doyle', ' Miss. Elizabeth'], ['Drapkin', ' Miss. Jennie'], ['Drazenoic', ' Mr. Jozef'], ['Duane', ' Mr. Frank'], ['Duquemin', ' Mr. Joseph'], ['Dyker', ' Mr. Adolf Fredrik'], ['Dyker', ' Mrs. Adolf Fredrik (Anna Elisabeth Judith Andersson)'], ['Edvardsson', ' Mr. Gustaf Hjalmar'], ['Eklund', ' Mr. Hans Linus'], ['Ekstrom', ' Mr. Johan'], ['Elias', ' Mr. Dibo'], ['Elias', ' Mr. Joseph'], ['Elias', ' Mr. Joseph Jr'], ['Elias', ' Mr. Tannous'], ['Elsbury', ' Mr. William James'], ['Emanuel', ' Miss. Virginia Ethel'], ['Emir', ' Mr. Farred Chehab'], ['Everett', ' Mr. Thomas James'], ['Farrell', ' Mr. James'], ['Finoli', ' Mr. Luigi'], ['Fischer', ' Mr. Eberhard Thelander'], ['Fleming', ' Miss. Honora'], ['Flynn', ' Mr. James'], ['Flynn', ' Mr. John'], ['Foley', ' Mr. Joseph'], ['Foley', ' Mr. William'], ['Foo', ' Mr. Choong'], ['Ford', ' Miss. Doolina Margaret \"Daisy\"'], ['Ford', ' Miss. Robina Maggie \"Ruby\"'], ['Ford', ' Mr. Arthur'], ['Ford', ' Mr. Edward Watson'], ['Ford', ' Mr. William Neal'], ['Ford', ' Mrs. Edward (Margaret Ann Watson)'], ['Fox', ' Mr. Patrick'], ['Franklin', ' Mr. Charles (Charles Fardon)'], ['Gallagher', ' Mr. Martin'], ['Garfirth', ' Mr. John'], ['Gheorgheff', ' Mr. Stanio'], ['Gilinski', ' Mr. Eliezer'], ['Gilnagh', ' Miss. Katherine \"Katie\"'], ['Glynn', ' Miss. Mary Agatha'], ['Goldsmith', ' Master. Frank John William \"Frankie\"'], ['Goldsmith', ' Mr. Frank John'], ['Goldsmith', ' Mr. Nathan'], ['Goldsmith', ' Mrs. Frank John (Emily Alice Brown)'], ['Goncalves', ' Mr. Manuel Estanslas'], ['Goodwin', ' Master. Harold Victor'], ['Goodwin', ' Master. Sidney Leonard'], ['Goodwin', ' Master. William Frederick'], ['Goodwin', ' Miss. Jessie Allis'], ['Goodwin', ' Miss. Lillian Amy'], ['Goodwin', ' Mr. Charles Edward'], ['Goodwin', ' Mr. Charles Frederick'], ['Goodwin', ' Mrs. Frederick (Augusta Tyler)'], ['Green', ' Mr. George Henry'], ['Gronnestad', ' Mr. Daniel Danielsen'], ['Guest', ' Mr. Robert'], ['Gustafsson', ' Mr. Alfred Ossian'], ['Gustafsson', ' Mr. Anders Vilhelm'], ['Gustafsson', ' Mr. Johan Birger'], ['Gustafsson', ' Mr. Karl Gideon'], ['Haas', ' Miss. Aloisia'], ['Hagardon', ' Miss. Kate'], ['Hagland', ' Mr. Ingvald Olai Olsen'], ['Hagland', ' Mr. Konrad Mathias Reiersen'], ['Hakkarainen', ' Mr. Pekka Pietari'], ['Hakkarainen', ' Mrs. Pekka Pietari (Elin Matilda Dolck)'], ['Hampe', ' Mr. Leon'], ['Hanna', ' Mr. Mansour'], ['Hansen', ' Mr. Claus Peter'], ['Hansen', ' Mr. Henrik Juul'], ['Hansen', ' Mr. Henry Damsgaard'], ['Hansen', ' Mrs. Claus Peter (Jennie L Howard)'], ['Harknett', ' Miss. Alice Phoebe'], ['Harmer', ' Mr. Abraham (David Lishin)'], ['Hart', ' Mr. Henry'], ['Hassan', ' Mr. Houssein G N'], ['Healy', ' Miss. Hanora \"Nora\"'], ['Hedman', ' Mr. Oskar Arvid'], ['Hee', ' Mr. Ling'], ['Hegarty', ' Miss. Hanora \"Nora\"'], ['Heikkinen', ' Miss. Laina'], ['Heininen', ' Miss. Wendla Maria'], ['Hellstrom', ' Miss. Hilda Maria'], ['Hendekovic', ' Mr. Ignjac'], ['Henriksson', ' Miss. Jenny Lovisa'], ['Henry', ' Miss. Delia'], ['Hirvonen', ' Miss. Hildur E'], ['Hirvonen', ' Mrs. Alexander (Helga E Lindqvist)'], ['Holm', ' Mr. John Fredrik Alexander'], ['Holthen', ' Mr. Johan Martin'], ['Honkanen', ' Miss. Eliina'], ['Horgan', ' Mr. John'], ['Howard', ' Miss. May Elizabeth'], ['Humblen', ' Mr. Adolf Mathias Nicolai Olsen'], ['Hyman', ' Mr. Abraham'], ['Ibrahim Shawah', ' Mr. Yousseff'], ['Ilieff', ' Mr. Ylio'], ['Ilmakangas', ' Miss. Ida Livija'], ['Ilmakangas', ' Miss. Pieta Sofia'], ['Ivanoff', ' Mr. Kanio'], ['Jalsevac', ' Mr. Ivan'], ['Jansson', ' Mr. Carl Olof'], ['Jardin', ' Mr. Jose Neto'], ['Jensen', ' Mr. Hans Peder'], ['Jensen', ' Mr. Niels Peder'], ['Jensen', ' Mr. Svend Lauritz'], ['Jermyn', ' Miss. Annie'], ['Johannesen-Bratthammer', ' Mr. Bernt'], ['Johanson', ' Mr. Jakob Alfred'], ['Johansson Palmquist', ' Mr. Oskar Leander'], ['Johansson', ' Mr. Erik'], ['Johansson', ' Mr. Gustaf Joel'], ['Johansson', ' Mr. Karl Johan'], ['Johansson', ' Mr. Nils'], ['Johnson', ' Master. Harold Theodor'], ['Johnson', ' Miss. Eleanor Ileen'], ['Johnson', ' Mr. Alfred'], ['Johnson', ' Mr. Malkolm Joackim'], ['Johnson', ' Mr. William Cahoone Jr'], ['Johnson', ' Mrs. Oscar W (Elisabeth Vilhelmina Berg)'], ['Johnston', ' Master. William Arthur \"Willie\"'], ['Johnston', ' Miss. Catherine Helen \"Carrie\"'], ['Johnston', ' Mr. Andrew G'], ['Johnston', ' Mrs. Andrew G (Elizabeth \"Lily\" Watson)'], ['Jonkoff', ' Mr. Lalio'], ['Jonsson', ' Mr. Carl'], ['Jonsson', ' Mr. Nils Hilding'], ['Jussila', ' Miss. Katriina'], ['Jussila', ' Miss. Mari Aina'], ['Jussila', ' Mr. Eiriik'], ['Kallio', ' Mr. Nikolai Erland'], ['Kalvik', ' Mr. Johannes Halvorsen'], ['Karaic', ' Mr. Milan'], ['Karlsson', ' Mr. Einar Gervasius'], ['Karlsson', ' Mr. Julius Konrad Eugen'], ['Karlsson', ' Mr. Nils August'], ['Karun', ' Miss. Manca'], ['Karun', ' Mr. Franz'], ['Kassem', ' Mr. Fared'], ['Katavelas', ' Mr. Vassilios (\"Catavelas Vassilios\")'], ['Keane', ' Mr. Andrew \"Andy\"'], ['Keefe', ' Mr. Arthur'], ['Kelly', ' Miss. Anna Katherine \"Annie Kate\"'], ['Kelly', ' Miss. Mary'], ['Kelly', ' Mr. James'], ['Kelly', ' Mr. James'], ['Kennedy', ' Mr. John'], ['Khalil', ' Mr. Betros'], ['Khalil', ' Mrs. Betros (Zahie \"Maria\" Elias)'], ['Kiernan', ' Mr. John'], ['Kiernan', ' Mr. Philip'], ['Kilgannon', ' Mr. Thomas J'], ['Kink', ' Miss. Maria'], ['Kink', ' Mr. Vincenz'], ['Kink-Heilmann', ' Miss. Luise Gretchen'], ['Kink-Heilmann', ' Mr. Anton'], ['Kink-Heilmann', ' Mrs. Anton (Luise Heilmann)'], ['Klasen', ' Miss. Gertrud Emilia'], ['Klasen', ' Mr. Klas Albin'], ['Klasen', ' Mrs. (Hulda Kristina Eugenia Lofqvist)'], ['Kraeff', ' Mr. Theodor'], ['Krekorian', ' Mr. Neshan'], ['Lahoud', ' Mr. Sarkis'], ['Laitinen', ' Miss. Kristina Sofia'], ['Laleff', ' Mr. Kristo'], ['Lam', ' Mr. Ali'], ['Lam', ' Mr. Len'], ['Landergren', ' Miss. Aurora Adelia'], ['Lane', ' Mr. Patrick'], ['Lang', ' Mr. Fang'], ['Larsson', ' Mr. August Viktor'], ['Larsson', ' Mr. Bengt Edvin'], ['Larsson-Rondberg', ' Mr. Edvard A'], ['Leeni', ' Mr. Fahim (\"Philip Zenni\")'], ['Lefebre', ' Master. Henry Forbes'], ['Lefebre', ' Miss. Ida'], ['Lefebre', ' Miss. Jeannie'], ['Lefebre', ' Miss. Mathilde'], ['Lefebre', ' Mrs. Frank (Frances)'], ['Leinonen', ' Mr. Antti Gustaf'], ['Lemberopolous', ' Mr. Peter L'], ['Lennon', ' Miss. Mary'], ['Lennon', ' Mr. Denis'], ['Leonard', ' Mr. Lionel'], ['Lester', ' Mr. James'], ['Lievens', ' Mr. Rene Aime'], ['Lindahl', ' Miss. Agda Thorilda Viktoria'], ['Lindblom', ' Miss. Augusta Charlotta'], ['Lindell', ' Mr. Edvard Bengtsson'], ['Lindell', ' Mrs. Edvard Bengtsson (Elin Gerda Persson)'], ['Lindqvist', ' Mr. Eino William'], ['Linehan', ' Mr. Michael'], ['Ling', ' Mr. Lee'], ['Lithman', ' Mr. Simon'], ['Lobb', ' Mr. William Arthur'], ['Lobb', ' Mrs. William Arthur (Cordelia K Stanlick)'], ['Lockyer', ' Mr. Edward'], ['Lovell', ' Mr. John Hall (\"Henry\")'], ['Lulic', ' Mr. Nikola'], ['Lundahl', ' Mr. Johan Svensson'], ['Lundin', ' Miss. Olga Elida'], ['Lundstrom', ' Mr. Thure Edvin'], ['Lyntakoff', ' Mr. Stanko'], ['MacKay', ' Mr. George William'], ['Madigan', ' Miss. Margaret \"Maggie\"'], ['Madsen', ' Mr. Fridtjof Arne'], ['Maenpaa', ' Mr. Matti Alexanteri'], ['Mahon', ' Miss. Bridget Delia'], ['Mahon', ' Mr. John'], ['Maisner', ' Mr. Simon'], ['Makinen', ' Mr. Kalle Edvard'], ['Mamee', ' Mr. Hanna'], ['Mangan', ' Miss. Mary'], ['Mannion', ' Miss. Margareth'], ['Mardirosian', ' Mr. Sarkis'], ['Markoff', ' Mr. Marin'], ['Markun', ' Mr. Johann'], ['Masselmani', ' Mrs. Fatima'], ['Matinoff', ' Mr. Nicola'], ['McCarthy', ' Miss. Catherine \"Katie\"'], ['McCormack', ' Mr. Thomas Joseph'], ['McCoy', ' Miss. Agnes'], ['McCoy', ' Miss. Alicia'], ['McCoy', ' Mr. Bernard'], ['McDermott', ' Miss. Brigdet Delia'], ['McEvoy', ' Mr. Michael'], ['McGovern', ' Miss. Mary'], ['McGowan', ' Miss. Anna \"Annie\"'], ['McGowan', ' Miss. Katherine'], ['McMahon', ' Mr. Martin'], ['McNamee', ' Mr. Neal'], ['McNamee', \" Mrs. Neal (Eileen O'Leary)\"], ['McNeill', ' Miss. Bridget'], ['Meanwell', ' Miss. (Marion Ogden)'], ['Meek', ' Mrs. Thomas (Annie Louise Rowley)'], ['Meo', ' Mr. Alfonzo'], ['Mernagh', ' Mr. Robert'], ['Midtsjo', ' Mr. Karl Albert'], ['Miles', ' Mr. Frank'], ['Mineff', ' Mr. Ivan'], ['Minkoff', ' Mr. Lazar'], ['Mionoff', ' Mr. Stoytcho'], ['Mitkoff', ' Mr. Mito'], ['Mockler', ' Miss. Helen Mary \"Ellie\"'], ['Moen', ' Mr. Sigurd Hansen'], ['Moor', ' Master. Meier'], ['Moor', ' Mrs. (Beila)'], ['Moore', ' Mr. Leonard Charles'], ['Moran', ' Miss. Bertha'], ['Moran', ' Mr. Daniel J'], ['Moran', ' Mr. James'], ['Morley', ' Mr. William'], ['Morrow', ' Mr. Thomas Rowan'], ['Moss', ' Mr. Albert Johan'], ['Moubarek', ' Master. Gerios'], ['Moubarek', ' Master. Halim Gonios (\"William George\")'], ['Moubarek', ' Mrs. George (Omine \"Amenia\" Alexander)'], ['Moussa', ' Mrs. (Mantoura Boulos)'], ['Moutal', ' Mr. Rahamin Haim'], ['Mullens', ' Miss. Katherine \"Katie\"'], ['Mulvihill', ' Miss. Bertha E'], ['Murdlin', ' Mr. Joseph'], ['Murphy', ' Miss. Katherine \"Kate\"'], ['Murphy', ' Miss. Margaret Jane'], ['Murphy', ' Miss. Nora'], ['Myhrman', ' Mr. Pehr Fabian Oliver Malkolm'], ['Naidenoff', ' Mr. Penko'], ['Najib', ' Miss. Adele Kiamie \"Jane\"'], ['Nakid', ' Miss. Maria (\"Mary\")'], ['Nakid', ' Mr. Sahid'], ['Nakid', ' Mrs. Said (Waika \"Mary\" Mowad)'], ['Nancarrow', ' Mr. William Henry'], ['Nankoff', ' Mr. Minko'], ['Nasr', ' Mr. Mustafa'], ['Naughton', ' Miss. Hannah'], ['Nenkoff', ' Mr. Christo'], ['Nicola-Yarred', ' Master. Elias'], ['Nicola-Yarred', ' Miss. Jamila'], ['Nieminen', ' Miss. Manta Josefina'], ['Niklasson', ' Mr. Samuel'], ['Nilsson', ' Miss. Berta Olivia'], ['Nilsson', ' Miss. Helmina Josefina'], ['Nilsson', ' Mr. August Ferdinand'], ['Nirva', ' Mr. Iisakki Antino Aijo'], ['Niskanen', ' Mr. Juha'], ['Nosworthy', ' Mr. Richard Cater'], ['Novel', ' Mr. Mansouer'], ['Nysten', ' Miss. Anna Sofia'], ['Nysveen', ' Mr. Johan Hansen'], [\"O'Brien\", ' Mr. Thomas'], [\"O'Brien\", ' Mr. Timothy'], [\"O'Brien\", ' Mrs. Thomas (Johanna \"Hannah\" Godfrey)'], [\"O'Connell\", ' Mr. Patrick D'], [\"O'Connor\", ' Mr. Maurice'], [\"O'Connor\", ' Mr. Patrick'], ['Odahl', ' Mr. Nils Martin'], [\"O'Donoghue\", ' Ms. Bridget'], [\"O'Driscoll\", ' Miss. Bridget'], [\"O'Dwyer\", ' Miss. Ellen \"Nellie\"'], ['Ohman', ' Miss. Velin'], [\"O'Keefe\", ' Mr. Patrick'], [\"O'Leary\", ' Miss. Hanora \"Norah\"'], ['Olsen', ' Master. Artur Karl'], ['Olsen', ' Mr. Henry Margido'], ['Olsen', ' Mr. Karl Siegwart Andreas'], ['Olsen', ' Mr. Ole Martin'], ['Olsson', ' Miss. Elina'], ['Olsson', ' Mr. Nils Johan Goransson'], ['Olsson', ' Mr. Oscar Wilhelm'], ['Olsvigen', ' Mr. Thor Anderson'], ['Oreskovic', ' Miss. Jelka'], ['Oreskovic', ' Miss. Marija'], ['Oreskovic', ' Mr. Luka'], ['Osen', ' Mr. Olaf Elon'], ['Osman', ' Mrs. Mara'], [\"O'Sullivan\", ' Miss. Bridget Mary'], ['Palsson', ' Master. Gosta Leonard'], ['Palsson', ' Master. Paul Folke'], ['Palsson', ' Miss. Stina Viola'], ['Palsson', ' Miss. Torborg Danira'], ['Palsson', ' Mrs. Nils (Alma Cornelia Berglund)'], ['Panula', ' Master. Eino Viljami'], ['Panula', ' Master. Juha Niilo'], ['Panula', ' Master. Urho Abraham'], ['Panula', ' Mr. Ernesti Arvid'], ['Panula', ' Mr. Jaako Arnold'], ['Panula', ' Mrs. Juha (Maria Emilia Ojala)'], ['Pasic', ' Mr. Jakob'], ['Patchett', ' Mr. George'], ['Paulner', ' Mr. Uscher'], ['Pavlovic', ' Mr. Stefo'], ['Peacock', ' Master. Alfred Edward'], ['Peacock', ' Miss. Treasteall'], ['Peacock', ' Mrs. Benjamin (Edith Nile)'], ['Pearce', ' Mr. Ernest'], ['Pedersen', ' Mr. Olaf'], ['Peduzzi', ' Mr. Joseph'], ['Pekoniemi', ' Mr. Edvard'], ['Peltomaki', ' Mr. Nikolai Johannes'], ['Perkin', ' Mr. John Henry'], ['Persson', ' Mr. Ernst Ulrik'], ['Peter', ' Master. Michael J'], ['Peter', ' Miss. Anna'], ['Peter', ' Mrs. Catherine (Catherine Rizk)'], ['Peters', ' Miss. Katie'], ['Petersen', ' Mr. Marius'], ['Petranec', ' Miss. Matilda'], ['Petroff', ' Mr. Nedelio'], ['Petroff', ' Mr. Pastcho (\"Pentcho\")'], ['Petterson', ' Mr. Johan Emil'], ['Pettersson', ' Miss. Ellen Natalia'], ['Pickard', ' Mr. Berk (Berk Trembisky)'], ['Plotcharsky', ' Mr. Vasil'], ['Pokrnic', ' Mr. Mate'], ['Pokrnic', ' Mr. Tome'], ['Radeff', ' Mr. Alexander'], ['Rasmussen', ' Mrs. (Lena Jacobsen Solvang)'], ['Razi', ' Mr. Raihed'], ['Reed', ' Mr. James George'], ['Rekic', ' Mr. Tido'], ['Reynolds', ' Mr. Harold J'], ['Rice', ' Master. Albert'], ['Rice', ' Master. Arthur'], ['Rice', ' Master. Eric'], ['Rice', ' Master. Eugene'], ['Rice', ' Master. George Hugh'], ['Rice', ' Mrs. William (Margaret Norton)'], ['Riihivouri', ' Miss. Susanna Juhantytar \"Sanni\"'], ['Rintamaki', ' Mr. Matti'], ['Riordan', ' Miss. Johanna \"Hannah\"'], ['Risien', ' Mr. Samuel Beard'], ['Risien', ' Mrs. Samuel (Emma)'], ['Robins', ' Mr. Alexander A'], ['Robins', ' Mrs. Alexander A (Grace Charity Laury)'], ['Rogers', ' Mr. William John'], ['Rommetvedt', ' Mr. Knud Paust'], ['Rosblom', ' Miss. Salli Helena'], ['Rosblom', ' Mr. Viktor Richard'], ['Rosblom', ' Mrs. Viktor (Helena Wilhelmina)'], ['Roth', ' Miss. Sarah A'], ['Rouse', ' Mr. Richard Henry'], ['Rush', ' Mr. Alfred George John'], ['Ryan', ' Mr. Edward'], ['Ryan', ' Mr. Patrick'], ['Saad', ' Mr. Amin'], ['Saad', ' Mr. Khalil'], ['Saade', ' Mr. Jean Nassr'], ['Sadlier', ' Mr. Matthew'], ['Sadowitz', ' Mr. Harry'], ['Saether', ' Mr. Simon Sivertsen'], ['Sage', ' Master. Thomas Henry'], ['Sage', ' Master. William Henry'], ['Sage', ' Miss. Ada'], ['Sage', ' Miss. Constance Gladys'], ['Sage', ' Miss. Dorothy Edith \"Dolly\"'], ['Sage', ' Miss. Stella Anna'], ['Sage', ' Mr. Douglas Bullen'], ['Sage', ' Mr. Frederick'], ['Sage', ' Mr. George John Jr'], ['Sage', ' Mr. John George'], ['Sage', ' Mrs. John (Annie Bullen)'], ['Salander', ' Mr. Karl Johan'], ['Salkjelsvik', ' Miss. Anna Kristine'], ['Salonen', ' Mr. Johan Werner'], ['Samaan', ' Mr. Elias'], ['Samaan', ' Mr. Hanna'], ['Samaan', ' Mr. Youssef'], ['Sandstrom', ' Miss. Beatrice Irene'], ['Sandstrom', ' Mrs. Hjalmar (Agnes Charlotta Bengtsson)'], ['Sandstrom', ' Miss. Marguerite Rut'], ['Sap', ' Mr. Julius'], ['Saundercock', ' Mr. William Henry'], ['Sawyer', ' Mr. Frederick Charles'], ['Scanlan', ' Mr. James'], ['Sdycoff', ' Mr. Todor'], ['Shaughnessy', ' Mr. Patrick'], ['Sheerlinck', ' Mr. Jan Baptist'], ['Shellard', ' Mr. Frederick William'], ['Shine', ' Miss. Ellen Natalia'], ['Shorney', ' Mr. Charles Joseph'], ['Simmons', ' Mr. John'], ['Sirayanian', ' Mr. Orsen'], ['Sirota', ' Mr. Maurice'], ['Sivic', ' Mr. Husein'], ['Sivola', ' Mr. Antti Wilhelm'], ['Sjoblom', ' Miss. Anna Sofia'], ['Skoog', ' Master. Harald'], ['Skoog', ' Master. Karl Thorsten'], ['Skoog', ' Miss. Mabel'], ['Skoog', ' Miss. Margit Elizabeth'], ['Skoog', ' Mr. Wilhelm'], ['Skoog', ' Mrs. William (Anna Bernhardina Karlsson)'], ['Slabenoff', ' Mr. Petco'], ['Slocovski', ' Mr. Selman Francis'], ['Smiljanic', ' Mr. Mile'], ['Smith', ' Mr. Thomas'], ['Smyth', ' Miss. Julia'], ['Soholt', ' Mr. Peter Andreas Lauritz Andersen'], ['Somerton', ' Mr. Francis William'], ['Spector', ' Mr. Woolf'], ['Spinner', ' Mr. Henry John'], ['Staneff', ' Mr. Ivan'], ['Stankovic', ' Mr. Ivan'], ['Stanley', ' Miss. Amy Zillah Elsie'], ['Stanley', ' Mr. Edward Roland'], ['Storey', ' Mr. Thomas'], ['Stoytcheff', ' Mr. Ilia'], ['Strandberg', ' Miss. Ida Sofia'], ['Stranden', ' Mr. Juho'], ['Strilic', ' Mr. Ivan'], ['Strom', ' Miss. Telma Matilda'], ['Strom', ' Mrs. Wilhelm (Elna Matilda Persson)'], ['Sunderland', ' Mr. Victor Francis'], ['Sundman', ' Mr. Johan Julian'], ['Sutehall', ' Mr. Henry Jr'], ['Svensson', ' Mr. Johan'], ['Svensson', ' Mr. Johan Cervin'], ['Svensson', ' Mr. Olof'], ['Tenglin', ' Mr. Gunnar Isidor'], ['Theobald', ' Mr. Thomas Leonard'], ['Thomas', ' Master. Assad Alexander'], ['Thomas', ' Mr. Charles P'], ['Thomas', ' Mr. John'], ['Thomas', ' Mr. Tannous'], ['Thomas', ' Mrs. Alexander (Thamine \"Thelma\")'], ['Thomson', ' Mr. Alexander Morrison'], ['Thorneycroft', ' Mr. Percival'], ['Thorneycroft', ' Mrs. Percival (Florence Kate White)'], ['Tikkanen', ' Mr. Juho'], ['Tobin', ' Mr. Roger'], ['Todoroff', ' Mr. Lalio'], ['Tomlin', ' Mr. Ernest Portage'], ['Torber', ' Mr. Ernst William'], ['Torfa', ' Mr. Assad'], ['Tornquist', ' Mr. William Henry'], ['Toufik', ' Mr. Nakli'], ['Touma', ' Master. Georges Youssef'], ['Touma', ' Miss. Maria Youssef'], ['Touma', ' Mrs. Darwis (Hanne Youssef Razi)'], ['Turcin', ' Mr. Stjepan'], ['Turja', ' Miss. Anna Sofia'], ['Turkula', ' Mrs. (Hedwig)'], ['van Billiard', ' Master. James William'], ['van Billiard', ' Master. Walter John'], ['van Billiard', ' Mr. Austin Blyler'], ['Van Impe', ' Miss. Catharina'], ['Van Impe', ' Mr. Jean Baptiste'], ['Van Impe', ' Mrs. Jean Baptiste (Rosalie Paula Govaert)'], ['van Melkebeke', ' Mr. Philemon'], ['Vande Velde', ' Mr. Johannes Joseph'], ['Vande Walle', ' Mr. Nestor Cyriel'], ['Vanden Steen', ' Mr. Leo Peter'], ['Vander Cruyssen', ' Mr. Victor'], ['Vander Planke', ' Miss. Augusta Maria'], ['Vander Planke', ' Mr. Julius'], ['Vander Planke', ' Mr. Leo Edmondus'], ['Vander Planke', ' Mrs. Julius (Emelia Maria Vandemoortele)'], ['Vartanian', ' Mr. David'], ['Vendel', ' Mr. Olof Edvin'], ['Vestrom', ' Miss. Hulda Amanda Adolfina'], ['Vovk', ' Mr. Janko'], ['Waelens', ' Mr. Achille'], ['Ware', ' Mr. Frederick'], ['Warren', ' Mr. Charles William'], ['Webber', ' Mr. James'], ['Wenzel', ' Mr. Linhart'], ['Whabee', ' Mrs. George Joseph (Shawneene Abi-Saab)'], ['Widegren', ' Mr. Carl/Charles Peter'], ['Wiklund', ' Mr. Jakob Alfred'], ['Wiklund', ' Mr. Karl Johan'], ['Wilkes', ' Mrs. James (Ellen Needs)'], ['Willer', ' Mr. Aaron (\"Abi Weller\")'], ['Willey', ' Mr. Edward'], ['Williams', ' Mr. Howard Hugh \"Harry\"'], ['Williams', ' Mr. Leslie'], ['Windelov', ' Mr. Einar'], ['Wirz', ' Mr. Albert'], ['Wiseman', ' Mr. Phillippe'], ['Wittevrongel', ' Mr. Camille'], ['Yasbeck', ' Mr. Antoni'], ['Yasbeck', ' Mrs. Antoni (Selini Alexander)'], ['Youseff', ' Mr. Gerious'], ['Yousif', ' Mr. Wazli'], ['Yousseff', ' Mr. Gerious'], ['Zabour', ' Miss. Hileni'], ['Zabour', ' Miss. Thamine'], ['Zakarian', ' Mr. Mapriededer'], ['Zakarian', ' Mr. Ortin'], ['Zimmerman', ' Mr. Leo']]\n",
      " Master. Hudson Trevor\n",
      "[[' Miss', ' Elisabeth Walton'], [' Master', ' Hudson Trevor'], [' Miss', ' Helen Loraine'], [' Mr', ' Hudson Joshua Creighton'], [' Mrs', ' Hudson J C (Bessie Waldo Daniels)'], [' Mr', ' Harry'], [' Miss', ' Kornelia Theodosia'], [' Mr', ' Thomas Jr'], [' Mrs', ' Edward Dale (Charlotte Lamson)'], [' Mr', ' Ramon'], [' Col', ' John Jacob'], [' Mrs', ' John Jacob (Madeleine Talmadge Force)'], [' Mme', ' Leontine Pauline'], [' Miss', ' Ellen \"Nellie\"'], [' Mr', ' Algernon Henry Wilson'], [' Mr', ' John D'], [' Mr', ' Quigg Edmond'], [' Mrs', ' James (Helene DeLaudeniere Chaput)'], [' Miss', ' Albina'], [' Mr', ' Thomson'], [' Mr', ' Richard Leonard'], [' Mrs', ' Richard Leonard (Sallie Monypeny)'], [' Mr', ' Karl Howell'], [' Miss', ' Rosalie'], [' Miss', ' Ellen'], [' Mr', ' Jakob'], [' Mr', ' Dickinson H'], [' Mrs', ' Dickinson H (Helen Walton)'], [' Miss', ' Amelia'], [' Mr', ' Mauritz Hakan'], [' Mr', ' Stephen Weart'], [' Mr', ' Henry'], [' Miss', ' Caroline'], [' Miss', ' Elizabeth'], [' Mr', ' John James'], [' Miss', ' Grace Scott'], [' Miss', ' Elsie Edith'], [' Mr', ' George (\"George Arthur Brayton\")'], [' Mr', ' John Bertram'], [' Mr', ' Emil'], [' Dr', ' Arthur Jackson'], [' Mrs', ' James Joseph (Margaret Tobin)'], [' Mrs', ' John Murray (Caroline Lane Lamson)'], [' Mrs', ' William Robert (Emma Eliza Ward)'], [' Miss', ' Elizabeth Margaret'], [' Major', ' Archibald Willingham'], [' Mr', ' Alexander'], [' Mr', ' Edward Pennington'], [' Mrs', ' Edward (Helen Churchill Hungerford)'], [' Mr', ' Thomas Drake Martinez'], [' Mrs', ' James Warburton Martinez (Charlotte Wardle Drake)'], [' Mr', ' Frans Olof'], [' Mr', ' Francisco M'], [' Mr', ' Jose Pedro'], [' Master', ' William Thornton II'], [' Miss', ' Lucile Polk'], [' Mr', ' William Ernest'], [' Mrs', ' William Ernest (Lucile Polk)'], [' Mr', ' Howard Brown'], [' Mrs', ' Henry Arthur Jr (Eleanor Genevieve Fosdick)'], [' Mr', ' Tyrell William'], [' Mrs', ' Tyrell William (Julia Florence Siegel)'], [' Mr', ' Herbert Fuller'], [' Mrs', ' Herbert Fuller (Carrie Constance Toogood)'], [' Mr', ' Norman Campbell'], [' Mrs', ' Norman Campbell (Bertha Griggs)'], [' Miss', ' Victorine'], [' Miss', ' Gladys'], [' Mr', ' Paul Romaine'], [' Mrs', ' (Edith Martha Bowerman)'], [' Mr', ' Roderick Robert Crispin'], [' Mr', ' Walter Miller'], [' Mrs', ' Walter Miller (Virginia McDowell)'], [' Miss', ' Alice'], [' Mr', ' George Quincy'], [' Mr', ' Edward Pomeroy'], [' Miss', ' Sara Rebecca'], [' Mr', ' Alexander Taylor Jr'], [' Mrs', ' Alexander Taylor (Mary Eliza Ingersoll)'], [' Mrs', ' Robert Clifford (Malvina Helen Lamson)'], [' Mr', ' John Bertram'], [' Capt', ' Edward Gifford'], [' Miss', ' Harriet R'], [' Mrs', ' Edward Gifford (Catherine Elizabeth Halstead)'], [' Mr', ' John Bradley'], [' Mrs', ' John Bradley (Florence Briggs Thayer)'], [' Mr', ' Peter Denis '], [' Mr', ' Robert Williams'], [' Miss', ' Sarah'], [' Mr', ' Thornton'], [' Mrs', ' Thornton (Orian Hays)'], [' Mr', ' Albert Adrian'], [' Mrs', ' Albert Adrian (Vera Gillespie)'], [' Dr', ' Washington'], [' Master', ' Washington'], [' Mrs', ' Washington (Ruth Vidaver)'], [' Mr', ' Walter Donald'], [' Mrs', ' Frederick Charles (Mary Helene Baxter)'], [' Mrs', ' Walter Donald (Mahala Dutton)'], [' Lady', ' (Lucille Christiana Sutherland) (\"Mrs Morgan\")'], [' Sir', ' Cosmo Edmund (\"Mr Morgan\")'], [' Mr', ' William Crothers'], [' Mrs', ' Boulton (Olive Potter)'], [' Miss', ' Caroline Louise'], [' Miss', ' Elizabeth Mussey'], [' Miss', ' Edith Corse'], [' Mr', ' John'], [' Mrs', ' Alfred (Antoinette)'], [' Miss', ' Margaret'], [' Mr', ' John Irwin (\"Irving\")'], [' Mr', ' Benjamin Laventall'], [' Miss', ' Alice Elizabeth'], [' Miss', ' Ethel Flora'], [' Miss', ' Mabel Helen'], [' Mr', ' Charles Alexander'], [' Mr', ' Mark'], [' Mrs', ' Mark (Mary McDougald)'], [' Miss', ' Laura Mabel'], [' Mr', ' Thomas Parham'], [' Dr', ' Henry William'], [' Mr', ' Isaac Gerald'], [' Mrs', ' Henry William (Clara Heinsheimer)'], [' Miss', ' Hedwig Margaritha'], [' Mr', ' Maxmillian'], [' Mrs', ' Maxmillian (Margaretha Emerentia Stehli)'], [' Mr', ' Richard'], [' Mr', ' Jacques Heath'], [' Mrs', ' Jacques Heath (Lily May Peel)'], [' Mr', ' Arthur H'], [' Miss', ' Amalie'], [' Miss', ' Dorothy Winifred'], [' Mrs', ' Leonard (Pauline C Boeson)'], [' Mr', ' Victor'], [' Mr', ' Samuel L'], [' Mrs', ' Samuel L (Edwiga Grabowska)'], [' Mr', ' George B'], [' Col', ' Archibald IV'], [' Miss', ' Margaret Edith'], [' Mr', ' George Edward'], [' Mrs', ' William Thompson (Edith Junkins)'], [' Mr', ' William Bertram'], [' Mrs', ' Leo David (Blanche Strouse)'], [' Mr', ' Benjamin'], [' Mr', ' George Achilles'], [' Mrs', ' George Achilles (Dorothy Annan)'], [' Mr', ' Henry Sleeper'], [' Mrs', ' Henry Sleeper (Myna Haxtun)'], [' Mr', ' Charles H'], [' Mr', ' Henry Birkhardt'], [' Mrs', ' Henry Birkhardt (Irene Wallach)'], [' Mr', ' William'], [' Mr', ' Hammad'], [' Mr', ' Walter James'], [' Miss', ' Margaret Bechstein'], [' Mr', ' Charles Melville'], [' Mrs', ' Charles Melville (Clara Jennings Gregg)'], [' Mr', ' Christopher'], [' Mr', ' Herbert Henry'], [' Mr', ' William Edward'], [' Miss', ' Jean Gertrude'], [' Mrs', ' Louis Albert (Ida Sophia Fischer)'], [' Mrs', ' John C (Anna Andrews)'], [' Mr', ' Alexander Oskar'], [' Mrs', ' Alexander Oskar (Mary Aline Towner)'], [' Mr', ' Harry (\"Mr E Haven\")'], [' Mr', ' Frederick Maxfield'], [' Mr', ' William Fisher'], [' Mrs', ' Frederick Maxfield (Jane Anne Forby)'], [' Miss', ' Amelie'], [' Miss', ' Ann Elizabeth'], [' Mr', ' Joseph Bruce'], [' Mr', ' Charles Cresson'], [' Mr', ' Henry Forbes'], [' Mr', ' Edwin'], [' Mr', ' Edward Austin'], [' Mr', ' Frederick R'], [' Mrs', ' Frederick R (Marion)'], [' Mr', ' Edwin Nelson Jr'], [' Mrs', ' Edwin Nelson Jr (Gertrude Parsons)'], [' Mr', ' Herman'], [' Miss', ' Emilie'], [' Dr', ' Alice (Farnham)'], [' Miss', ' Bertha'], [' Mr', ' Gustave J'], [' Mr', ' Ervin G'], [' Mr', ' Erik Gustaf (\"Mr Edward Lingrey\")'], [' Mrs', ' Carl Johan (Sigrid Posse)'], [' Miss', ' Mary Conover'], [' Mrs', ' Ernest H (Elizabeth Lindsey James)'], [' Mr', ' Milton Clyde'], [' Miss', ' Gretchen Fiske'], [' Mr', ' Joseph Holland'], [' Miss', ' Elise'], [' Miss', ' Georgette Alexandra'], [' Mr', ' John Edward'], [' Miss', ' Roberta'], [' Mr', ' Pierre'], [' Mr', ' Daniel Warner'], [' Mrs', ' Daniel Warner (Mary Graham Carmichael Farquarson)'], [' Mlle', ' Berthe Antonine (\"Mrs de Villiers\")'], [' Mr', ' Thomas Francis'], [' Mr', ' Timothy J'], [' Mr', ' James Robert'], [' Mr', ' Edgar Joseph'], [' Mrs', ' Edgar Joseph (Leila Saks)'], [' Mr', ' Francis Davis'], [' Dr', ' William Edward'], [' Miss', ' Daisy E'], [' Mrs', ' William Edward (Lillian E Thorpe)'], [' Mr', ' Philipp Edmund'], [' Mr', ' Harry Markland'], [' Mr', ' Clarence Bloomfield'], [' Mr', ' Charles H'], [' Miss', ' Madeleine'], [' Miss', ' Marjorie'], [' Mr', ' Arthur Webster'], [' Miss', ' Helen Monypeny'], [' Mr', ' Arthur Ernest'], [' Dona', ' Fermina'], [' Mr', ' Alfred Fernand'], [' Miss', ' Helene Ragnhild'], [' Mr', ' Engelhart Cornelius'], [' Mr', ' Servando'], [' Mr', ' William Henry Marsh'], [' Mr', ' Austen'], [' Mr', ' Vivian Ponsonby'], [' Mr', ' Thomas Clinton'], [' Mrs', ' Thomas (Edith Wearne)'], [' Mr', ' Victor de Satode'], [' Mrs', ' Victor de Satode (Maria Josefa Perez de Soto y Vallejo)'], [' Miss', ' Anne'], [' Major', ' Arthur Godfrey'], [' Mr', ' Walter Chamberlain'], [' Mrs', ' Thomas Jr (Lily Alexenia Wilson)'], [' Jonkheer', ' John George'], [' Mr', ' George Alexander Lucien'], [' Mr', ' Sante'], [' Mr', ' Victor'], [' Mrs', ' Edward Scott (Elisabeth Walton McMillan)'], [' Mr', ' Washington Augustus II'], [' Mr', ' Charles Hallace (\"Mr C Rolmane\")'], [' Mr', ' Hugh Roscoe'], [' Miss', ' Edith Louise'], [' Mr', ' George (\"Mr George Thorne\")'], [' Mr', ' John Hugo'], [' the Countess', ' of (Lucy Noel Martha Dyer-Edwards)'], [' Mr', ' Martin'], [' Mrs', ' Martin (Elizabeth L', ' Barrett)'], [' Mr', ' Alfred G'], [' Master', ' John Borie'], [' Miss', ' Emily Borie'], [' Miss', ' Susan Parker \"Suzette\"'], [' Mr', ' Arthur Larned'], [' Mrs', ' Arthur Larned (Emily Maria Borie)'], [' Mr', ' Adolphe'], [' Mlle', ' Emma'], [' Mr', ' Abraham L'], [' Mrs', ' Paul (Emma Mock)'], [' Miss', ' Augusta'], [' Mr', ' Frederic Kimber'], [' Miss', ' Elizabeth W'], [' Mr', ' Spencer Victor'], [' Mr', ' William Baird'], [' Mrs', ' William Baird (Alice Munger)'], [' Col', ' Oberst Alfons'], [' Mr', ' William Thompson'], [' Mr', ' John Montgomery'], [' Mr', ' James Clinch'], [' Mr', ' Lucien Philip'], [' Mr', ' Richard William'], [' Mrs', ' Lucien Philip (Mary Eloise Hughes)'], [' Mr', ' John Pillsbury'], [' Mrs', ' John Pillsbury (Nelle Stevenson)'], [' Master', ' Robert Douglas'], [' Mr', ' Frederic Oakley'], [' Mrs', ' Frederic Oakley (Margaretta Corning Stone)'], [' Mr', ' William Augustus'], [' Mrs', ' William Augustus (Marie Eugenie)'], [' Dr', ' Max'], [' Mr', ' William Thomas'], [' Mr', ' Charles Emil Henry'], [' Mrs', ' Charles Emil Henry (Annie May Morris)'], [' Mrs', ' Walter Bertram (Martha Eustis)'], [' Mr', ' Albert A'], [' Mrs', ' George Nelson (Martha Evelyn)'], [' Mr', ' Isidor'], [' Mrs', ' Isidor (Rosalie Ida Blun)'], [' Mr', ' Frederick'], [' Mrs', ' Frederick Joel (Margaret Welles Barron)'], [' Miss', ' Ruth'], [' Mr', ' Emil'], [' Mrs', ' Emil (Tillie Mandelbaum)'], [' Mr', ' Elmer Zebley'], [' Mrs', ' Elmer Zebley (Juliet Cummins Wright)'], [' Mr', ' John Borland'], [' Mr', ' John Borland Jr'], [' Mrs', ' John Borland (Marian Longstreth Morris)'], [' Mrs', ' Gertrude Maybelle'], [' Mr', ' Gilbert Milligan Jr'], [' Don', ' Manuel E'], [' Mr', ' Wyckoff'], [' Mr', ' William Anderson'], [' Miss', ' Anna'], [' Mr', ' Frank Manley'], [' Mrs', ' Frank Manley (Anna Sophia Atkinson)'], [' Col', ' John'], [' Mr', ' Percival Wayland'], [' Mr', ' Richard Frasar'], [' Mrs', ' John Stuart (Ella Holmes)'], [' Miss', ' Mary Natalie'], [' Mr', ' George Dennick'], [' Mrs', ' George Dennick (Mary Hitchcock)'], [' Mr', ' George Dunton'], [' Mr', ' Harry Elkins'], [' Mrs', ' George Dunton (Eleanor Elkins)'], [' Miss', ' Constance'], [' Mr', ' Charles Duane'], [' Mr', ' Richard Norris II'], [' Mr', ' Fletcher Fellows'], [' Miss', ' Helen Alice'], [' Mr', ' Hugh'], [' Mr', ' George'], [' Miss', ' Marie Grice'], [' Mr', ' Samuel'], [' Mrs', ' Samuel (Hannah Wizosky)'], [' Mr', ' Charles Augustus'], [' Mr', ' Edgardo Samuel'], [' Mr', ' Frank Thomas'], [' Mr', ' William A'], [' Mrs', ' William A (Florence \"Mary\" Agnes Hughes)'], [' Mr', ' John'], [' Mr', ' Percy Andrew'], [' Mr', ' Charles Robert'], [' Mrs', ' (Ada E Hall)'], [' Mr', ' Frederick James'], [' Rev', ' Robert James'], [' Mr', ' Edward'], [' Mrs', ' Edward (Ethel Clarke)'], [' Mr', ' Henry James'], [' Master', ' Richard F'], [' Miss', ' Marion Louise'], [' Miss', ' Ruth Elizabeth'], [' Mrs', ' Allen Oliver (Nellie E Baumgardner)'], [' Mr', ' Lawrence'], [' Miss', ' Lilian W'], [' Mr', ' William John'], [' Mr', ' William Hull'], [' Mr', ' Solomon'], [' Mr', ' James H'], [' Miss', ' Amelia \"Mildred\"'], [' Miss', ' Edith Eileen'], [' Mr', ' Thomas William Solomon'], [' Mrs', ' Thomas William Solomon (Elizabeth Catherine Ford)'], [' Miss', ' Dagmar Jenny Ingeborg '], [' Mr', ' Kurt Arnold Gottfrid'], [' Miss', ' Kate'], [' Mr', ' Reginald Fenton'], [' Rev', ' Thomas Roussel Davids'], [' Mrs', ' (Karolina)'], [' Master', ' Alden Gates'], [' Mr', ' Albert Francis'], [' Mrs', ' Albert Francis (Sylvia Mae Harbaugh)'], [' Miss', ' Clear Annie'], [' Mr', ' William'], [' Mr', ' William'], [' Mrs', ' Ernest Courtenay (Lilian Hughes)'], [' Rev', ' Ernest Courtenay'], [' Mr', ' Charles Henry'], [' Mr', ' John Henry'], [' Mrs', ' John Henry (Sara Elizabeth Lawry)'], [' Miss', ' Julie Rachel'], [' Mrs', ' (Alice Frances)'], [' Mr', ' Charles Valentine'], [' Mrs', ' Charles V (Ada Maria Winfield)'], [' Mr', ' Reginald Charles'], [' Mr', ' Erik Gustaf'], [' Mr', ' Sidney C Stuart'], [' Miss', ' Marjorie \"Lottie\"'], [' Mr', ' Harvey'], [' Mrs', ' Harvey (Charlotte Annie Tate)'], [' Mrs', ' (Selena Rogers)'], [' Mrs', ' Walter H (Irene Colvin)'], [' Mrs', ' Percy C (Mary Phyllis Elizabeth Miller)'], [' Mr', ' Henry \"Harry\"'], [' Mr', ' Alfred Fleming'], [' Master', ' John Morgan Jr'], [' Mr', ' Charles Henry'], [' Mrs', ' John Morgan (Elizabeth Agnes Mary White) '], [' Miss', ' Mary'], [' Mr', ' Jose Joaquim'], [' Mr', ' Percy William'], [' Mr', ' Sebastiano'], [' Mrs', ' Sebastiano (Argenia Genovesi)'], [' Mr', ' Herbert'], [' Mr', ' William'], [' Miss', ' Elsie'], [' Mrs', ' John T (Ada Julia Bone)'], [' Mr', ' William James'], [' Master', ' Marshall Brines'], [' Mr', ' James Vivian'], [' Mrs', ' James Vivian (Lulu Thorne Christian)'], [' Miss', ' Asuncion'], [' Miss', ' Florentina'], [' Mr', ' George Floyd'], [' Mr', ' Ingvar'], [' Mr', ' Arne Jonas'], [' Mr', ' Harry'], [' Mrs', ' Lizzie (Elizabeth Anne Wilkinson)'], [' Mr', ' Joseph Charles'], [' Mr', ' Stanley Hubert'], [' Mr', ' Anthony Wood \"Archie\"'], [' Miss', ' Annie Clemmer'], [' Mr', ' Joseph J'], [' Mr', ' Harry'], [' Mr', ' Shadrach'], [' Miss', ' Ethel'], [' Mr', ' Alfred'], [' Mr', ' Lawrence'], [' Mr', ' William'], [' Mr', ' Edgar'], [' Mr', ' Frederick Edward'], [' Mr', ' Ralph'], [' Mr', ' John William'], [' Mr', ' William Henry'], [' Mr', ' Hans Kristensen'], [' Mr', ' Samuel'], [' Mr', ' Reginald'], [' Master', ' Viljo'], [' Mrs', ' William (Anna)'], [' Mr', ' William H'], [' Miss', ' Annie Jessie \"Nina\"'], [' Rev', ' John'], [' Mr', ' George'], [' Mr', ' Walter'], [' Miss', ' Eva Miriam'], [' Mr', ' Benjamin'], [' Mrs', ' Benjamin (Esther Ada Bloomfield)'], [' Miss', ' Alice'], [' Miss', ' Kate'], [' Mr', ' Samuel'], [' Mrs', ' Samuel (Jane Laver)'], [' Mrs', ' (Mary D Kingcome) '], [' Mr', ' Leonard Mark'], [' Mr', ' Lewis'], [' Mr', ' Stanley George'], [' Miss', ' Marta'], [' Miss', ' Ellen \"Nellie\"'], [' Mr', ' Richard George'], [' Mr', ' Samuel James Metcalfe'], [' Mrs', ' Elizabeth (Eliza Needs)'], [' Mr', ' Henry Price'], [' Mr', ' Stephen'], [' Mrs', ' Stephen (Annie Margaret Hill)'], [' Mr', ' Ambrose Jr'], [' Mr', ' Masabumi'], [' Mr', ' Benjamin'], [' Mrs', ' Benjamin (Ellen Truelove Arman)'], [' Mr', ' George Henry'], [' Miss', ' Bertha'], [' Mr', ' Sidney Samuel'], [' Mrs', ' Sidney Samuel (Amy Frances Christy)'], [' Mr', ' John Denzil'], [' Mr', ' Clifford Thomas'], [' Mr', ' Ernest Wilfred'], [' Mr', ' Stephen Curnow'], [' Mrs', ' Amin S (Marie Marthe Thuillard)'], [' Mr', ' Sinai'], [' Mrs', ' Sinai (Miriam Sternin)'], [' Mrs', ' J Frank (Claire Bennett)'], [' Miss', ' Nora A'], [' Mr', ' Daniel'], [' Mrs', ' Florence \"Fannie\"'], [' Rev', ' Charles Leonard'], [' Mr', ' Robert J'], [' Mr', ' Johan Henrik Johannesson'], [' Mrs', ' William (Anna Sylfven)'], [' Rev', ' William'], [' Mr', ' John Joseph'], [' Miss', ' Louise'], [' Miss', ' Simonne Marie Anne Andree'], [' Mr', ' Joseph Philippe Lemercier'], [' Mrs', ' Joseph (Juliette Marie Louise Lafargue)'], [' Miss', ' Bertha'], [' Miss', ' Jessie Wills'], [' Mrs', ' (Amelia Milley)'], [' Mr', ' Rene Jacques'], [' Mr', ' Robert William Norman'], [' Mr', ' John'], [' Mr', ' Charles Alexander'], [' Mrs', ' Charles Alexander (Alice Adelaide Slow)'], [' Mrs', ' (Mary)'], [' Mr', ' Noel'], [' Master', ' Andre'], [' Mr', ' Albert'], [' Mrs', ' Albert (Antoinette Magnin)'], [' Mr', ' Serafino Emilio'], [' Mr', ' William John'], [' Mr', ' Frank Hubert'], [' Mr', ' Arthur Gordon'], [' Mr', ' James Matthew'], [' Mr', ' Peter David'], [' Miss', ' Madeleine Violet'], [' Mrs', ' (Elizabeth Anne Maidment)'], [' Mr', ' William John'], [' Mr', ' August'], [' Mr', ' Jacob Christian'], [' Mr', ' Henry Michael'], [' Rev', ' Juozas'], [' Dr', ' Ernest'], [' Mr', ' Henry Samuel (\"Mr Henry Marshall\")'], [' Mr', ' Thomas Charles'], [' Mr', ' Thomas Francis'], [' Mr', ' Nicholas'], [' Mrs', ' Nicholas (Adele Achem)'], [' Master', ' Edmond Roger'], [' Master', ' Michel M'], [' Mr', ' Michel (\"Louis M Hoffman\")'], [' Mr', ' Israel'], [' Mr', ' Joseph Charles'], [' Mr', ' Robert Douglas'], [' Mr', ' Alfred (\"Baron von Drachstedt\")'], [' Mrs', ' (Elizabeth Ramell)'], [' Mr', ' Richard'], [' Mr', ' Percy Thomas'], [' Mr', ' Julian'], [' Dr', ' Alfred'], [' Mr', ' Emilio'], [' Mr', ' Clifford Richard'], [' Mr', ' Francis \"Frank\"'], [' Mrs', ' (Lutie Davis)'], [' Mr', ' Frederick William'], [' Mr', ' Rene'], [' Rev', ' Joseph Maria'], [' Miss', ' Alice Frances Louisa'], [' Miss', ' Kate Florence (\"Mrs Kate Louise Phillips Marshall\")'], [' Mr', ' Escott Robert'], [' Mrs', ' (Rosa)'], [' Mr', ' Martin'], [' Mr', ' Emilio Ilario Giuseppe'], [' Mr', ' Franz'], [' Miss', ' Phyllis May'], [' Miss', ' Winifred Vera'], [' Mrs', ' Frederick Charles (Jane Richards)'], [' Mr', ' David'], [' Mr', ' Peter Henry'], [' Mrs', ' Peter Henry (Lillian Jefferys)'], [' Ms', ' Encarnacion'], [' Mr', ' Emile'], [' Master', ' George Sibley'], [' Master', ' William Rowe'], [' Mrs', ' Sidney (Emily Hocking)'], [' Miss', ' Lucy'], [' Mr', ' Reginald Harry'], [' Miss', ' Emily'], [' Mr', ' August'], [' Mr', ' Charles Frederick Waddington'], [' Mr', ' Percival James R'], [' Mrs', ' William (Imanita Parrish Hall)'], [' Miss', ' Lyyli Karoliina'], [' Miss', ' Maude'], [' Miss', ' Anna'], [' Mr', ' Ernst Adolf'], [' Miss', ' Hilda Mary'], [' Mr', ' Richard James'], [' Miss', ' Marion Elsie'], [' Mr', ' Samuel James Hayden'], [' Mr', ' Samuel Ward'], [' Mr', ' Philip Joseph'], [' Mr', ' George'], [' Mr', ' George Frederick'], [' Miss', ' Ellen'], [' Mr', ' Moses Aaron'], [' Mrs', ' William H (Jessie L)'], [' Miss', ' Edwina Celia \"Winnie\"'], [' Mr', ' William John Robert'], [' Mrs', ' William John Robert (Dorothy Ann Wonnacott)'], [' Mr', ' James'], [' Miss', ' Nellie'], [' Mr', ' John James'], [' Mr', ' William Jeffery'], [' Mrs', ' John James (Florence Louise Long)'], [' Mr', ' Ennis Hastings'], [' Miss', ' Bertha J'], [' Mrs', ' James (Elizabeth \"Bessie\" Inglis Milne)'], [' Miss', ' Susan'], [' Mr', ' Leopold'], [' Mrs', ' Leopold (Mathilde Francoise Pede)'], [' Master', ' Ralph Lester'], [' Miss', ' Joan'], [' Mrs', ' Arthur Henry (\"Addie\" Dart Trevaskis)'], [' Miss', ' Barbara J'], [' Miss', ' Constance Mirium'], [' Mr', ' Edwy Arthur'], [' Mrs', ' Edwy Arthur (Ada Mary Worth)'], [' Mr', ' Edward H'], [' Mr', ' Edwin \"Frederick\"'], [' Mr', ' Charles'], [' Mr', ' Charles Eugene'], [' Miss', ' Marion'], [' Miss', ' Henriette (\"Mrs Harbeck\")'], [' Mr', ' Anthony'], [' Master', ' Eugene Joseph'], [' Mr', ' Rossmore Edward'], [' Mrs', ' Stanton (Rosa Hunt)'], [' Miss', ' Karen Marie'], [' Mr', ' Olaus Jorgensen'], [' Mr', ' Abraham August Johannes'], [' Mrs', ' Joseph (Sophie Halaut Easu)'], [' Mr', ' Mauritz Nils Martin'], [' Mr', ' John'], [' Mrs', ' Johan (Johanna Persdotter Larsson)'], [' Master', ' Philip Frank'], [' Mrs', ' Sam (Leah Rosen)'], [' Mr', ' Nassef Cassem'], [' Mr', ' William'], [' Mr', ' Ilmari Rudolf'], [' Mr', ' Ahmed'], [' Mr', ' William'], [' Mr', ' William Henry'], [' Mr', ' Owen George'], [' Mr', ' Albert Karvin'], [' Miss', ' Carla Christine Nielsine'], [' Master', ' Sigvard Harald Elias'], [' Miss', ' Ebba Iris Alfrida'], [' Miss', ' Ellis Anna Maria'], [' Miss', ' Erna Alexandra'], [' Miss', ' Ida Augusta Margareta'], [' Miss', ' Ingeborg Constanzia'], [' Miss', ' Sigrid Elisabeth'], [' Mr', ' Anders Johan'], [' Mr', ' August Edvard (\"Wennerstrom\")'], [' Mr', ' Johan Samuel'], [' Mrs', ' Anders Johan (Alfrida Konstantia Brogren)'], [' Mr', ' Paul Edvin'], [' Mr', ' Minko'], [' Mr', ' Josef'], [' Mrs', ' Josef (Josefine Franchi)'], [' Mr', ' Ernst Axel Algot'], [' Mr', ' Adola'], [' Master', ' Carl Edgar'], [' Master', ' Clarence Gustaf Hugo'], [' Master', ' Edvin Rojj Felix'], [' Master', ' Filip Oscar'], [' Miss', ' Lillian Gertrud'], [' Mr', ' Carl Oscar Vilhelm Gustafsson'], [' Mr', ' Johan Charles'], [' Mrs', ' Carl Oscar (Selma Augusta Emilia Johansson)'], [' Mrs', ' Mariana (\"Miriam\")'], [' Mr', ' Gerios'], [' Mr', ' Ali'], [' Miss', ' Malake'], [' Mr', ' Sleiman'], [' Mr', ' Albert'], [' Miss', ' Banoura'], [' Mr', ' Raffull'], [' Mr', ' Karl Alfred'], [' Mrs', ' Karl Alfred (Maria Mathilda Gustafsson)'], [' Miss', ' Eugenie'], [' Miss', ' Helene Barbara'], [' Miss', ' Marie Catherine'], [' Mrs', ' Solomon (Latifa Qurban)'], [' Miss', ' Emily Louisa'], [' Mr', ' Mohamed'], [' Mr', ' Cerin'], [' Mr', ' Hanna Assi'], [' Miss', ' Saiide'], [' Mrs', ' (Catherine David)'], [' Miss', ' Julia'], [' Mr', ' David John'], [' Mr', ' William Thomas'], [' Mr', ' John Viktor'], [' Mr', ' Karl Ivar Sven'], [' Master', ' Seman'], [' Mr', ' Tannous'], [' Mr', ' Lee'], [' Mr', ' Hans Martin Monsen'], [' Mr', ' Ernst Herbert'], [' Mr', ' Guentcho'], [' Master', ' Akar'], [' Miss', ' Nourelain'], [' Mr', ' Hanna'], [' Mrs', ' Joseph (Sultana)'], [' Miss', ' Mary'], [' Mr', ' John'], [' Mrs', ' John (Catherine)'], [' Mr', ' David John \"Dai\"'], [' Miss', ' Bridget Delia'], [' Miss', ' Elin Ester Maria'], [' Mr', ' Lewis Richard'], [' Mr', ' Owen Harris'], [' Mr', ' Karl Rudolf'], [' Mr', ' William Alfred'], [' Miss', ' Katherine'], [' Mr', ' Daniel'], [' Mr', ' Jeremiah'], [' Miss', ' Mary Delia'], [' Miss', ' Manda'], [' Miss', ' Marija'], [' Mr', ' Jego Grga'], [' Mr', ' Luka'], [' Mr', ' Jovo'], [' Mr', ' Petar'], [' Miss', ' Mary'], [' Mr', ' Patrick'], [' Mr', ' Ernest Charles'], [' Mr', ' Joseph'], [' Mrs', ' Joseph (Maria Elias)'], [' Mr', ' August Sigfrid'], [' Mr', ' Carl Robert'], [' Miss', ' Helen \"Ellen\"'], [' Miss', ' Jeannie'], [' Mr', ' Alfred John'], [' Mr', ' Francesco'], [' Mr', ' David'], [' Mr', ' Chang'], [' Mr', ' Emil'], [' Mr', ' Apostolos'], [' Mr', ' Demetrios'], [' Mr', ' Domingos Fernandeo'], [' Mr', ' Gurshon \"Gus\"'], [' Mr', ' Patrick'], [' Mr', ' Peju'], [' Mr', ' Satio'], [' Mr', ' Thomas Henry'], [' Mr', ' Michael'], [' Miss', ' Kate'], [' Miss', ' Kate'], [' Mr', ' Patrick'], [' Mr', ' Jacob'], [' Mr', ' Bartol'], [' Mr', ' Ivan'], [' Mr', ' Liudevit'], [' Mr', ' Harry'], [' Master', ' Eden Leslie \"Neville\"'], [' Master', ' William Loch \"William\"'], [' Mrs', ' William (Winnie \"Minnie\" Treanor)'], [' Mr', ' Daniel'], [' Mr', ' Ernest James'], [' Miss', ' Laura Alice'], [' Mr', ' John Hatfield'], [' Mr', ' Jeso'], [' Mr', ' Shedid'], [' Mr', ' Karl Edwart'], [' Miss', ' Gerda Ulrika'], [' Mr', ' Branko'], [' Miss', ' Margaret Marcella \"Maggie\"'], [' Mr', ' Eugene Patrick'], [' Master', ' Gilbert Sigvard Emanuel'], [' Mr', ' Ernst Gilbert'], [' Mrs', ' Ernst Gilbert (Anna Sigrid Maria Brogren)'], [' Mr', ' Yoto'], [' Mr', ' Ristiu'], [' Mr', ' Alfred J'], [' Mr', ' Evan'], [' Mr', ' John Samuel'], [' Mr', ' Joseph'], [' Mr', ' Thomas Henry'], [' Mrs', ' Thomas Henry (Mary E Finck)'], [' Mr', ' Guillaume Joseph'], [' Mrs', ' Guillaume Joseph (Emma)'], [' Mr', ' Theodore'], [' Mr', ' Alfons'], [' Master', ' Bertram Vere'], [' Miss', ' Elizabeth Gladys \"Millvina\"'], [' Mr', ' Bertram Frank'], [' Mrs', ' Bertram (Eva Georgetta Light)'], [' Mr', ' Redjo'], [' Mr', ' Marinko'], [' Mr', ' Mitto'], [' Mr', ' Samuel'], [' Mr', ' William'], [' Miss', ' Margaret Delia'], [' Mr', ' Mirko'], [' Mr', ' Jovan'], [' Mr', ' Valtcho'], [' Mr', ' Tannous'], [' Mr', ' Patrick'], [' Mr', ' Edward Arthur'], [' Miss', ' Elizabeth'], [' Miss', ' Elizabeth'], [' Miss', ' Jennie'], [' Mr', ' Jozef'], [' Mr', ' Frank'], [' Mr', ' Joseph'], [' Mr', ' Adolf Fredrik'], [' Mrs', ' Adolf Fredrik (Anna Elisabeth Judith Andersson)'], [' Mr', ' Gustaf Hjalmar'], [' Mr', ' Hans Linus'], [' Mr', ' Johan'], [' Mr', ' Dibo'], [' Mr', ' Joseph'], [' Mr', ' Joseph Jr'], [' Mr', ' Tannous'], [' Mr', ' William James'], [' Miss', ' Virginia Ethel'], [' Mr', ' Farred Chehab'], [' Mr', ' Thomas James'], [' Mr', ' James'], [' Mr', ' Luigi'], [' Mr', ' Eberhard Thelander'], [' Miss', ' Honora'], [' Mr', ' James'], [' Mr', ' John'], [' Mr', ' Joseph'], [' Mr', ' William'], [' Mr', ' Choong'], [' Miss', ' Doolina Margaret \"Daisy\"'], [' Miss', ' Robina Maggie \"Ruby\"'], [' Mr', ' Arthur'], [' Mr', ' Edward Watson'], [' Mr', ' William Neal'], [' Mrs', ' Edward (Margaret Ann Watson)'], [' Mr', ' Patrick'], [' Mr', ' Charles (Charles Fardon)'], [' Mr', ' Martin'], [' Mr', ' John'], [' Mr', ' Stanio'], [' Mr', ' Eliezer'], [' Miss', ' Katherine \"Katie\"'], [' Miss', ' Mary Agatha'], [' Master', ' Frank John William \"Frankie\"'], [' Mr', ' Frank John'], [' Mr', ' Nathan'], [' Mrs', ' Frank John (Emily Alice Brown)'], [' Mr', ' Manuel Estanslas'], [' Master', ' Harold Victor'], [' Master', ' Sidney Leonard'], [' Master', ' William Frederick'], [' Miss', ' Jessie Allis'], [' Miss', ' Lillian Amy'], [' Mr', ' Charles Edward'], [' Mr', ' Charles Frederick'], [' Mrs', ' Frederick (Augusta Tyler)'], [' Mr', ' George Henry'], [' Mr', ' Daniel Danielsen'], [' Mr', ' Robert'], [' Mr', ' Alfred Ossian'], [' Mr', ' Anders Vilhelm'], [' Mr', ' Johan Birger'], [' Mr', ' Karl Gideon'], [' Miss', ' Aloisia'], [' Miss', ' Kate'], [' Mr', ' Ingvald Olai Olsen'], [' Mr', ' Konrad Mathias Reiersen'], [' Mr', ' Pekka Pietari'], [' Mrs', ' Pekka Pietari (Elin Matilda Dolck)'], [' Mr', ' Leon'], [' Mr', ' Mansour'], [' Mr', ' Claus Peter'], [' Mr', ' Henrik Juul'], [' Mr', ' Henry Damsgaard'], [' Mrs', ' Claus Peter (Jennie L Howard)'], [' Miss', ' Alice Phoebe'], [' Mr', ' Abraham (David Lishin)'], [' Mr', ' Henry'], [' Mr', ' Houssein G N'], [' Miss', ' Hanora \"Nora\"'], [' Mr', ' Oskar Arvid'], [' Mr', ' Ling'], [' Miss', ' Hanora \"Nora\"'], [' Miss', ' Laina'], [' Miss', ' Wendla Maria'], [' Miss', ' Hilda Maria'], [' Mr', ' Ignjac'], [' Miss', ' Jenny Lovisa'], [' Miss', ' Delia'], [' Miss', ' Hildur E'], [' Mrs', ' Alexander (Helga E Lindqvist)'], [' Mr', ' John Fredrik Alexander'], [' Mr', ' Johan Martin'], [' Miss', ' Eliina'], [' Mr', ' John'], [' Miss', ' May Elizabeth'], [' Mr', ' Adolf Mathias Nicolai Olsen'], [' Mr', ' Abraham'], [' Mr', ' Yousseff'], [' Mr', ' Ylio'], [' Miss', ' Ida Livija'], [' Miss', ' Pieta Sofia'], [' Mr', ' Kanio'], [' Mr', ' Ivan'], [' Mr', ' Carl Olof'], [' Mr', ' Jose Neto'], [' Mr', ' Hans Peder'], [' Mr', ' Niels Peder'], [' Mr', ' Svend Lauritz'], [' Miss', ' Annie'], [' Mr', ' Bernt'], [' Mr', ' Jakob Alfred'], [' Mr', ' Oskar Leander'], [' Mr', ' Erik'], [' Mr', ' Gustaf Joel'], [' Mr', ' Karl Johan'], [' Mr', ' Nils'], [' Master', ' Harold Theodor'], [' Miss', ' Eleanor Ileen'], [' Mr', ' Alfred'], [' Mr', ' Malkolm Joackim'], [' Mr', ' William Cahoone Jr'], [' Mrs', ' Oscar W (Elisabeth Vilhelmina Berg)'], [' Master', ' William Arthur \"Willie\"'], [' Miss', ' Catherine Helen \"Carrie\"'], [' Mr', ' Andrew G'], [' Mrs', ' Andrew G (Elizabeth \"Lily\" Watson)'], [' Mr', ' Lalio'], [' Mr', ' Carl'], [' Mr', ' Nils Hilding'], [' Miss', ' Katriina'], [' Miss', ' Mari Aina'], [' Mr', ' Eiriik'], [' Mr', ' Nikolai Erland'], [' Mr', ' Johannes Halvorsen'], [' Mr', ' Milan'], [' Mr', ' Einar Gervasius'], [' Mr', ' Julius Konrad Eugen'], [' Mr', ' Nils August'], [' Miss', ' Manca'], [' Mr', ' Franz'], [' Mr', ' Fared'], [' Mr', ' Vassilios (\"Catavelas Vassilios\")'], [' Mr', ' Andrew \"Andy\"'], [' Mr', ' Arthur'], [' Miss', ' Anna Katherine \"Annie Kate\"'], [' Miss', ' Mary'], [' Mr', ' James'], [' Mr', ' James'], [' Mr', ' John'], [' Mr', ' Betros'], [' Mrs', ' Betros (Zahie \"Maria\" Elias)'], [' Mr', ' John'], [' Mr', ' Philip'], [' Mr', ' Thomas J'], [' Miss', ' Maria'], [' Mr', ' Vincenz'], [' Miss', ' Luise Gretchen'], [' Mr', ' Anton'], [' Mrs', ' Anton (Luise Heilmann)'], [' Miss', ' Gertrud Emilia'], [' Mr', ' Klas Albin'], [' Mrs', ' (Hulda Kristina Eugenia Lofqvist)'], [' Mr', ' Theodor'], [' Mr', ' Neshan'], [' Mr', ' Sarkis'], [' Miss', ' Kristina Sofia'], [' Mr', ' Kristo'], [' Mr', ' Ali'], [' Mr', ' Len'], [' Miss', ' Aurora Adelia'], [' Mr', ' Patrick'], [' Mr', ' Fang'], [' Mr', ' August Viktor'], [' Mr', ' Bengt Edvin'], [' Mr', ' Edvard A'], [' Mr', ' Fahim (\"Philip Zenni\")'], [' Master', ' Henry Forbes'], [' Miss', ' Ida'], [' Miss', ' Jeannie'], [' Miss', ' Mathilde'], [' Mrs', ' Frank (Frances)'], [' Mr', ' Antti Gustaf'], [' Mr', ' Peter L'], [' Miss', ' Mary'], [' Mr', ' Denis'], [' Mr', ' Lionel'], [' Mr', ' James'], [' Mr', ' Rene Aime'], [' Miss', ' Agda Thorilda Viktoria'], [' Miss', ' Augusta Charlotta'], [' Mr', ' Edvard Bengtsson'], [' Mrs', ' Edvard Bengtsson (Elin Gerda Persson)'], [' Mr', ' Eino William'], [' Mr', ' Michael'], [' Mr', ' Lee'], [' Mr', ' Simon'], [' Mr', ' William Arthur'], [' Mrs', ' William Arthur (Cordelia K Stanlick)'], [' Mr', ' Edward'], [' Mr', ' John Hall (\"Henry\")'], [' Mr', ' Nikola'], [' Mr', ' Johan Svensson'], [' Miss', ' Olga Elida'], [' Mr', ' Thure Edvin'], [' Mr', ' Stanko'], [' Mr', ' George William'], [' Miss', ' Margaret \"Maggie\"'], [' Mr', ' Fridtjof Arne'], [' Mr', ' Matti Alexanteri'], [' Miss', ' Bridget Delia'], [' Mr', ' John'], [' Mr', ' Simon'], [' Mr', ' Kalle Edvard'], [' Mr', ' Hanna'], [' Miss', ' Mary'], [' Miss', ' Margareth'], [' Mr', ' Sarkis'], [' Mr', ' Marin'], [' Mr', ' Johann'], [' Mrs', ' Fatima'], [' Mr', ' Nicola'], [' Miss', ' Catherine \"Katie\"'], [' Mr', ' Thomas Joseph'], [' Miss', ' Agnes'], [' Miss', ' Alicia'], [' Mr', ' Bernard'], [' Miss', ' Brigdet Delia'], [' Mr', ' Michael'], [' Miss', ' Mary'], [' Miss', ' Anna \"Annie\"'], [' Miss', ' Katherine'], [' Mr', ' Martin'], [' Mr', ' Neal'], [' Mrs', \" Neal (Eileen O'Leary)\"], [' Miss', ' Bridget'], [' Miss', ' (Marion Ogden)'], [' Mrs', ' Thomas (Annie Louise Rowley)'], [' Mr', ' Alfonzo'], [' Mr', ' Robert'], [' Mr', ' Karl Albert'], [' Mr', ' Frank'], [' Mr', ' Ivan'], [' Mr', ' Lazar'], [' Mr', ' Stoytcho'], [' Mr', ' Mito'], [' Miss', ' Helen Mary \"Ellie\"'], [' Mr', ' Sigurd Hansen'], [' Master', ' Meier'], [' Mrs', ' (Beila)'], [' Mr', ' Leonard Charles'], [' Miss', ' Bertha'], [' Mr', ' Daniel J'], [' Mr', ' James'], [' Mr', ' William'], [' Mr', ' Thomas Rowan'], [' Mr', ' Albert Johan'], [' Master', ' Gerios'], [' Master', ' Halim Gonios (\"William George\")'], [' Mrs', ' George (Omine \"Amenia\" Alexander)'], [' Mrs', ' (Mantoura Boulos)'], [' Mr', ' Rahamin Haim'], [' Miss', ' Katherine \"Katie\"'], [' Miss', ' Bertha E'], [' Mr', ' Joseph'], [' Miss', ' Katherine \"Kate\"'], [' Miss', ' Margaret Jane'], [' Miss', ' Nora'], [' Mr', ' Pehr Fabian Oliver Malkolm'], [' Mr', ' Penko'], [' Miss', ' Adele Kiamie \"Jane\"'], [' Miss', ' Maria (\"Mary\")'], [' Mr', ' Sahid'], [' Mrs', ' Said (Waika \"Mary\" Mowad)'], [' Mr', ' William Henry'], [' Mr', ' Minko'], [' Mr', ' Mustafa'], [' Miss', ' Hannah'], [' Mr', ' Christo'], [' Master', ' Elias'], [' Miss', ' Jamila'], [' Miss', ' Manta Josefina'], [' Mr', ' Samuel'], [' Miss', ' Berta Olivia'], [' Miss', ' Helmina Josefina'], [' Mr', ' August Ferdinand'], [' Mr', ' Iisakki Antino Aijo'], [' Mr', ' Juha'], [' Mr', ' Richard Cater'], [' Mr', ' Mansouer'], [' Miss', ' Anna Sofia'], [' Mr', ' Johan Hansen'], [' Mr', ' Thomas'], [' Mr', ' Timothy'], [' Mrs', ' Thomas (Johanna \"Hannah\" Godfrey)'], [' Mr', ' Patrick D'], [' Mr', ' Maurice'], [' Mr', ' Patrick'], [' Mr', ' Nils Martin'], [' Ms', ' Bridget'], [' Miss', ' Bridget'], [' Miss', ' Ellen \"Nellie\"'], [' Miss', ' Velin'], [' Mr', ' Patrick'], [' Miss', ' Hanora \"Norah\"'], [' Master', ' Artur Karl'], [' Mr', ' Henry Margido'], [' Mr', ' Karl Siegwart Andreas'], [' Mr', ' Ole Martin'], [' Miss', ' Elina'], [' Mr', ' Nils Johan Goransson'], [' Mr', ' Oscar Wilhelm'], [' Mr', ' Thor Anderson'], [' Miss', ' Jelka'], [' Miss', ' Marija'], [' Mr', ' Luka'], [' Mr', ' Olaf Elon'], [' Mrs', ' Mara'], [' Miss', ' Bridget Mary'], [' Master', ' Gosta Leonard'], [' Master', ' Paul Folke'], [' Miss', ' Stina Viola'], [' Miss', ' Torborg Danira'], [' Mrs', ' Nils (Alma Cornelia Berglund)'], [' Master', ' Eino Viljami'], [' Master', ' Juha Niilo'], [' Master', ' Urho Abraham'], [' Mr', ' Ernesti Arvid'], [' Mr', ' Jaako Arnold'], [' Mrs', ' Juha (Maria Emilia Ojala)'], [' Mr', ' Jakob'], [' Mr', ' George'], [' Mr', ' Uscher'], [' Mr', ' Stefo'], [' Master', ' Alfred Edward'], [' Miss', ' Treasteall'], [' Mrs', ' Benjamin (Edith Nile)'], [' Mr', ' Ernest'], [' Mr', ' Olaf'], [' Mr', ' Joseph'], [' Mr', ' Edvard'], [' Mr', ' Nikolai Johannes'], [' Mr', ' John Henry'], [' Mr', ' Ernst Ulrik'], [' Master', ' Michael J'], [' Miss', ' Anna'], [' Mrs', ' Catherine (Catherine Rizk)'], [' Miss', ' Katie'], [' Mr', ' Marius'], [' Miss', ' Matilda'], [' Mr', ' Nedelio'], [' Mr', ' Pastcho (\"Pentcho\")'], [' Mr', ' Johan Emil'], [' Miss', ' Ellen Natalia'], [' Mr', ' Berk (Berk Trembisky)'], [' Mr', ' Vasil'], [' Mr', ' Mate'], [' Mr', ' Tome'], [' Mr', ' Alexander'], [' Mrs', ' (Lena Jacobsen Solvang)'], [' Mr', ' Raihed'], [' Mr', ' James George'], [' Mr', ' Tido'], [' Mr', ' Harold J'], [' Master', ' Albert'], [' Master', ' Arthur'], [' Master', ' Eric'], [' Master', ' Eugene'], [' Master', ' George Hugh'], [' Mrs', ' William (Margaret Norton)'], [' Miss', ' Susanna Juhantytar \"Sanni\"'], [' Mr', ' Matti'], [' Miss', ' Johanna \"Hannah\"'], [' Mr', ' Samuel Beard'], [' Mrs', ' Samuel (Emma)'], [' Mr', ' Alexander A'], [' Mrs', ' Alexander A (Grace Charity Laury)'], [' Mr', ' William John'], [' Mr', ' Knud Paust'], [' Miss', ' Salli Helena'], [' Mr', ' Viktor Richard'], [' Mrs', ' Viktor (Helena Wilhelmina)'], [' Miss', ' Sarah A'], [' Mr', ' Richard Henry'], [' Mr', ' Alfred George John'], [' Mr', ' Edward'], [' Mr', ' Patrick'], [' Mr', ' Amin'], [' Mr', ' Khalil'], [' Mr', ' Jean Nassr'], [' Mr', ' Matthew'], [' Mr', ' Harry'], [' Mr', ' Simon Sivertsen'], [' Master', ' Thomas Henry'], [' Master', ' William Henry'], [' Miss', ' Ada'], [' Miss', ' Constance Gladys'], [' Miss', ' Dorothy Edith \"Dolly\"'], [' Miss', ' Stella Anna'], [' Mr', ' Douglas Bullen'], [' Mr', ' Frederick'], [' Mr', ' George John Jr'], [' Mr', ' John George'], [' Mrs', ' John (Annie Bullen)'], [' Mr', ' Karl Johan'], [' Miss', ' Anna Kristine'], [' Mr', ' Johan Werner'], [' Mr', ' Elias'], [' Mr', ' Hanna'], [' Mr', ' Youssef'], [' Miss', ' Beatrice Irene'], [' Mrs', ' Hjalmar (Agnes Charlotta Bengtsson)'], [' Miss', ' Marguerite Rut'], [' Mr', ' Julius'], [' Mr', ' William Henry'], [' Mr', ' Frederick Charles'], [' Mr', ' James'], [' Mr', ' Todor'], [' Mr', ' Patrick'], [' Mr', ' Jan Baptist'], [' Mr', ' Frederick William'], [' Miss', ' Ellen Natalia'], [' Mr', ' Charles Joseph'], [' Mr', ' John'], [' Mr', ' Orsen'], [' Mr', ' Maurice'], [' Mr', ' Husein'], [' Mr', ' Antti Wilhelm'], [' Miss', ' Anna Sofia'], [' Master', ' Harald'], [' Master', ' Karl Thorsten'], [' Miss', ' Mabel'], [' Miss', ' Margit Elizabeth'], [' Mr', ' Wilhelm'], [' Mrs', ' William (Anna Bernhardina Karlsson)'], [' Mr', ' Petco'], [' Mr', ' Selman Francis'], [' Mr', ' Mile'], [' Mr', ' Thomas'], [' Miss', ' Julia'], [' Mr', ' Peter Andreas Lauritz Andersen'], [' Mr', ' Francis William'], [' Mr', ' Woolf'], [' Mr', ' Henry John'], [' Mr', ' Ivan'], [' Mr', ' Ivan'], [' Miss', ' Amy Zillah Elsie'], [' Mr', ' Edward Roland'], [' Mr', ' Thomas'], [' Mr', ' Ilia'], [' Miss', ' Ida Sofia'], [' Mr', ' Juho'], [' Mr', ' Ivan'], [' Miss', ' Telma Matilda'], [' Mrs', ' Wilhelm (Elna Matilda Persson)'], [' Mr', ' Victor Francis'], [' Mr', ' Johan Julian'], [' Mr', ' Henry Jr'], [' Mr', ' Johan'], [' Mr', ' Johan Cervin'], [' Mr', ' Olof'], [' Mr', ' Gunnar Isidor'], [' Mr', ' Thomas Leonard'], [' Master', ' Assad Alexander'], [' Mr', ' Charles P'], [' Mr', ' John'], [' Mr', ' Tannous'], [' Mrs', ' Alexander (Thamine \"Thelma\")'], [' Mr', ' Alexander Morrison'], [' Mr', ' Percival'], [' Mrs', ' Percival (Florence Kate White)'], [' Mr', ' Juho'], [' Mr', ' Roger'], [' Mr', ' Lalio'], [' Mr', ' Ernest Portage'], [' Mr', ' Ernst William'], [' Mr', ' Assad'], [' Mr', ' William Henry'], [' Mr', ' Nakli'], [' Master', ' Georges Youssef'], [' Miss', ' Maria Youssef'], [' Mrs', ' Darwis (Hanne Youssef Razi)'], [' Mr', ' Stjepan'], [' Miss', ' Anna Sofia'], [' Mrs', ' (Hedwig)'], [' Master', ' James William'], [' Master', ' Walter John'], [' Mr', ' Austin Blyler'], [' Miss', ' Catharina'], [' Mr', ' Jean Baptiste'], [' Mrs', ' Jean Baptiste (Rosalie Paula Govaert)'], [' Mr', ' Philemon'], [' Mr', ' Johannes Joseph'], [' Mr', ' Nestor Cyriel'], [' Mr', ' Leo Peter'], [' Mr', ' Victor'], [' Miss', ' Augusta Maria'], [' Mr', ' Julius'], [' Mr', ' Leo Edmondus'], [' Mrs', ' Julius (Emelia Maria Vandemoortele)'], [' Mr', ' David'], [' Mr', ' Olof Edvin'], [' Miss', ' Hulda Amanda Adolfina'], [' Mr', ' Janko'], [' Mr', ' Achille'], [' Mr', ' Frederick'], [' Mr', ' Charles William'], [' Mr', ' James'], [' Mr', ' Linhart'], [' Mrs', ' George Joseph (Shawneene Abi-Saab)'], [' Mr', ' Carl/Charles Peter'], [' Mr', ' Jakob Alfred'], [' Mr', ' Karl Johan'], [' Mrs', ' James (Ellen Needs)'], [' Mr', ' Aaron (\"Abi Weller\")'], [' Mr', ' Edward'], [' Mr', ' Howard Hugh \"Harry\"'], [' Mr', ' Leslie'], [' Mr', ' Einar'], [' Mr', ' Albert'], [' Mr', ' Phillippe'], [' Mr', ' Camille'], [' Mr', ' Antoni'], [' Mrs', ' Antoni (Selini Alexander)'], [' Mr', ' Gerious'], [' Mr', ' Wazli'], [' Mr', ' Gerious'], [' Miss', ' Hileni'], [' Miss', ' Thamine'], [' Mr', ' Mapriededer'], [' Mr', ' Ortin'], [' Mr', ' Leo']]\n",
      "[' Mr', ' Harry']\n"
     ]
    },
    {
     "data": {
      "text/html": [
       "<div>\n",
       "<style scoped>\n",
       "    .dataframe tbody tr th:only-of-type {\n",
       "        vertical-align: middle;\n",
       "    }\n",
       "\n",
       "    .dataframe tbody tr th {\n",
       "        vertical-align: top;\n",
       "    }\n",
       "\n",
       "    .dataframe thead th {\n",
       "        text-align: right;\n",
       "    }\n",
       "</style>\n",
       "<table border=\"1\" class=\"dataframe\">\n",
       "  <thead>\n",
       "    <tr style=\"text-align: right;\">\n",
       "      <th></th>\n",
       "      <th>pclass</th>\n",
       "      <th>survived</th>\n",
       "      <th>name</th>\n",
       "      <th>sex</th>\n",
       "      <th>age</th>\n",
       "      <th>sibsp</th>\n",
       "      <th>parch</th>\n",
       "      <th>ticket</th>\n",
       "      <th>fare</th>\n",
       "      <th>embarked</th>\n",
       "      <th>home.dest</th>\n",
       "    </tr>\n",
       "  </thead>\n",
       "  <tbody>\n",
       "    <tr>\n",
       "      <th>0</th>\n",
       "      <td>1.0</td>\n",
       "      <td>1.0</td>\n",
       "      <td>Allen, Miss. Elisabeth Walton</td>\n",
       "      <td>female</td>\n",
       "      <td>29.0000</td>\n",
       "      <td>0.0</td>\n",
       "      <td>0.0</td>\n",
       "      <td>24160</td>\n",
       "      <td>211.3375</td>\n",
       "      <td>S</td>\n",
       "      <td>St Louis, MO</td>\n",
       "    </tr>\n",
       "    <tr>\n",
       "      <th>1</th>\n",
       "      <td>1.0</td>\n",
       "      <td>1.0</td>\n",
       "      <td>Allison, Master. Hudson Trevor</td>\n",
       "      <td>male</td>\n",
       "      <td>0.9167</td>\n",
       "      <td>1.0</td>\n",
       "      <td>2.0</td>\n",
       "      <td>113781</td>\n",
       "      <td>151.5500</td>\n",
       "      <td>S</td>\n",
       "      <td>Montreal, PQ / Chesterville, ON</td>\n",
       "    </tr>\n",
       "    <tr>\n",
       "      <th>2</th>\n",
       "      <td>1.0</td>\n",
       "      <td>0.0</td>\n",
       "      <td>Allison, Miss. Helen Loraine</td>\n",
       "      <td>female</td>\n",
       "      <td>2.0000</td>\n",
       "      <td>1.0</td>\n",
       "      <td>2.0</td>\n",
       "      <td>113781</td>\n",
       "      <td>151.5500</td>\n",
       "      <td>S</td>\n",
       "      <td>Montreal, PQ / Chesterville, ON</td>\n",
       "    </tr>\n",
       "    <tr>\n",
       "      <th>3</th>\n",
       "      <td>1.0</td>\n",
       "      <td>0.0</td>\n",
       "      <td>Allison, Mr. Hudson Joshua Creighton</td>\n",
       "      <td>male</td>\n",
       "      <td>30.0000</td>\n",
       "      <td>1.0</td>\n",
       "      <td>2.0</td>\n",
       "      <td>113781</td>\n",
       "      <td>151.5500</td>\n",
       "      <td>S</td>\n",
       "      <td>Montreal, PQ / Chesterville, ON</td>\n",
       "    </tr>\n",
       "    <tr>\n",
       "      <th>4</th>\n",
       "      <td>1.0</td>\n",
       "      <td>0.0</td>\n",
       "      <td>Allison, Mrs. Hudson J C (Bessie Waldo Daniels)</td>\n",
       "      <td>female</td>\n",
       "      <td>25.0000</td>\n",
       "      <td>1.0</td>\n",
       "      <td>2.0</td>\n",
       "      <td>113781</td>\n",
       "      <td>151.5500</td>\n",
       "      <td>S</td>\n",
       "      <td>Montreal, PQ / Chesterville, ON</td>\n",
       "    </tr>\n",
       "  </tbody>\n",
       "</table>\n",
       "</div>"
      ],
      "text/plain": [
       "   pclass  survived                                             name     sex  \\\n",
       "0     1.0       1.0                    Allen, Miss. Elisabeth Walton  female   \n",
       "1     1.0       1.0                   Allison, Master. Hudson Trevor    male   \n",
       "2     1.0       0.0                     Allison, Miss. Helen Loraine  female   \n",
       "3     1.0       0.0             Allison, Mr. Hudson Joshua Creighton    male   \n",
       "4     1.0       0.0  Allison, Mrs. Hudson J C (Bessie Waldo Daniels)  female   \n",
       "\n",
       "       age  sibsp  parch  ticket      fare embarked  \\\n",
       "0  29.0000    0.0    0.0   24160  211.3375        S   \n",
       "1   0.9167    1.0    2.0  113781  151.5500        S   \n",
       "2   2.0000    1.0    2.0  113781  151.5500        S   \n",
       "3  30.0000    1.0    2.0  113781  151.5500        S   \n",
       "4  25.0000    1.0    2.0  113781  151.5500        S   \n",
       "\n",
       "                         home.dest  \n",
       "0                     St Louis, MO  \n",
       "1  Montreal, PQ / Chesterville, ON  \n",
       "2  Montreal, PQ / Chesterville, ON  \n",
       "3  Montreal, PQ / Chesterville, ON  \n",
       "4  Montreal, PQ / Chesterville, ON  "
      ]
     },
     "execution_count": 31,
     "metadata": {},
     "output_type": "execute_result"
    }
   ],
   "source": [
    "title=[]\n",
    "for x in df['name']:\n",
    "    title.append(x.split(','))\n",
    "print(title)\n",
    "print(title[1][1])\n",
    "title1=[]\n",
    "i=0\n",
    "for x in title:\n",
    "    title1.append(title[i][1].split('.'))\n",
    "    i=i+1\n",
    "print(title1)\n",
    "print(title1[5])\n",
    "df.head()"
   ]
  },
  {
   "cell_type": "code",
   "execution_count": 32,
   "metadata": {},
   "outputs": [
    {
     "name": "stdout",
     "output_type": "stream",
     "text": [
      "[' Miss', ' Master', ' Miss', ' Mr', ' Mrs', ' Mr', ' Miss', ' Mr', ' Mrs', ' Mr', ' Col', ' Mrs', ' Mme', ' Miss', ' Mr', ' Mr', ' Mr', ' Mrs', ' Miss', ' Mr', ' Mr', ' Mrs', ' Mr', ' Miss', ' Miss', ' Mr', ' Mr', ' Mrs', ' Miss', ' Mr', ' Mr', ' Mr', ' Miss', ' Miss', ' Mr', ' Miss', ' Miss', ' Mr', ' Mr', ' Mr', ' Dr', ' Mrs', ' Mrs', ' Mrs', ' Miss', ' Major', ' Mr', ' Mr', ' Mrs', ' Mr', ' Mrs', ' Mr', ' Mr', ' Mr', ' Master', ' Miss', ' Mr', ' Mrs', ' Mr', ' Mrs', ' Mr', ' Mrs', ' Mr', ' Mrs', ' Mr', ' Mrs', ' Miss', ' Miss', ' Mr', ' Mrs', ' Mr', ' Mr', ' Mrs', ' Miss', ' Mr', ' Mr', ' Miss', ' Mr', ' Mrs', ' Mrs', ' Mr', ' Capt', ' Miss', ' Mrs', ' Mr', ' Mrs', ' Mr', ' Mr', ' Miss', ' Mr', ' Mrs', ' Mr', ' Mrs', ' Dr', ' Master', ' Mrs', ' Mr', ' Mrs', ' Mrs', ' Lady', ' Sir', ' Mr', ' Mrs', ' Miss', ' Miss', ' Miss', ' Mr', ' Mrs', ' Miss', ' Mr', ' Mr', ' Miss', ' Miss', ' Miss', ' Mr', ' Mr', ' Mrs', ' Miss', ' Mr', ' Dr', ' Mr', ' Mrs', ' Miss', ' Mr', ' Mrs', ' Mr', ' Mr', ' Mrs', ' Mr', ' Miss', ' Miss', ' Mrs', ' Mr', ' Mr', ' Mrs', ' Mr', ' Col', ' Miss', ' Mr', ' Mrs', ' Mr', ' Mrs', ' Mr', ' Mr', ' Mrs', ' Mr', ' Mrs', ' Mr', ' Mr', ' Mrs', ' Mr', ' Mr', ' Mr', ' Miss', ' Mr', ' Mrs', ' Mr', ' Mr', ' Mr', ' Miss', ' Mrs', ' Mrs', ' Mr', ' Mrs', ' Mr', ' Mr', ' Mr', ' Mrs', ' Miss', ' Miss', ' Mr', ' Mr', ' Mr', ' Mr', ' Mr', ' Mr', ' Mrs', ' Mr', ' Mrs', ' Mr', ' Miss', ' Dr', ' Miss', ' Mr', ' Mr', ' Mr', ' Mrs', ' Miss', ' Mrs', ' Mr', ' Miss', ' Mr', ' Miss', ' Miss', ' Mr', ' Miss', ' Mr', ' Mr', ' Mrs', ' Mlle', ' Mr', ' Mr', ' Mr', ' Mr', ' Mrs', ' Mr', ' Dr', ' Miss', ' Mrs', ' Mr', ' Mr', ' Mr', ' Mr', ' Miss', ' Miss', ' Mr', ' Miss', ' Mr', ' Dona', ' Mr', ' Miss', ' Mr', ' Mr', ' Mr', ' Mr', ' Mr', ' Mr', ' Mrs', ' Mr', ' Mrs', ' Miss', ' Major', ' Mr', ' Mrs', ' Jonkheer', ' Mr', ' Mr', ' Mr', ' Mrs', ' Mr', ' Mr', ' Mr', ' Miss', ' Mr', ' Mr', ' the Countess', ' Mr', ' Mrs', ' Mr', ' Master', ' Miss', ' Miss', ' Mr', ' Mrs', ' Mr', ' Mlle', ' Mr', ' Mrs', ' Miss', ' Mr', ' Miss', ' Mr', ' Mr', ' Mrs', ' Col', ' Mr', ' Mr', ' Mr', ' Mr', ' Mr', ' Mrs', ' Mr', ' Mrs', ' Master', ' Mr', ' Mrs', ' Mr', ' Mrs', ' Dr', ' Mr', ' Mr', ' Mrs', ' Mrs', ' Mr', ' Mrs', ' Mr', ' Mrs', ' Mr', ' Mrs', ' Miss', ' Mr', ' Mrs', ' Mr', ' Mrs', ' Mr', ' Mr', ' Mrs', ' Mrs', ' Mr', ' Don', ' Mr', ' Mr', ' Miss', ' Mr', ' Mrs', ' Col', ' Mr', ' Mr', ' Mrs', ' Miss', ' Mr', ' Mrs', ' Mr', ' Mr', ' Mrs', ' Miss', ' Mr', ' Mr', ' Mr', ' Miss', ' Mr', ' Mr', ' Miss', ' Mr', ' Mrs', ' Mr', ' Mr', ' Mr', ' Mr', ' Mrs', ' Mr', ' Mr', ' Mr', ' Mrs', ' Mr', ' Rev', ' Mr', ' Mrs', ' Mr', ' Master', ' Miss', ' Miss', ' Mrs', ' Mr', ' Miss', ' Mr', ' Mr', ' Mr', ' Mr', ' Miss', ' Miss', ' Mr', ' Mrs', ' Miss', ' Mr', ' Miss', ' Mr', ' Rev', ' Mrs', ' Master', ' Mr', ' Mrs', ' Miss', ' Mr', ' Mr', ' Mrs', ' Rev', ' Mr', ' Mr', ' Mrs', ' Miss', ' Mrs', ' Mr', ' Mrs', ' Mr', ' Mr', ' Mr', ' Miss', ' Mr', ' Mrs', ' Mrs', ' Mrs', ' Mrs', ' Mr', ' Mr', ' Master', ' Mr', ' Mrs', ' Miss', ' Mr', ' Mr', ' Mr', ' Mrs', ' Mr', ' Mr', ' Miss', ' Mrs', ' Mr', ' Master', ' Mr', ' Mrs', ' Miss', ' Miss', ' Mr', ' Mr', ' Mr', ' Mr', ' Mrs', ' Mr', ' Mr', ' Mr', ' Miss', ' Mr', ' Mr', ' Mr', ' Miss', ' Mr', ' Mr', ' Mr', ' Mr', ' Mr', ' Mr', ' Mr', ' Mr', ' Mr', ' Mr', ' Mr', ' Master', ' Mrs', ' Mr', ' Miss', ' Rev', ' Mr', ' Mr', ' Miss', ' Mr', ' Mrs', ' Miss', ' Miss', ' Mr', ' Mrs', ' Mrs', ' Mr', ' Mr', ' Mr', ' Miss', ' Miss', ' Mr', ' Mr', ' Mrs', ' Mr', ' Mr', ' Mrs', ' Mr', ' Mr', ' Mr', ' Mrs', ' Mr', ' Miss', ' Mr', ' Mrs', ' Mr', ' Mr', ' Mr', ' Mr', ' Mrs', ' Mr', ' Mrs', ' Mrs', ' Miss', ' Mr', ' Mrs', ' Rev', ' Mr', ' Mr', ' Mrs', ' Rev', ' Mr', ' Miss', ' Miss', ' Mr', ' Mrs', ' Miss', ' Miss', ' Mrs', ' Mr', ' Mr', ' Mr', ' Mr', ' Mrs', ' Mrs', ' Mr', ' Master', ' Mr', ' Mrs', ' Mr', ' Mr', ' Mr', ' Mr', ' Mr', ' Mr', ' Miss', ' Mrs', ' Mr', ' Mr', ' Mr', ' Mr', ' Rev', ' Dr', ' Mr', ' Mr', ' Mr', ' Mr', ' Mrs', ' Master', ' Master', ' Mr', ' Mr', ' Mr', ' Mr', ' Mr', ' Mrs', ' Mr', ' Mr', ' Mr', ' Dr', ' Mr', ' Mr', ' Mr', ' Mrs', ' Mr', ' Mr', ' Rev', ' Miss', ' Miss', ' Mr', ' Mrs', ' Mr', ' Mr', ' Mr', ' Miss', ' Miss', ' Mrs', ' Mr', ' Mr', ' Mrs', ' Ms', ' Mr', ' Master', ' Master', ' Mrs', ' Miss', ' Mr', ' Miss', ' Mr', ' Mr', ' Mr', ' Mrs', ' Miss', ' Miss', ' Miss', ' Mr', ' Miss', ' Mr', ' Miss', ' Mr', ' Mr', ' Mr', ' Mr', ' Mr', ' Miss', ' Mr', ' Mrs', ' Miss', ' Mr', ' Mrs', ' Mr', ' Miss', ' Mr', ' Mr', ' Mrs', ' Mr', ' Miss', ' Mrs', ' Miss', ' Mr', ' Mrs', ' Master', ' Miss', ' Mrs', ' Miss', ' Miss', ' Mr', ' Mrs', ' Mr', ' Mr', ' Mr', ' Mr', ' Miss', ' Miss', ' Mr', ' Master', ' Mr', ' Mrs', ' Miss', ' Mr', ' Mr', ' Mrs', ' Mr', ' Mr', ' Mrs', ' Master', ' Mrs', ' Mr', ' Mr', ' Mr', ' Mr', ' Mr', ' Mr', ' Mr', ' Mr', ' Miss', ' Master', ' Miss', ' Miss', ' Miss', ' Miss', ' Miss', ' Miss', ' Mr', ' Mr', ' Mr', ' Mrs', ' Mr', ' Mr', ' Mr', ' Mrs', ' Mr', ' Mr', ' Master', ' Master', ' Master', ' Master', ' Miss', ' Mr', ' Mr', ' Mrs', ' Mrs', ' Mr', ' Mr', ' Miss', ' Mr', ' Mr', ' Miss', ' Mr', ' Mr', ' Mrs', ' Miss', ' Miss', ' Miss', ' Mrs', ' Miss', ' Mr', ' Mr', ' Mr', ' Miss', ' Mrs', ' Miss', ' Mr', ' Mr', ' Mr', ' Mr', ' Master', ' Mr', ' Mr', ' Mr', ' Mr', ' Mr', ' Master', ' Miss', ' Mr', ' Mrs', ' Miss', ' Mr', ' Mrs', ' Mr', ' Miss', ' Miss', ' Mr', ' Mr', ' Mr', ' Mr', ' Miss', ' Mr', ' Mr', ' Miss', ' Miss', ' Miss', ' Mr', ' Mr', ' Mr', ' Mr', ' Miss', ' Mr', ' Mr', ' Mr', ' Mrs', ' Mr', ' Mr', ' Miss', ' Miss', ' Mr', ' Mr', ' Mr', ' Mr', ' Mr', ' Mr', ' Mr', ' Mr', ' Mr', ' Mr', ' Mr', ' Mr', ' Mr', ' Mr', ' Miss', ' Miss', ' Mr', ' Mr', ' Mr', ' Mr', ' Mr', ' Mr', ' Master', ' Master', ' Mrs', ' Mr', ' Mr', ' Miss', ' Mr', ' Mr', ' Mr', ' Mr', ' Miss', ' Mr', ' Miss', ' Mr', ' Master', ' Mr', ' Mrs', ' Mr', ' Mr', ' Mr', ' Mr', ' Mr', ' Mr', ' Mr', ' Mrs', ' Mr', ' Mrs', ' Mr', ' Mr', ' Master', ' Miss', ' Mr', ' Mrs', ' Mr', ' Mr', ' Mr', ' Mr', ' Mr', ' Miss', ' Mr', ' Mr', ' Mr', ' Mr', ' Mr', ' Mr', ' Miss', ' Miss', ' Miss', ' Mr', ' Mr', ' Mr', ' Mr', ' Mrs', ' Mr', ' Mr', ' Mr', ' Mr', ' Mr', ' Mr', ' Mr', ' Mr', ' Miss', ' Mr', ' Mr', ' Mr', ' Mr', ' Mr', ' Miss', ' Mr', ' Mr', ' Mr', ' Mr', ' Mr', ' Miss', ' Miss', ' Mr', ' Mr', ' Mr', ' Mrs', ' Mr', ' Mr', ' Mr', ' Mr', ' Mr', ' Mr', ' Miss', ' Miss', ' Master', ' Mr', ' Mr', ' Mrs', ' Mr', ' Master', ' Master', ' Master', ' Miss', ' Miss', ' Mr', ' Mr', ' Mrs', ' Mr', ' Mr', ' Mr', ' Mr', ' Mr', ' Mr', ' Mr', ' Miss', ' Miss', ' Mr', ' Mr', ' Mr', ' Mrs', ' Mr', ' Mr', ' Mr', ' Mr', ' Mr', ' Mrs', ' Miss', ' Mr', ' Mr', ' Mr', ' Miss', ' Mr', ' Mr', ' Miss', ' Miss', ' Miss', ' Miss', ' Mr', ' Miss', ' Miss', ' Miss', ' Mrs', ' Mr', ' Mr', ' Miss', ' Mr', ' Miss', ' Mr', ' Mr', ' Mr', ' Mr', ' Miss', ' Miss', ' Mr', ' Mr', ' Mr', ' Mr', ' Mr', ' Mr', ' Mr', ' Miss', ' Mr', ' Mr', ' Mr', ' Mr', ' Mr', ' Mr', ' Mr', ' Master', ' Miss', ' Mr', ' Mr', ' Mr', ' Mrs', ' Master', ' Miss', ' Mr', ' Mrs', ' Mr', ' Mr', ' Mr', ' Miss', ' Miss', ' Mr', ' Mr', ' Mr', ' Mr', ' Mr', ' Mr', ' Mr', ' Miss', ' Mr', ' Mr', ' Mr', ' Mr', ' Mr', ' Miss', ' Miss', ' Mr', ' Mr', ' Mr', ' Mr', ' Mrs', ' Mr', ' Mr', ' Mr', ' Miss', ' Mr', ' Miss', ' Mr', ' Mrs', ' Miss', ' Mr', ' Mrs', ' Mr', ' Mr', ' Mr', ' Miss', ' Mr', ' Mr', ' Mr', ' Miss', ' Mr', ' Mr', ' Mr', ' Mr', ' Mr', ' Mr', ' Master', ' Miss', ' Miss', ' Miss', ' Mrs', ' Mr', ' Mr', ' Miss', ' Mr', ' Mr', ' Mr', ' Mr', ' Miss', ' Miss', ' Mr', ' Mrs', ' Mr', ' Mr', ' Mr', ' Mr', ' Mr', ' Mrs', ' Mr', ' Mr', ' Mr', ' Mr', ' Miss', ' Mr', ' Mr', ' Mr', ' Miss', ' Mr', ' Mr', ' Miss', ' Mr', ' Mr', ' Mr', ' Mr', ' Miss', ' Miss', ' Mr', ' Mr', ' Mr', ' Mrs', ' Mr', ' Miss', ' Mr', ' Miss', ' Miss', ' Mr', ' Miss', ' Mr', ' Miss', ' Miss', ' Miss', ' Mr', ' Mr', ' Mrs', ' Miss', ' Miss', ' Mrs', ' Mr', ' Mr', ' Mr', ' Mr', ' Mr', ' Mr', ' Mr', ' Mr', ' Miss', ' Mr', ' Master', ' Mrs', ' Mr', ' Miss', ' Mr', ' Mr', ' Mr', ' Mr', ' Mr', ' Master', ' Master', ' Mrs', ' Mrs', ' Mr', ' Miss', ' Miss', ' Mr', ' Miss', ' Miss', ' Miss', ' Mr', ' Mr', ' Miss', ' Miss', ' Mr', ' Mrs', ' Mr', ' Mr', ' Mr', ' Miss', ' Mr', ' Master', ' Miss', ' Miss', ' Mr', ' Miss', ' Miss', ' Mr', ' Mr', ' Mr', ' Mr', ' Mr', ' Miss', ' Mr', ' Mr', ' Mr', ' Mrs', ' Mr', ' Mr', ' Mr', ' Mr', ' Ms', ' Miss', ' Miss', ' Miss', ' Mr', ' Miss', ' Master', ' Mr', ' Mr', ' Mr', ' Miss', ' Mr', ' Mr', ' Mr', ' Miss', ' Miss', ' Mr', ' Mr', ' Mrs', ' Miss', ' Master', ' Master', ' Miss', ' Miss', ' Mrs', ' Master', ' Master', ' Master', ' Mr', ' Mr', ' Mrs', ' Mr', ' Mr', ' Mr', ' Mr', ' Master', ' Miss', ' Mrs', ' Mr', ' Mr', ' Mr', ' Mr', ' Mr', ' Mr', ' Mr', ' Master', ' Miss', ' Mrs', ' Miss', ' Mr', ' Miss', ' Mr', ' Mr', ' Mr', ' Miss', ' Mr', ' Mr', ' Mr', ' Mr', ' Mr', ' Mrs', ' Mr', ' Mr', ' Mr', ' Mr', ' Master', ' Master', ' Master', ' Master', ' Master', ' Mrs', ' Miss', ' Mr', ' Miss', ' Mr', ' Mrs', ' Mr', ' Mrs', ' Mr', ' Mr', ' Miss', ' Mr', ' Mrs', ' Miss', ' Mr', ' Mr', ' Mr', ' Mr', ' Mr', ' Mr', ' Mr', ' Mr', ' Mr', ' Mr', ' Master', ' Master', ' Miss', ' Miss', ' Miss', ' Miss', ' Mr', ' Mr', ' Mr', ' Mr', ' Mrs', ' Mr', ' Miss', ' Mr', ' Mr', ' Mr', ' Mr', ' Miss', ' Mrs', ' Miss', ' Mr', ' Mr', ' Mr', ' Mr', ' Mr', ' Mr', ' Mr', ' Mr', ' Miss', ' Mr', ' Mr', ' Mr', ' Mr', ' Mr', ' Mr', ' Miss', ' Master', ' Master', ' Miss', ' Miss', ' Mr', ' Mrs', ' Mr', ' Mr', ' Mr', ' Mr', ' Miss', ' Mr', ' Mr', ' Mr', ' Mr', ' Mr', ' Mr', ' Miss', ' Mr', ' Mr', ' Mr', ' Miss', ' Mr', ' Mr', ' Miss', ' Mrs', ' Mr', ' Mr', ' Mr', ' Mr', ' Mr', ' Mr', ' Mr', ' Mr', ' Master', ' Mr', ' Mr', ' Mr', ' Mrs', ' Mr', ' Mr', ' Mrs', ' Mr', ' Mr', ' Mr', ' Mr', ' Mr', ' Mr', ' Mr', ' Mr', ' Master', ' Miss', ' Mrs', ' Mr', ' Miss', ' Mrs', ' Master', ' Master', ' Mr', ' Miss', ' Mr', ' Mrs', ' Mr', ' Mr', ' Mr', ' Mr', ' Mr', ' Miss', ' Mr', ' Mr', ' Mrs', ' Mr', ' Mr', ' Miss', ' Mr', ' Mr', ' Mr', ' Mr', ' Mr', ' Mr', ' Mrs', ' Mr', ' Mr', ' Mr', ' Mrs', ' Mr', ' Mr', ' Mr', ' Mr', ' Mr', ' Mr', ' Mr', ' Mr', ' Mr', ' Mrs', ' Mr', ' Mr', ' Mr', ' Miss', ' Miss', ' Mr', ' Mr', ' Mr']\n"
     ]
    }
   ],
   "source": [
    "title2=[]\n",
    "i=0\n",
    "for x in title1:\n",
    "    title2.append(title1[i][0])\n",
    "    i=i+1\n",
    "print(title2)"
   ]
  },
  {
   "cell_type": "code",
   "execution_count": 33,
   "metadata": {},
   "outputs": [],
   "source": [
    "df.drop([\"name\"], axis = 1, inplace = True)"
   ]
  },
  {
   "cell_type": "code",
   "execution_count": 34,
   "metadata": {},
   "outputs": [
    {
     "data": {
      "text/html": [
       "<div>\n",
       "<style scoped>\n",
       "    .dataframe tbody tr th:only-of-type {\n",
       "        vertical-align: middle;\n",
       "    }\n",
       "\n",
       "    .dataframe tbody tr th {\n",
       "        vertical-align: top;\n",
       "    }\n",
       "\n",
       "    .dataframe thead th {\n",
       "        text-align: right;\n",
       "    }\n",
       "</style>\n",
       "<table border=\"1\" class=\"dataframe\">\n",
       "  <thead>\n",
       "    <tr style=\"text-align: right;\">\n",
       "      <th></th>\n",
       "      <th>pclass</th>\n",
       "      <th>survived</th>\n",
       "      <th>sex</th>\n",
       "      <th>age</th>\n",
       "      <th>sibsp</th>\n",
       "      <th>parch</th>\n",
       "      <th>ticket</th>\n",
       "      <th>fare</th>\n",
       "      <th>embarked</th>\n",
       "      <th>home.dest</th>\n",
       "    </tr>\n",
       "  </thead>\n",
       "  <tbody>\n",
       "    <tr>\n",
       "      <th>0</th>\n",
       "      <td>1.0</td>\n",
       "      <td>1.0</td>\n",
       "      <td>female</td>\n",
       "      <td>29.0000</td>\n",
       "      <td>0.0</td>\n",
       "      <td>0.0</td>\n",
       "      <td>24160</td>\n",
       "      <td>211.3375</td>\n",
       "      <td>S</td>\n",
       "      <td>St Louis, MO</td>\n",
       "    </tr>\n",
       "    <tr>\n",
       "      <th>1</th>\n",
       "      <td>1.0</td>\n",
       "      <td>1.0</td>\n",
       "      <td>male</td>\n",
       "      <td>0.9167</td>\n",
       "      <td>1.0</td>\n",
       "      <td>2.0</td>\n",
       "      <td>113781</td>\n",
       "      <td>151.5500</td>\n",
       "      <td>S</td>\n",
       "      <td>Montreal, PQ / Chesterville, ON</td>\n",
       "    </tr>\n",
       "    <tr>\n",
       "      <th>2</th>\n",
       "      <td>1.0</td>\n",
       "      <td>0.0</td>\n",
       "      <td>female</td>\n",
       "      <td>2.0000</td>\n",
       "      <td>1.0</td>\n",
       "      <td>2.0</td>\n",
       "      <td>113781</td>\n",
       "      <td>151.5500</td>\n",
       "      <td>S</td>\n",
       "      <td>Montreal, PQ / Chesterville, ON</td>\n",
       "    </tr>\n",
       "    <tr>\n",
       "      <th>3</th>\n",
       "      <td>1.0</td>\n",
       "      <td>0.0</td>\n",
       "      <td>male</td>\n",
       "      <td>30.0000</td>\n",
       "      <td>1.0</td>\n",
       "      <td>2.0</td>\n",
       "      <td>113781</td>\n",
       "      <td>151.5500</td>\n",
       "      <td>S</td>\n",
       "      <td>Montreal, PQ / Chesterville, ON</td>\n",
       "    </tr>\n",
       "    <tr>\n",
       "      <th>4</th>\n",
       "      <td>1.0</td>\n",
       "      <td>0.0</td>\n",
       "      <td>female</td>\n",
       "      <td>25.0000</td>\n",
       "      <td>1.0</td>\n",
       "      <td>2.0</td>\n",
       "      <td>113781</td>\n",
       "      <td>151.5500</td>\n",
       "      <td>S</td>\n",
       "      <td>Montreal, PQ / Chesterville, ON</td>\n",
       "    </tr>\n",
       "  </tbody>\n",
       "</table>\n",
       "</div>"
      ],
      "text/plain": [
       "   pclass  survived     sex      age  sibsp  parch  ticket      fare embarked  \\\n",
       "0     1.0       1.0  female  29.0000    0.0    0.0   24160  211.3375        S   \n",
       "1     1.0       1.0    male   0.9167    1.0    2.0  113781  151.5500        S   \n",
       "2     1.0       0.0  female   2.0000    1.0    2.0  113781  151.5500        S   \n",
       "3     1.0       0.0    male  30.0000    1.0    2.0  113781  151.5500        S   \n",
       "4     1.0       0.0  female  25.0000    1.0    2.0  113781  151.5500        S   \n",
       "\n",
       "                         home.dest  \n",
       "0                     St Louis, MO  \n",
       "1  Montreal, PQ / Chesterville, ON  \n",
       "2  Montreal, PQ / Chesterville, ON  \n",
       "3  Montreal, PQ / Chesterville, ON  \n",
       "4  Montreal, PQ / Chesterville, ON  "
      ]
     },
     "execution_count": 34,
     "metadata": {},
     "output_type": "execute_result"
    }
   ],
   "source": [
    "df.head()"
   ]
  },
  {
   "cell_type": "code",
   "execution_count": 35,
   "metadata": {},
   "outputs": [],
   "source": [
    "df['Title']=title2"
   ]
  },
  {
   "cell_type": "code",
   "execution_count": 36,
   "metadata": {},
   "outputs": [
    {
     "data": {
      "text/html": [
       "<div>\n",
       "<style scoped>\n",
       "    .dataframe tbody tr th:only-of-type {\n",
       "        vertical-align: middle;\n",
       "    }\n",
       "\n",
       "    .dataframe tbody tr th {\n",
       "        vertical-align: top;\n",
       "    }\n",
       "\n",
       "    .dataframe thead th {\n",
       "        text-align: right;\n",
       "    }\n",
       "</style>\n",
       "<table border=\"1\" class=\"dataframe\">\n",
       "  <thead>\n",
       "    <tr style=\"text-align: right;\">\n",
       "      <th></th>\n",
       "      <th>pclass</th>\n",
       "      <th>survived</th>\n",
       "      <th>sex</th>\n",
       "      <th>age</th>\n",
       "      <th>sibsp</th>\n",
       "      <th>parch</th>\n",
       "      <th>ticket</th>\n",
       "      <th>fare</th>\n",
       "      <th>embarked</th>\n",
       "      <th>home.dest</th>\n",
       "      <th>Title</th>\n",
       "    </tr>\n",
       "  </thead>\n",
       "  <tbody>\n",
       "    <tr>\n",
       "      <th>0</th>\n",
       "      <td>1.0</td>\n",
       "      <td>1.0</td>\n",
       "      <td>female</td>\n",
       "      <td>29.0000</td>\n",
       "      <td>0.0</td>\n",
       "      <td>0.0</td>\n",
       "      <td>24160</td>\n",
       "      <td>211.3375</td>\n",
       "      <td>S</td>\n",
       "      <td>St Louis, MO</td>\n",
       "      <td>Miss</td>\n",
       "    </tr>\n",
       "    <tr>\n",
       "      <th>1</th>\n",
       "      <td>1.0</td>\n",
       "      <td>1.0</td>\n",
       "      <td>male</td>\n",
       "      <td>0.9167</td>\n",
       "      <td>1.0</td>\n",
       "      <td>2.0</td>\n",
       "      <td>113781</td>\n",
       "      <td>151.5500</td>\n",
       "      <td>S</td>\n",
       "      <td>Montreal, PQ / Chesterville, ON</td>\n",
       "      <td>Master</td>\n",
       "    </tr>\n",
       "    <tr>\n",
       "      <th>2</th>\n",
       "      <td>1.0</td>\n",
       "      <td>0.0</td>\n",
       "      <td>female</td>\n",
       "      <td>2.0000</td>\n",
       "      <td>1.0</td>\n",
       "      <td>2.0</td>\n",
       "      <td>113781</td>\n",
       "      <td>151.5500</td>\n",
       "      <td>S</td>\n",
       "      <td>Montreal, PQ / Chesterville, ON</td>\n",
       "      <td>Miss</td>\n",
       "    </tr>\n",
       "    <tr>\n",
       "      <th>3</th>\n",
       "      <td>1.0</td>\n",
       "      <td>0.0</td>\n",
       "      <td>male</td>\n",
       "      <td>30.0000</td>\n",
       "      <td>1.0</td>\n",
       "      <td>2.0</td>\n",
       "      <td>113781</td>\n",
       "      <td>151.5500</td>\n",
       "      <td>S</td>\n",
       "      <td>Montreal, PQ / Chesterville, ON</td>\n",
       "      <td>Mr</td>\n",
       "    </tr>\n",
       "    <tr>\n",
       "      <th>4</th>\n",
       "      <td>1.0</td>\n",
       "      <td>0.0</td>\n",
       "      <td>female</td>\n",
       "      <td>25.0000</td>\n",
       "      <td>1.0</td>\n",
       "      <td>2.0</td>\n",
       "      <td>113781</td>\n",
       "      <td>151.5500</td>\n",
       "      <td>S</td>\n",
       "      <td>Montreal, PQ / Chesterville, ON</td>\n",
       "      <td>Mrs</td>\n",
       "    </tr>\n",
       "  </tbody>\n",
       "</table>\n",
       "</div>"
      ],
      "text/plain": [
       "   pclass  survived     sex      age  sibsp  parch  ticket      fare embarked  \\\n",
       "0     1.0       1.0  female  29.0000    0.0    0.0   24160  211.3375        S   \n",
       "1     1.0       1.0    male   0.9167    1.0    2.0  113781  151.5500        S   \n",
       "2     1.0       0.0  female   2.0000    1.0    2.0  113781  151.5500        S   \n",
       "3     1.0       0.0    male  30.0000    1.0    2.0  113781  151.5500        S   \n",
       "4     1.0       0.0  female  25.0000    1.0    2.0  113781  151.5500        S   \n",
       "\n",
       "                         home.dest    Title  \n",
       "0                     St Louis, MO     Miss  \n",
       "1  Montreal, PQ / Chesterville, ON   Master  \n",
       "2  Montreal, PQ / Chesterville, ON     Miss  \n",
       "3  Montreal, PQ / Chesterville, ON       Mr  \n",
       "4  Montreal, PQ / Chesterville, ON      Mrs  "
      ]
     },
     "execution_count": 36,
     "metadata": {},
     "output_type": "execute_result"
    }
   ],
   "source": [
    "df.head()"
   ]
  },
  {
   "cell_type": "code",
   "execution_count": 37,
   "metadata": {},
   "outputs": [
    {
     "data": {
      "text/plain": [
       "<seaborn.axisgrid.FacetGrid at 0x2a253fd5d48>"
      ]
     },
     "execution_count": 37,
     "metadata": {},
     "output_type": "execute_result"
    },
    {
     "data": {
      "image/png": "[encoded data removed]",
      "text/plain": [
       "<Figure size 432x216 with 2 Axes>"
      ]
     },
     "metadata": {
      "needs_background": "light"
     },
     "output_type": "display_data"
    }
   ],
   "source": [
    "g= sns.FacetGrid(df,col='survived')\n",
    "g.map(plt.hist,'age',bins=20)"
   ]
  },
  {
   "cell_type": "code",
   "execution_count": 38,
   "metadata": {},
   "outputs": [
    {
     "data": {
      "text/plain": [
       "<seaborn.axisgrid.FacetGrid at 0x2a2540edfc8>"
      ]
     },
     "execution_count": 38,
     "metadata": {},
     "output_type": "execute_result"
    },
    {
     "data": {
      "image/png": "[encoded data removed]",
      "text/plain": [
       "<Figure size 514.88x2851.2 with 36 Axes>"
      ]
     },
     "metadata": {
      "needs_background": "light"
     },
     "output_type": "display_data"
    }
   ],
   "source": [
    "grid = sns.FacetGrid(df,row='Title',col='survived', height=2.2, aspect=1.6)\n",
    "grid.map(plt.hist,'age', alpha=.5 )\n",
    "grid.add_legend()"
   ]
  },
  {
   "cell_type": "code",
   "execution_count": 39,
   "metadata": {},
   "outputs": [
    {
     "data": {
      "text/plain": [
       " Mr              757\n",
       " Miss            260\n",
       " Mrs             197\n",
       " Master           61\n",
       " Dr                8\n",
       " Rev               8\n",
       " Col               4\n",
       " Ms                2\n",
       " Mlle              2\n",
       " Major             2\n",
       " Don               1\n",
       " Jonkheer          1\n",
       " Capt              1\n",
       " Mme               1\n",
       " the Countess      1\n",
       " Dona              1\n",
       " Sir               1\n",
       " Lady              1\n",
       "Name: Title, dtype: int64"
      ]
     },
     "execution_count": 39,
     "metadata": {},
     "output_type": "execute_result"
    }
   ],
   "source": [
    "df['Title'].value_counts()"
   ]
  },
  {
   "cell_type": "code",
   "execution_count": 40,
   "metadata": {},
   "outputs": [
    {
     "data": {
      "text/plain": [
       "<seaborn.axisgrid.FacetGrid at 0x2a2554abac8>"
      ]
     },
     "execution_count": 40,
     "metadata": {},
     "output_type": "execute_result"
    },
    {
     "data": {
      "image/png": "[encoded data removed]",
      "text/plain": [
       "<Figure size 514.88x2851.2 with 36 Axes>"
      ]
     },
     "metadata": {
      "needs_background": "light"
     },
     "output_type": "display_data"
    }
   ],
   "source": [
    "grid = sns.FacetGrid(df,row='Title',col='survived', height=2.2, aspect=1.6)\n",
    "grid.map(plt.hist,'fare',alpha=.5 )\n",
    "grid.add_legend()"
   ]
  },
  {
   "cell_type": "code",
   "execution_count": 41,
   "metadata": {},
   "outputs": [],
   "source": [
    "Title_Dictionary = {\n",
    "                    \"Capt\":       \"Officer\",\n",
    "                    \"Col\":        \"Officer\",\n",
    "                    \"Major\":      \"Officer\",\n",
    "                    \"Jonkheer\":   \"Royalty\",\n",
    "                    \"Don\":        \"Royalty\",\n",
    "                    \"Sir\" :       \"Royalty\",\n",
    "                    \"Dr\":         \"Officer\",\n",
    "                    \"Rev\":        \"Officer\",\n",
    "                    \"the Countess\":\"Royalty\",\n",
    "                    \"Dona\":       \"Royalty\",\n",
    "                    \"Mme\":        \"Mrs\",\n",
    "                    \"Mlle\":       \"Miss\",\n",
    "                    \"Ms\":         \"Mrs\",\n",
    "                    \"Mr\" :        \"Mr\",\n",
    "                    \"Mrs\" :       \"Mrs\",\n",
    "                    \"Miss\" :      \"Miss\",\n",
    "                    \"Master\" :    \"Master\",\n",
    "                    \"Lady\" :      \"Royalty\"\n",
    "}\n",
    "df['Title']=df['Title'].map(Title_Dictionary)"
   ]
  },
  {
   "cell_type": "code",
   "execution_count": null,
   "metadata": {},
   "outputs": [],
   "source": [
    "familysize=pd.DataFrame()\n",
    "familysize['family']=df['parch']+df['sibsp']\n",
    "familysize.head()\n",
    "df['family']=familysize['family']"
   ]
  },
  {
   "cell_type": "code",
   "execution_count": 49,
   "metadata": {},
   "outputs": [
    {
     "data": {
      "text/html": [
       "<div>\n",
       "<style scoped>\n",
       "    .dataframe tbody tr th:only-of-type {\n",
       "        vertical-align: middle;\n",
       "    }\n",
       "\n",
       "    .dataframe tbody tr th {\n",
       "        vertical-align: top;\n",
       "    }\n",
       "\n",
       "    .dataframe thead th {\n",
       "        text-align: right;\n",
       "    }\n",
       "</style>\n",
       "<table border=\"1\" class=\"dataframe\">\n",
       "  <thead>\n",
       "    <tr style=\"text-align: right;\">\n",
       "      <th></th>\n",
       "      <th>pclass</th>\n",
       "      <th>survived</th>\n",
       "      <th>sex</th>\n",
       "      <th>age</th>\n",
       "      <th>sibsp</th>\n",
       "      <th>parch</th>\n",
       "      <th>ticket</th>\n",
       "      <th>fare</th>\n",
       "      <th>embarked</th>\n",
       "      <th>home.dest</th>\n",
       "      <th>Title</th>\n",
       "      <th>family</th>\n",
       "    </tr>\n",
       "  </thead>\n",
       "  <tbody>\n",
       "    <tr>\n",
       "      <th>0</th>\n",
       "      <td>1.0</td>\n",
       "      <td>1.0</td>\n",
       "      <td>female</td>\n",
       "      <td>29.0000</td>\n",
       "      <td>0.0</td>\n",
       "      <td>0.0</td>\n",
       "      <td>24160</td>\n",
       "      <td>211.3375</td>\n",
       "      <td>S</td>\n",
       "      <td>St Louis, MO</td>\n",
       "      <td>NaN</td>\n",
       "      <td>0.0</td>\n",
       "    </tr>\n",
       "    <tr>\n",
       "      <th>1</th>\n",
       "      <td>1.0</td>\n",
       "      <td>1.0</td>\n",
       "      <td>male</td>\n",
       "      <td>0.9167</td>\n",
       "      <td>1.0</td>\n",
       "      <td>2.0</td>\n",
       "      <td>113781</td>\n",
       "      <td>151.5500</td>\n",
       "      <td>S</td>\n",
       "      <td>Montreal, PQ / Chesterville, ON</td>\n",
       "      <td>NaN</td>\n",
       "      <td>3.0</td>\n",
       "    </tr>\n",
       "    <tr>\n",
       "      <th>2</th>\n",
       "      <td>1.0</td>\n",
       "      <td>0.0</td>\n",
       "      <td>female</td>\n",
       "      <td>2.0000</td>\n",
       "      <td>1.0</td>\n",
       "      <td>2.0</td>\n",
       "      <td>113781</td>\n",
       "      <td>151.5500</td>\n",
       "      <td>S</td>\n",
       "      <td>Montreal, PQ / Chesterville, ON</td>\n",
       "      <td>NaN</td>\n",
       "      <td>3.0</td>\n",
       "    </tr>\n",
       "    <tr>\n",
       "      <th>3</th>\n",
       "      <td>1.0</td>\n",
       "      <td>0.0</td>\n",
       "      <td>male</td>\n",
       "      <td>30.0000</td>\n",
       "      <td>1.0</td>\n",
       "      <td>2.0</td>\n",
       "      <td>113781</td>\n",
       "      <td>151.5500</td>\n",
       "      <td>S</td>\n",
       "      <td>Montreal, PQ / Chesterville, ON</td>\n",
       "      <td>NaN</td>\n",
       "      <td>3.0</td>\n",
       "    </tr>\n",
       "    <tr>\n",
       "      <th>4</th>\n",
       "      <td>1.0</td>\n",
       "      <td>0.0</td>\n",
       "      <td>female</td>\n",
       "      <td>25.0000</td>\n",
       "      <td>1.0</td>\n",
       "      <td>2.0</td>\n",
       "      <td>113781</td>\n",
       "      <td>151.5500</td>\n",
       "      <td>S</td>\n",
       "      <td>Montreal, PQ / Chesterville, ON</td>\n",
       "      <td>NaN</td>\n",
       "      <td>3.0</td>\n",
       "    </tr>\n",
       "  </tbody>\n",
       "</table>\n",
       "</div>"
      ],
      "text/plain": [
       "   pclass  survived     sex      age  sibsp  parch  ticket      fare embarked  \\\n",
       "0     1.0       1.0  female  29.0000    0.0    0.0   24160  211.3375        S   \n",
       "1     1.0       1.0    male   0.9167    1.0    2.0  113781  151.5500        S   \n",
       "2     1.0       0.0  female   2.0000    1.0    2.0  113781  151.5500        S   \n",
       "3     1.0       0.0    male  30.0000    1.0    2.0  113781  151.5500        S   \n",
       "4     1.0       0.0  female  25.0000    1.0    2.0  113781  151.5500        S   \n",
       "\n",
       "                         home.dest Title  family  \n",
       "0                     St Louis, MO   NaN     0.0  \n",
       "1  Montreal, PQ / Chesterville, ON   NaN     3.0  \n",
       "2  Montreal, PQ / Chesterville, ON   NaN     3.0  \n",
       "3  Montreal, PQ / Chesterville, ON   NaN     3.0  \n",
       "4  Montreal, PQ / Chesterville, ON   NaN     3.0  "
      ]
     },
     "execution_count": 49,
     "metadata": {},
     "output_type": "execute_result"
    }
   ],
   "source": [
    "df.head()"
   ]
  },
  {
   "cell_type": "code",
   "execution_count": 50,
   "metadata": {},
   "outputs": [
    {
     "data": {
      "text/html": [
       "<div>\n",
       "<style scoped>\n",
       "    .dataframe tbody tr th:only-of-type {\n",
       "        vertical-align: middle;\n",
       "    }\n",
       "\n",
       "    .dataframe tbody tr th {\n",
       "        vertical-align: top;\n",
       "    }\n",
       "\n",
       "    .dataframe thead th {\n",
       "        text-align: right;\n",
       "    }\n",
       "</style>\n",
       "<table border=\"1\" class=\"dataframe\">\n",
       "  <thead>\n",
       "    <tr style=\"text-align: right;\">\n",
       "      <th></th>\n",
       "      <th>pclass</th>\n",
       "      <th>survived</th>\n",
       "      <th>sex</th>\n",
       "      <th>age</th>\n",
       "      <th>sibsp</th>\n",
       "      <th>parch</th>\n",
       "      <th>ticket</th>\n",
       "      <th>fare</th>\n",
       "      <th>embarked</th>\n",
       "      <th>home.dest</th>\n",
       "      <th>Title</th>\n",
       "      <th>family</th>\n",
       "    </tr>\n",
       "  </thead>\n",
       "  <tbody>\n",
       "    <tr>\n",
       "      <th>1304</th>\n",
       "      <td>3.0</td>\n",
       "      <td>0.0</td>\n",
       "      <td>female</td>\n",
       "      <td>14.500000</td>\n",
       "      <td>1.0</td>\n",
       "      <td>0.0</td>\n",
       "      <td>2665</td>\n",
       "      <td>14.4542</td>\n",
       "      <td>C</td>\n",
       "      <td>New York, NY</td>\n",
       "      <td>NaN</td>\n",
       "      <td>1.0</td>\n",
       "    </tr>\n",
       "    <tr>\n",
       "      <th>1305</th>\n",
       "      <td>3.0</td>\n",
       "      <td>0.0</td>\n",
       "      <td>female</td>\n",
       "      <td>29.881135</td>\n",
       "      <td>1.0</td>\n",
       "      <td>0.0</td>\n",
       "      <td>2665</td>\n",
       "      <td>14.4542</td>\n",
       "      <td>C</td>\n",
       "      <td>New York, NY</td>\n",
       "      <td>NaN</td>\n",
       "      <td>1.0</td>\n",
       "    </tr>\n",
       "    <tr>\n",
       "      <th>1306</th>\n",
       "      <td>3.0</td>\n",
       "      <td>0.0</td>\n",
       "      <td>male</td>\n",
       "      <td>26.500000</td>\n",
       "      <td>0.0</td>\n",
       "      <td>0.0</td>\n",
       "      <td>2656</td>\n",
       "      <td>7.2250</td>\n",
       "      <td>C</td>\n",
       "      <td>New York, NY</td>\n",
       "      <td>NaN</td>\n",
       "      <td>0.0</td>\n",
       "    </tr>\n",
       "    <tr>\n",
       "      <th>1307</th>\n",
       "      <td>3.0</td>\n",
       "      <td>0.0</td>\n",
       "      <td>male</td>\n",
       "      <td>27.000000</td>\n",
       "      <td>0.0</td>\n",
       "      <td>0.0</td>\n",
       "      <td>2670</td>\n",
       "      <td>7.2250</td>\n",
       "      <td>C</td>\n",
       "      <td>New York, NY</td>\n",
       "      <td>NaN</td>\n",
       "      <td>0.0</td>\n",
       "    </tr>\n",
       "    <tr>\n",
       "      <th>1308</th>\n",
       "      <td>3.0</td>\n",
       "      <td>0.0</td>\n",
       "      <td>male</td>\n",
       "      <td>29.000000</td>\n",
       "      <td>0.0</td>\n",
       "      <td>0.0</td>\n",
       "      <td>315082</td>\n",
       "      <td>7.8750</td>\n",
       "      <td>S</td>\n",
       "      <td>New York, NY</td>\n",
       "      <td>NaN</td>\n",
       "      <td>0.0</td>\n",
       "    </tr>\n",
       "  </tbody>\n",
       "</table>\n",
       "</div>"
      ],
      "text/plain": [
       "      pclass  survived     sex        age  sibsp  parch  ticket     fare  \\\n",
       "1304     3.0       0.0  female  14.500000    1.0    0.0    2665  14.4542   \n",
       "1305     3.0       0.0  female  29.881135    1.0    0.0    2665  14.4542   \n",
       "1306     3.0       0.0    male  26.500000    0.0    0.0    2656   7.2250   \n",
       "1307     3.0       0.0    male  27.000000    0.0    0.0    2670   7.2250   \n",
       "1308     3.0       0.0    male  29.000000    0.0    0.0  315082   7.8750   \n",
       "\n",
       "     embarked     home.dest Title  family  \n",
       "1304        C  New York, NY   NaN     1.0  \n",
       "1305        C  New York, NY   NaN     1.0  \n",
       "1306        C  New York, NY   NaN     0.0  \n",
       "1307        C  New York, NY   NaN     0.0  \n",
       "1308        S  New York, NY   NaN     0.0  "
      ]
     },
     "execution_count": 50,
     "metadata": {},
     "output_type": "execute_result"
    }
   ],
   "source": [
    "df.tail()"
   ]
  },
  {
   "cell_type": "code",
   "execution_count": null,
   "metadata": {},
   "outputs": [],
   "source": []
  },
  {
   "cell_type": "code",
   "execution_count": null,
   "metadata": {},
   "outputs": [],
   "source": []
  },
  {
   "cell_type": "code",
   "execution_count": null,
   "metadata": {},
   "outputs": [],
   "source": []
  }
 ],
 "metadata": {
  "kernelspec": {
   "display_name": "Python 3",
   "language": "python",
   "name": "python3"
  },
  "language_info": {
   "codemirror_mode": {
    "name": "ipython",
    "version": 3
   },
   "file_extension": ".py",
   "mimetype": "text/x-python",
   "name": "python",
   "nbconvert_exporter": "python",
   "pygments_lexer": "ipython3",
   "version": "3.7.6"
  }
 },
 "nbformat": 4,
 "nbformat_minor": 4
}
